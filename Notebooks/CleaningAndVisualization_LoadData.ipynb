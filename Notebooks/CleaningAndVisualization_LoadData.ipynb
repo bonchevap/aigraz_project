{
  "nbformat": 4,
  "nbformat_minor": 0,
  "metadata": {
    "colab": {
      "name": "CleaningAndVisualization_LoadData.ipynb",
      "provenance": [],
      "collapsed_sections": [],
      "authorship_tag": "ABX9TyNQfsBZ/wl7Xn3+8bbEbVkQ",
      "include_colab_link": true
    },
    "kernelspec": {
      "name": "python3",
      "display_name": "Python 3"
    }
  },
  "cells": [
    {
      "cell_type": "markdown",
      "metadata": {
        "id": "view-in-github",
        "colab_type": "text"
      },
      "source": [
        "<a href=\"https://colab.research.google.com/github/bonchevap/aigraz_project/blob/master/Notebooks/CleaningAndVisualization_LoadData.ipynb\" target=\"_parent\"><img src=\"https://colab.research.google.com/assets/colab-badge.svg\" alt=\"Open In Colab\"/></a>"
      ]
    },
    {
      "cell_type": "code",
      "metadata": {
        "id": "_5Pc0rYvjtqQ",
        "colab_type": "code",
        "colab": {}
      },
      "source": [
        "import pandas as pd\n",
        "import plotly.express as px\n",
        "import plotly.graph_objects as go\n",
        "from sklearn.model_selection import train_test_split\n",
        "from sklearn.ensemble import RandomForestRegressor\n",
        "from sklearn.metrics import mean_squared_error\n",
        "import pickle\n",
        "import numpy as np\n",
        "from sklearn.impute import SimpleImputer "
      ],
      "execution_count": 0,
      "outputs": []
    },
    {
      "cell_type": "markdown",
      "metadata": {
        "id": "x3jPfiwyCjvA",
        "colab_type": "text"
      },
      "source": [
        "**Get the data from ENTSO-E platform**"
      ]
    },
    {
      "cell_type": "code",
      "metadata": {
        "id": "xqnXpzd5jy3H",
        "colab_type": "code",
        "outputId": "e5a0713e-466f-4193-fef4-ca5eeeb0e68a",
        "colab": {
          "base_uri": "https://localhost:8080/",
          "height": 496
        }
      },
      "source": [
        "! wget https://eepublicdownloads.blob.core.windows.net/public-cdn-container/clean-documents/Publications/Statistics/MHLV_data-2015-2017.xlsx\n",
        "df=pd.read_excel(\"MHLV_data-2015-2017.xlsx\")\n",
        "df.head()"
      ],
      "execution_count": 3,
      "outputs": [
        {
          "output_type": "stream",
          "text": [
            "--2020-05-24 18:59:59--  https://eepublicdownloads.blob.core.windows.net/public-cdn-container/clean-documents/Publications/Statistics/MHLV_data-2015-2017.xlsx\n",
            "Resolving eepublicdownloads.blob.core.windows.net (eepublicdownloads.blob.core.windows.net)... 52.239.248.196\n",
            "Connecting to eepublicdownloads.blob.core.windows.net (eepublicdownloads.blob.core.windows.net)|52.239.248.196|:443... connected.\n",
            "HTTP request sent, awaiting response... 200 OK\n",
            "Length: 47495497 (45M) [application/vnd.openxmlformats-officedocument.spreadsheetml.sheet]\n",
            "Saving to: ‘MHLV_data-2015-2017.xlsx’\n",
            "\n",
            "MHLV_data-2015-2017 100%[===================>]  45.29M  11.1MB/s    in 5.3s    \n",
            "\n",
            "2020-05-24 19:00:05 (8.55 MB/s) - ‘MHLV_data-2015-2017.xlsx’ saved [47495497/47495497]\n",
            "\n"
          ],
          "name": "stdout"
        },
        {
          "output_type": "execute_result",
          "data": {
            "text/html": [
              "<div>\n",
              "<style scoped>\n",
              "    .dataframe tbody tr th:only-of-type {\n",
              "        vertical-align: middle;\n",
              "    }\n",
              "\n",
              "    .dataframe tbody tr th {\n",
              "        vertical-align: top;\n",
              "    }\n",
              "\n",
              "    .dataframe thead th {\n",
              "        text-align: right;\n",
              "    }\n",
              "</style>\n",
              "<table border=\"1\" class=\"dataframe\">\n",
              "  <thead>\n",
              "    <tr style=\"text-align: right;\">\n",
              "      <th></th>\n",
              "      <th>MeasureItem</th>\n",
              "      <th>DateUTC</th>\n",
              "      <th>DateShort</th>\n",
              "      <th>TimeFrom</th>\n",
              "      <th>TimeTo</th>\n",
              "      <th>CountryCode</th>\n",
              "      <th>Cov_ratio</th>\n",
              "      <th>Value</th>\n",
              "      <th>Value_ScaleTo100</th>\n",
              "    </tr>\n",
              "  </thead>\n",
              "  <tbody>\n",
              "    <tr>\n",
              "      <th>0</th>\n",
              "      <td>Monthly Hourly Load Values</td>\n",
              "      <td>2014-12-31 23:00:00</td>\n",
              "      <td>2014-12-31</td>\n",
              "      <td>23:00:00</td>\n",
              "      <td>00:00:00</td>\n",
              "      <td>DE</td>\n",
              "      <td>98</td>\n",
              "      <td>46419.79</td>\n",
              "      <td>47367.132653</td>\n",
              "    </tr>\n",
              "    <tr>\n",
              "      <th>1</th>\n",
              "      <td>Monthly Hourly Load Values</td>\n",
              "      <td>2015-01-01 00:00:00</td>\n",
              "      <td>2015-01-01</td>\n",
              "      <td>00:00:00</td>\n",
              "      <td>01:00:00</td>\n",
              "      <td>DE</td>\n",
              "      <td>98</td>\n",
              "      <td>44898.30</td>\n",
              "      <td>45814.591837</td>\n",
              "    </tr>\n",
              "    <tr>\n",
              "      <th>2</th>\n",
              "      <td>Monthly Hourly Load Values</td>\n",
              "      <td>2015-01-01 01:00:00</td>\n",
              "      <td>2015-01-01</td>\n",
              "      <td>01:00:00</td>\n",
              "      <td>02:00:00</td>\n",
              "      <td>DE</td>\n",
              "      <td>98</td>\n",
              "      <td>43305.31</td>\n",
              "      <td>44189.091837</td>\n",
              "    </tr>\n",
              "    <tr>\n",
              "      <th>3</th>\n",
              "      <td>Monthly Hourly Load Values</td>\n",
              "      <td>2015-01-01 02:00:00</td>\n",
              "      <td>2015-01-01</td>\n",
              "      <td>02:00:00</td>\n",
              "      <td>03:00:00</td>\n",
              "      <td>DE</td>\n",
              "      <td>98</td>\n",
              "      <td>41918.17</td>\n",
              "      <td>42773.642857</td>\n",
              "    </tr>\n",
              "    <tr>\n",
              "      <th>4</th>\n",
              "      <td>Monthly Hourly Load Values</td>\n",
              "      <td>2015-01-01 03:00:00</td>\n",
              "      <td>2015-01-01</td>\n",
              "      <td>03:00:00</td>\n",
              "      <td>04:00:00</td>\n",
              "      <td>DE</td>\n",
              "      <td>98</td>\n",
              "      <td>41330.17</td>\n",
              "      <td>42173.642857</td>\n",
              "    </tr>\n",
              "  </tbody>\n",
              "</table>\n",
              "</div>"
            ],
            "text/plain": [
              "                  MeasureItem             DateUTC  ...     Value Value_ScaleTo100\n",
              "0  Monthly Hourly Load Values 2014-12-31 23:00:00  ...  46419.79     47367.132653\n",
              "1  Monthly Hourly Load Values 2015-01-01 00:00:00  ...  44898.30     45814.591837\n",
              "2  Monthly Hourly Load Values 2015-01-01 01:00:00  ...  43305.31     44189.091837\n",
              "3  Monthly Hourly Load Values 2015-01-01 02:00:00  ...  41918.17     42773.642857\n",
              "4  Monthly Hourly Load Values 2015-01-01 03:00:00  ...  41330.17     42173.642857\n",
              "\n",
              "[5 rows x 9 columns]"
            ]
          },
          "metadata": {
            "tags": []
          },
          "execution_count": 3
        }
      ]
    },
    {
      "cell_type": "markdown",
      "metadata": {
        "id": "rk6nnugzCvzj",
        "colab_type": "text"
      },
      "source": [
        "**We only need the data for Macedonia, which is country code MK**"
      ]
    },
    {
      "cell_type": "code",
      "metadata": {
        "id": "Hz0cGFjKj3ii",
        "colab_type": "code",
        "outputId": "7aabd951-860d-48b3-9159-4b10930df520",
        "colab": {
          "base_uri": "https://localhost:8080/",
          "height": 289
        }
      },
      "source": [
        "df_MK=df[df.CountryCode == \"MK\"]\n",
        "df_MK.head()"
      ],
      "execution_count": 4,
      "outputs": [
        {
          "output_type": "execute_result",
          "data": {
            "text/html": [
              "<div>\n",
              "<style scoped>\n",
              "    .dataframe tbody tr th:only-of-type {\n",
              "        vertical-align: middle;\n",
              "    }\n",
              "\n",
              "    .dataframe tbody tr th {\n",
              "        vertical-align: top;\n",
              "    }\n",
              "\n",
              "    .dataframe thead th {\n",
              "        text-align: right;\n",
              "    }\n",
              "</style>\n",
              "<table border=\"1\" class=\"dataframe\">\n",
              "  <thead>\n",
              "    <tr style=\"text-align: right;\">\n",
              "      <th></th>\n",
              "      <th>MeasureItem</th>\n",
              "      <th>DateUTC</th>\n",
              "      <th>DateShort</th>\n",
              "      <th>TimeFrom</th>\n",
              "      <th>TimeTo</th>\n",
              "      <th>CountryCode</th>\n",
              "      <th>Cov_ratio</th>\n",
              "      <th>Value</th>\n",
              "      <th>Value_ScaleTo100</th>\n",
              "    </tr>\n",
              "  </thead>\n",
              "  <tbody>\n",
              "    <tr>\n",
              "      <th>8789</th>\n",
              "      <td>Monthly Hourly Load Values</td>\n",
              "      <td>2015-12-31 23:00:00</td>\n",
              "      <td>2015-12-31</td>\n",
              "      <td>23:00:00</td>\n",
              "      <td>00:00:00</td>\n",
              "      <td>MK</td>\n",
              "      <td>100</td>\n",
              "      <td>1187.0</td>\n",
              "      <td>1187.0</td>\n",
              "    </tr>\n",
              "    <tr>\n",
              "      <th>8823</th>\n",
              "      <td>Monthly Hourly Load Values</td>\n",
              "      <td>2016-01-01 00:00:00</td>\n",
              "      <td>2016-01-01</td>\n",
              "      <td>00:00:00</td>\n",
              "      <td>01:00:00</td>\n",
              "      <td>MK</td>\n",
              "      <td>100</td>\n",
              "      <td>1142.0</td>\n",
              "      <td>1142.0</td>\n",
              "    </tr>\n",
              "    <tr>\n",
              "      <th>8858</th>\n",
              "      <td>Monthly Hourly Load Values</td>\n",
              "      <td>2016-01-01 01:00:00</td>\n",
              "      <td>2016-01-01</td>\n",
              "      <td>01:00:00</td>\n",
              "      <td>02:00:00</td>\n",
              "      <td>MK</td>\n",
              "      <td>100</td>\n",
              "      <td>1059.0</td>\n",
              "      <td>1059.0</td>\n",
              "    </tr>\n",
              "    <tr>\n",
              "      <th>8893</th>\n",
              "      <td>Monthly Hourly Load Values</td>\n",
              "      <td>2016-01-01 02:00:00</td>\n",
              "      <td>2016-01-01</td>\n",
              "      <td>02:00:00</td>\n",
              "      <td>03:00:00</td>\n",
              "      <td>MK</td>\n",
              "      <td>100</td>\n",
              "      <td>976.0</td>\n",
              "      <td>976.0</td>\n",
              "    </tr>\n",
              "    <tr>\n",
              "      <th>8928</th>\n",
              "      <td>Monthly Hourly Load Values</td>\n",
              "      <td>2016-01-01 03:00:00</td>\n",
              "      <td>2016-01-01</td>\n",
              "      <td>03:00:00</td>\n",
              "      <td>04:00:00</td>\n",
              "      <td>MK</td>\n",
              "      <td>100</td>\n",
              "      <td>929.0</td>\n",
              "      <td>929.0</td>\n",
              "    </tr>\n",
              "  </tbody>\n",
              "</table>\n",
              "</div>"
            ],
            "text/plain": [
              "                     MeasureItem             DateUTC  ...   Value Value_ScaleTo100\n",
              "8789  Monthly Hourly Load Values 2015-12-31 23:00:00  ...  1187.0           1187.0\n",
              "8823  Monthly Hourly Load Values 2016-01-01 00:00:00  ...  1142.0           1142.0\n",
              "8858  Monthly Hourly Load Values 2016-01-01 01:00:00  ...  1059.0           1059.0\n",
              "8893  Monthly Hourly Load Values 2016-01-01 02:00:00  ...   976.0            976.0\n",
              "8928  Monthly Hourly Load Values 2016-01-01 03:00:00  ...   929.0            929.0\n",
              "\n",
              "[5 rows x 9 columns]"
            ]
          },
          "metadata": {
            "tags": []
          },
          "execution_count": 4
        }
      ]
    },
    {
      "cell_type": "markdown",
      "metadata": {
        "id": "Zv53f9ObC6M0",
        "colab_type": "text"
      },
      "source": [
        "**Save dayofweek, month, year, day, hour and add weekend feature in separate columns and drop some values**"
      ]
    },
    {
      "cell_type": "code",
      "metadata": {
        "id": "IoAe5k4lkPUM",
        "colab_type": "code",
        "colab": {}
      },
      "source": [
        "df_MK=df_MK.assign(dayweek=df_MK.DateShort.dt.dayofweek)\n",
        "df_MK=df_MK.assign(month=df_MK.DateShort.dt.month)\n",
        "df_MK=df_MK.assign(year=df_MK.DateShort.dt.year)\n",
        "df_MK=df_MK.assign(day=df_MK.DateShort.dt.day)\n",
        "df_MK=df_MK.assign(hour=df_MK.DateUTC.dt.hour)\n",
        "df_MK=df_MK.assign(weekend=df_MK.DateShort.dt.dayofweek >=5)\n",
        "df_MK=df_MK.drop([\"DateUTC\", \"DateShort\", \"TimeFrom\", \"TimeTo\",\"CountryCode\", \"Cov_ratio\", \"MeasureItem\", \"Value_ScaleTo100\" ], axis=1)\n"
      ],
      "execution_count": 0,
      "outputs": []
    },
    {
      "cell_type": "code",
      "metadata": {
        "id": "Nhe6a1bfkRwf",
        "colab_type": "code",
        "outputId": "fb17c976-8d8b-46d6-8cfd-38fa1bda84ba",
        "colab": {
          "base_uri": "https://localhost:8080/",
          "height": 204
        }
      },
      "source": [
        "df_MK.head()"
      ],
      "execution_count": 6,
      "outputs": [
        {
          "output_type": "execute_result",
          "data": {
            "text/html": [
              "<div>\n",
              "<style scoped>\n",
              "    .dataframe tbody tr th:only-of-type {\n",
              "        vertical-align: middle;\n",
              "    }\n",
              "\n",
              "    .dataframe tbody tr th {\n",
              "        vertical-align: top;\n",
              "    }\n",
              "\n",
              "    .dataframe thead th {\n",
              "        text-align: right;\n",
              "    }\n",
              "</style>\n",
              "<table border=\"1\" class=\"dataframe\">\n",
              "  <thead>\n",
              "    <tr style=\"text-align: right;\">\n",
              "      <th></th>\n",
              "      <th>Value</th>\n",
              "      <th>dayweek</th>\n",
              "      <th>month</th>\n",
              "      <th>year</th>\n",
              "      <th>day</th>\n",
              "      <th>hour</th>\n",
              "      <th>weekend</th>\n",
              "    </tr>\n",
              "  </thead>\n",
              "  <tbody>\n",
              "    <tr>\n",
              "      <th>8789</th>\n",
              "      <td>1187.0</td>\n",
              "      <td>3</td>\n",
              "      <td>12</td>\n",
              "      <td>2015</td>\n",
              "      <td>31</td>\n",
              "      <td>23</td>\n",
              "      <td>False</td>\n",
              "    </tr>\n",
              "    <tr>\n",
              "      <th>8823</th>\n",
              "      <td>1142.0</td>\n",
              "      <td>4</td>\n",
              "      <td>1</td>\n",
              "      <td>2016</td>\n",
              "      <td>1</td>\n",
              "      <td>0</td>\n",
              "      <td>False</td>\n",
              "    </tr>\n",
              "    <tr>\n",
              "      <th>8858</th>\n",
              "      <td>1059.0</td>\n",
              "      <td>4</td>\n",
              "      <td>1</td>\n",
              "      <td>2016</td>\n",
              "      <td>1</td>\n",
              "      <td>1</td>\n",
              "      <td>False</td>\n",
              "    </tr>\n",
              "    <tr>\n",
              "      <th>8893</th>\n",
              "      <td>976.0</td>\n",
              "      <td>4</td>\n",
              "      <td>1</td>\n",
              "      <td>2016</td>\n",
              "      <td>1</td>\n",
              "      <td>2</td>\n",
              "      <td>False</td>\n",
              "    </tr>\n",
              "    <tr>\n",
              "      <th>8928</th>\n",
              "      <td>929.0</td>\n",
              "      <td>4</td>\n",
              "      <td>1</td>\n",
              "      <td>2016</td>\n",
              "      <td>1</td>\n",
              "      <td>3</td>\n",
              "      <td>False</td>\n",
              "    </tr>\n",
              "  </tbody>\n",
              "</table>\n",
              "</div>"
            ],
            "text/plain": [
              "       Value  dayweek  month  year  day  hour  weekend\n",
              "8789  1187.0        3     12  2015   31    23    False\n",
              "8823  1142.0        4      1  2016    1     0    False\n",
              "8858  1059.0        4      1  2016    1     1    False\n",
              "8893   976.0        4      1  2016    1     2    False\n",
              "8928   929.0        4      1  2016    1     3    False"
            ]
          },
          "metadata": {
            "tags": []
          },
          "execution_count": 6
        }
      ]
    },
    {
      "cell_type": "markdown",
      "metadata": {
        "id": "PFiXkFgzEBaq",
        "colab_type": "text"
      },
      "source": [
        "**The data for 2018 and 2019 was not available on the above link and needed to be downloaded and read separately.**"
      ]
    },
    {
      "cell_type": "code",
      "metadata": {
        "id": "BuEp0mQukbWj",
        "colab_type": "code",
        "colab": {}
      },
      "source": [
        "df_MK_2018=pd.read_csv(\"Total Load - Day Ahead _ Actual_201801010000-201901010000.csv\")\n",
        "df_MK_2019=pd.read_csv(\"Total Load - Day Ahead _ Actual_201901010000-202001010000.csv\")\n"
      ],
      "execution_count": 0,
      "outputs": []
    },
    {
      "cell_type": "markdown",
      "metadata": {
        "id": "9DmbJrXtEamS",
        "colab_type": "text"
      },
      "source": [
        "**Renaming some of the columns. It can be noticed that in this dataset, apart from the actual load, the forecasted value for the electricity load in the day-ahead market has been also provided.**"
      ]
    },
    {
      "cell_type": "code",
      "metadata": {
        "id": "3Jw4wllXkhBU",
        "colab_type": "code",
        "outputId": "72d4ef6f-3d10-47d5-9ae5-a220c37432f0",
        "colab": {
          "base_uri": "https://localhost:8080/",
          "height": 204
        }
      },
      "source": [
        "df_MK_2018.head()\n",
        "df_MK_2018.rename(columns={'Time (CET)': 'Time','Day-ahead Total Load Forecast [MW] - North Macedonia (MK)':'Load_Forecast(MW)','Actual Total Load [MW] - North Macedonia (MK)':'Load(MW)'  }, inplace=True)\n",
        "df_MK_2018.head()"
      ],
      "execution_count": 8,
      "outputs": [
        {
          "output_type": "execute_result",
          "data": {
            "text/html": [
              "<div>\n",
              "<style scoped>\n",
              "    .dataframe tbody tr th:only-of-type {\n",
              "        vertical-align: middle;\n",
              "    }\n",
              "\n",
              "    .dataframe tbody tr th {\n",
              "        vertical-align: top;\n",
              "    }\n",
              "\n",
              "    .dataframe thead th {\n",
              "        text-align: right;\n",
              "    }\n",
              "</style>\n",
              "<table border=\"1\" class=\"dataframe\">\n",
              "  <thead>\n",
              "    <tr style=\"text-align: right;\">\n",
              "      <th></th>\n",
              "      <th>Time</th>\n",
              "      <th>Load_Forecast(MW)</th>\n",
              "      <th>Load(MW)</th>\n",
              "    </tr>\n",
              "  </thead>\n",
              "  <tbody>\n",
              "    <tr>\n",
              "      <th>0</th>\n",
              "      <td>01.01.2018 00:00 - 01.01.2018 01:00</td>\n",
              "      <td>1010.0</td>\n",
              "      <td>923.0</td>\n",
              "    </tr>\n",
              "    <tr>\n",
              "      <th>1</th>\n",
              "      <td>01.01.2018 01:00 - 01.01.2018 02:00</td>\n",
              "      <td>941.0</td>\n",
              "      <td>886.0</td>\n",
              "    </tr>\n",
              "    <tr>\n",
              "      <th>2</th>\n",
              "      <td>01.01.2018 02:00 - 01.01.2018 03:00</td>\n",
              "      <td>858.0</td>\n",
              "      <td>821.0</td>\n",
              "    </tr>\n",
              "    <tr>\n",
              "      <th>3</th>\n",
              "      <td>01.01.2018 03:00 - 01.01.2018 04:00</td>\n",
              "      <td>799.0</td>\n",
              "      <td>766.0</td>\n",
              "    </tr>\n",
              "    <tr>\n",
              "      <th>4</th>\n",
              "      <td>01.01.2018 04:00 - 01.01.2018 05:00</td>\n",
              "      <td>769.0</td>\n",
              "      <td>727.0</td>\n",
              "    </tr>\n",
              "  </tbody>\n",
              "</table>\n",
              "</div>"
            ],
            "text/plain": [
              "                                  Time  Load_Forecast(MW)  Load(MW)\n",
              "0  01.01.2018 00:00 - 01.01.2018 01:00             1010.0     923.0\n",
              "1  01.01.2018 01:00 - 01.01.2018 02:00              941.0     886.0\n",
              "2  01.01.2018 02:00 - 01.01.2018 03:00              858.0     821.0\n",
              "3  01.01.2018 03:00 - 01.01.2018 04:00              799.0     766.0\n",
              "4  01.01.2018 04:00 - 01.01.2018 05:00              769.0     727.0"
            ]
          },
          "metadata": {
            "tags": []
          },
          "execution_count": 8
        }
      ]
    },
    {
      "cell_type": "code",
      "metadata": {
        "id": "h_KF2qmJkjud",
        "colab_type": "code",
        "outputId": "c9812a3e-cce6-4f94-c9bb-28072ee62ff6",
        "colab": {
          "base_uri": "https://localhost:8080/",
          "height": 204
        }
      },
      "source": [
        "df_MK_2019.head()\n",
        "df_MK_2019.rename(columns={'Time (CET)': 'Time','Day-ahead Total Load Forecast [MW] - North Macedonia (MK)':'Load_Forecast(MW)','Actual Total Load [MW] - North Macedonia (MK)':'Load(MW)'  }, inplace=True)\n",
        "df_MK_2019.head()"
      ],
      "execution_count": 9,
      "outputs": [
        {
          "output_type": "execute_result",
          "data": {
            "text/html": [
              "<div>\n",
              "<style scoped>\n",
              "    .dataframe tbody tr th:only-of-type {\n",
              "        vertical-align: middle;\n",
              "    }\n",
              "\n",
              "    .dataframe tbody tr th {\n",
              "        vertical-align: top;\n",
              "    }\n",
              "\n",
              "    .dataframe thead th {\n",
              "        text-align: right;\n",
              "    }\n",
              "</style>\n",
              "<table border=\"1\" class=\"dataframe\">\n",
              "  <thead>\n",
              "    <tr style=\"text-align: right;\">\n",
              "      <th></th>\n",
              "      <th>Time</th>\n",
              "      <th>Load_Forecast(MW)</th>\n",
              "      <th>Load(MW)</th>\n",
              "    </tr>\n",
              "  </thead>\n",
              "  <tbody>\n",
              "    <tr>\n",
              "      <th>0</th>\n",
              "      <td>01.01.2019 00:00 - 01.01.2019 01:00</td>\n",
              "      <td>1118.0</td>\n",
              "      <td>1069.0</td>\n",
              "    </tr>\n",
              "    <tr>\n",
              "      <th>1</th>\n",
              "      <td>01.01.2019 01:00 - 01.01.2019 02:00</td>\n",
              "      <td>1066.0</td>\n",
              "      <td>1023.0</td>\n",
              "    </tr>\n",
              "    <tr>\n",
              "      <th>2</th>\n",
              "      <td>01.01.2019 02:00 - 01.01.2019 03:00</td>\n",
              "      <td>991.0</td>\n",
              "      <td>951.0</td>\n",
              "    </tr>\n",
              "    <tr>\n",
              "      <th>3</th>\n",
              "      <td>01.01.2019 03:00 - 01.01.2019 04:00</td>\n",
              "      <td>922.0</td>\n",
              "      <td>887.0</td>\n",
              "    </tr>\n",
              "    <tr>\n",
              "      <th>4</th>\n",
              "      <td>01.01.2019 04:00 - 01.01.2019 05:00</td>\n",
              "      <td>875.0</td>\n",
              "      <td>836.0</td>\n",
              "    </tr>\n",
              "  </tbody>\n",
              "</table>\n",
              "</div>"
            ],
            "text/plain": [
              "                                  Time  Load_Forecast(MW)  Load(MW)\n",
              "0  01.01.2019 00:00 - 01.01.2019 01:00             1118.0    1069.0\n",
              "1  01.01.2019 01:00 - 01.01.2019 02:00             1066.0    1023.0\n",
              "2  01.01.2019 02:00 - 01.01.2019 03:00              991.0     951.0\n",
              "3  01.01.2019 03:00 - 01.01.2019 04:00              922.0     887.0\n",
              "4  01.01.2019 04:00 - 01.01.2019 05:00              875.0     836.0"
            ]
          },
          "metadata": {
            "tags": []
          },
          "execution_count": 9
        }
      ]
    },
    {
      "cell_type": "markdown",
      "metadata": {
        "id": "wmX2m8_cE6kC",
        "colab_type": "text"
      },
      "source": [
        "**Also, the time format is a little bit different than the 2016-2017 dataset. Some formatting is done:**"
      ]
    },
    {
      "cell_type": "code",
      "metadata": {
        "id": "DMmAuFtKQivB",
        "colab_type": "code",
        "colab": {}
      },
      "source": [
        "columns=['Time1', 'Time2']\n",
        "\n",
        "df_MK_2018[columns]=df_MK_2018.Time.str.split('-', expand=True)\n",
        "df_MK_2019[columns]=df_MK_2019.Time.str.split('-', expand=True)\n",
        "\n",
        "\n"
      ],
      "execution_count": 0,
      "outputs": []
    },
    {
      "cell_type": "code",
      "metadata": {
        "id": "zj7LflAYUF9O",
        "colab_type": "code",
        "colab": {}
      },
      "source": [
        "\n",
        "df_MK_2018=df_MK_2018.drop( [\"Time\", \"Time2\"], axis=1)\n",
        "df_MK_2019=df_MK_2019.drop( [\"Time\", \"Time2\"], axis=1)\n",
        "\n"
      ],
      "execution_count": 0,
      "outputs": []
    },
    {
      "cell_type": "markdown",
      "metadata": {
        "id": "HYquoepGFQOc",
        "colab_type": "text"
      },
      "source": [
        "**Converting the Time column to datetime and adding dayofweek, month, year, day, hour and weekend as separate columns.**"
      ]
    },
    {
      "cell_type": "code",
      "metadata": {
        "id": "KI-TnGFEUVOC",
        "colab_type": "code",
        "colab": {}
      },
      "source": [
        "\n",
        "df_MK_2018['Time1'] = pd.to_datetime(df_MK_2018['Time1'])\n",
        "df_MK_2019['Time1'] = pd.to_datetime(df_MK_2019['Time1'])\n"
      ],
      "execution_count": 0,
      "outputs": []
    },
    {
      "cell_type": "code",
      "metadata": {
        "id": "0xlxO1s0Uu2G",
        "colab_type": "code",
        "colab": {}
      },
      "source": [
        "\n",
        "\n",
        "df_MK_2018=df_MK_2018.assign(dayweek=df_MK_2018.Time1.dt.dayofweek)\n",
        "df_MK_2018=df_MK_2018.assign(month=df_MK_2018.Time1.dt.month)\n",
        "df_MK_2018=df_MK_2018.assign(year=df_MK_2018.Time1.dt.year)\n",
        "df_MK_2018=df_MK_2018.assign(day=df_MK_2018.Time1.dt.day)\n",
        "df_MK_2018=df_MK_2018.assign(hour=df_MK_2018.Time1.dt.hour)\n",
        "df_MK_2018=df_MK_2018.assign(weekend=df_MK_2018.Time1.dt.dayofweek >=5)\n",
        "df_MK_2018=df_MK_2018.drop( \"Time1\", axis=1)\n",
        "\n",
        "df_MK_2019=df_MK_2019.assign(dayweek=df_MK_2019.Time1.dt.dayofweek)\n",
        "df_MK_2019=df_MK_2019.assign(month=df_MK_2019.Time1.dt.month)\n",
        "df_MK_2019=df_MK_2019.assign(year=df_MK_2019.Time1.dt.year)\n",
        "df_MK_2019=df_MK_2019.assign(day=df_MK_2019.Time1.dt.day)\n",
        "df_MK_2019=df_MK_2019.assign(hour=df_MK_2019.Time1.dt.hour)\n",
        "df_MK_2019=df_MK_2019.assign(weekend=df_MK_2019.Time1.dt.dayofweek >=5)\n",
        "df_MK_2019=df_MK_2019.drop( \"Time1\", axis=1)\n"
      ],
      "execution_count": 0,
      "outputs": []
    },
    {
      "cell_type": "code",
      "metadata": {
        "id": "DT1DzObFbQhN",
        "colab_type": "code",
        "outputId": "6a15d2e2-6347-4e90-c95a-027a7cf26e23",
        "colab": {
          "base_uri": "https://localhost:8080/",
          "height": 204
        }
      },
      "source": [
        "df_MK_2018.head()"
      ],
      "execution_count": 14,
      "outputs": [
        {
          "output_type": "execute_result",
          "data": {
            "text/html": [
              "<div>\n",
              "<style scoped>\n",
              "    .dataframe tbody tr th:only-of-type {\n",
              "        vertical-align: middle;\n",
              "    }\n",
              "\n",
              "    .dataframe tbody tr th {\n",
              "        vertical-align: top;\n",
              "    }\n",
              "\n",
              "    .dataframe thead th {\n",
              "        text-align: right;\n",
              "    }\n",
              "</style>\n",
              "<table border=\"1\" class=\"dataframe\">\n",
              "  <thead>\n",
              "    <tr style=\"text-align: right;\">\n",
              "      <th></th>\n",
              "      <th>Load_Forecast(MW)</th>\n",
              "      <th>Load(MW)</th>\n",
              "      <th>dayweek</th>\n",
              "      <th>month</th>\n",
              "      <th>year</th>\n",
              "      <th>day</th>\n",
              "      <th>hour</th>\n",
              "      <th>weekend</th>\n",
              "    </tr>\n",
              "  </thead>\n",
              "  <tbody>\n",
              "    <tr>\n",
              "      <th>0</th>\n",
              "      <td>1010.0</td>\n",
              "      <td>923.0</td>\n",
              "      <td>0</td>\n",
              "      <td>1</td>\n",
              "      <td>2018</td>\n",
              "      <td>1</td>\n",
              "      <td>0</td>\n",
              "      <td>False</td>\n",
              "    </tr>\n",
              "    <tr>\n",
              "      <th>1</th>\n",
              "      <td>941.0</td>\n",
              "      <td>886.0</td>\n",
              "      <td>0</td>\n",
              "      <td>1</td>\n",
              "      <td>2018</td>\n",
              "      <td>1</td>\n",
              "      <td>1</td>\n",
              "      <td>False</td>\n",
              "    </tr>\n",
              "    <tr>\n",
              "      <th>2</th>\n",
              "      <td>858.0</td>\n",
              "      <td>821.0</td>\n",
              "      <td>0</td>\n",
              "      <td>1</td>\n",
              "      <td>2018</td>\n",
              "      <td>1</td>\n",
              "      <td>2</td>\n",
              "      <td>False</td>\n",
              "    </tr>\n",
              "    <tr>\n",
              "      <th>3</th>\n",
              "      <td>799.0</td>\n",
              "      <td>766.0</td>\n",
              "      <td>0</td>\n",
              "      <td>1</td>\n",
              "      <td>2018</td>\n",
              "      <td>1</td>\n",
              "      <td>3</td>\n",
              "      <td>False</td>\n",
              "    </tr>\n",
              "    <tr>\n",
              "      <th>4</th>\n",
              "      <td>769.0</td>\n",
              "      <td>727.0</td>\n",
              "      <td>0</td>\n",
              "      <td>1</td>\n",
              "      <td>2018</td>\n",
              "      <td>1</td>\n",
              "      <td>4</td>\n",
              "      <td>False</td>\n",
              "    </tr>\n",
              "  </tbody>\n",
              "</table>\n",
              "</div>"
            ],
            "text/plain": [
              "   Load_Forecast(MW)  Load(MW)  dayweek  month  year  day  hour  weekend\n",
              "0             1010.0     923.0        0      1  2018    1     0    False\n",
              "1              941.0     886.0        0      1  2018    1     1    False\n",
              "2              858.0     821.0        0      1  2018    1     2    False\n",
              "3              799.0     766.0        0      1  2018    1     3    False\n",
              "4              769.0     727.0        0      1  2018    1     4    False"
            ]
          },
          "metadata": {
            "tags": []
          },
          "execution_count": 14
        }
      ]
    },
    {
      "cell_type": "code",
      "metadata": {
        "id": "0C--GhyvbTt7",
        "colab_type": "code",
        "outputId": "fa0481e7-7932-4be8-d204-84cd7e6961c9",
        "colab": {
          "base_uri": "https://localhost:8080/",
          "height": 204
        }
      },
      "source": [
        "df_MK_2019.head()"
      ],
      "execution_count": 15,
      "outputs": [
        {
          "output_type": "execute_result",
          "data": {
            "text/html": [
              "<div>\n",
              "<style scoped>\n",
              "    .dataframe tbody tr th:only-of-type {\n",
              "        vertical-align: middle;\n",
              "    }\n",
              "\n",
              "    .dataframe tbody tr th {\n",
              "        vertical-align: top;\n",
              "    }\n",
              "\n",
              "    .dataframe thead th {\n",
              "        text-align: right;\n",
              "    }\n",
              "</style>\n",
              "<table border=\"1\" class=\"dataframe\">\n",
              "  <thead>\n",
              "    <tr style=\"text-align: right;\">\n",
              "      <th></th>\n",
              "      <th>Load_Forecast(MW)</th>\n",
              "      <th>Load(MW)</th>\n",
              "      <th>dayweek</th>\n",
              "      <th>month</th>\n",
              "      <th>year</th>\n",
              "      <th>day</th>\n",
              "      <th>hour</th>\n",
              "      <th>weekend</th>\n",
              "    </tr>\n",
              "  </thead>\n",
              "  <tbody>\n",
              "    <tr>\n",
              "      <th>0</th>\n",
              "      <td>1118.0</td>\n",
              "      <td>1069.0</td>\n",
              "      <td>1</td>\n",
              "      <td>1</td>\n",
              "      <td>2019</td>\n",
              "      <td>1</td>\n",
              "      <td>0</td>\n",
              "      <td>False</td>\n",
              "    </tr>\n",
              "    <tr>\n",
              "      <th>1</th>\n",
              "      <td>1066.0</td>\n",
              "      <td>1023.0</td>\n",
              "      <td>1</td>\n",
              "      <td>1</td>\n",
              "      <td>2019</td>\n",
              "      <td>1</td>\n",
              "      <td>1</td>\n",
              "      <td>False</td>\n",
              "    </tr>\n",
              "    <tr>\n",
              "      <th>2</th>\n",
              "      <td>991.0</td>\n",
              "      <td>951.0</td>\n",
              "      <td>1</td>\n",
              "      <td>1</td>\n",
              "      <td>2019</td>\n",
              "      <td>1</td>\n",
              "      <td>2</td>\n",
              "      <td>False</td>\n",
              "    </tr>\n",
              "    <tr>\n",
              "      <th>3</th>\n",
              "      <td>922.0</td>\n",
              "      <td>887.0</td>\n",
              "      <td>1</td>\n",
              "      <td>1</td>\n",
              "      <td>2019</td>\n",
              "      <td>1</td>\n",
              "      <td>3</td>\n",
              "      <td>False</td>\n",
              "    </tr>\n",
              "    <tr>\n",
              "      <th>4</th>\n",
              "      <td>875.0</td>\n",
              "      <td>836.0</td>\n",
              "      <td>1</td>\n",
              "      <td>1</td>\n",
              "      <td>2019</td>\n",
              "      <td>1</td>\n",
              "      <td>4</td>\n",
              "      <td>False</td>\n",
              "    </tr>\n",
              "  </tbody>\n",
              "</table>\n",
              "</div>"
            ],
            "text/plain": [
              "   Load_Forecast(MW)  Load(MW)  dayweek  month  year  day  hour  weekend\n",
              "0             1118.0    1069.0        1      1  2019    1     0    False\n",
              "1             1066.0    1023.0        1      1  2019    1     1    False\n",
              "2              991.0     951.0        1      1  2019    1     2    False\n",
              "3              922.0     887.0        1      1  2019    1     3    False\n",
              "4              875.0     836.0        1      1  2019    1     4    False"
            ]
          },
          "metadata": {
            "tags": []
          },
          "execution_count": 15
        }
      ]
    },
    {
      "cell_type": "markdown",
      "metadata": {
        "id": "z3qtNFt8FmgR",
        "colab_type": "text"
      },
      "source": [
        "**The final dataframe that we need includes the values from the 3 datasets.**"
      ]
    },
    {
      "cell_type": "code",
      "metadata": {
        "id": "XEhQ4chUbsmR",
        "colab_type": "code",
        "outputId": "545def00-ef91-4059-c7e4-ae90053b17b8",
        "colab": {
          "base_uri": "https://localhost:8080/",
          "height": 204
        }
      },
      "source": [
        "\n",
        "df_MK_final=df_MK_2018.append(df_MK_2019)\n",
        "df_MK_final.head()\n",
        "df_MK_withoutforecast=df_MK_final\n",
        "df_MK_withoutforecast=df_MK_withoutforecast.drop( \"Load_Forecast(MW)\", axis=1)\n",
        "df_MK_withoutforecast.head()\n",
        "\n",
        "\n",
        "\n"
      ],
      "execution_count": 16,
      "outputs": [
        {
          "output_type": "execute_result",
          "data": {
            "text/html": [
              "<div>\n",
              "<style scoped>\n",
              "    .dataframe tbody tr th:only-of-type {\n",
              "        vertical-align: middle;\n",
              "    }\n",
              "\n",
              "    .dataframe tbody tr th {\n",
              "        vertical-align: top;\n",
              "    }\n",
              "\n",
              "    .dataframe thead th {\n",
              "        text-align: right;\n",
              "    }\n",
              "</style>\n",
              "<table border=\"1\" class=\"dataframe\">\n",
              "  <thead>\n",
              "    <tr style=\"text-align: right;\">\n",
              "      <th></th>\n",
              "      <th>Load(MW)</th>\n",
              "      <th>dayweek</th>\n",
              "      <th>month</th>\n",
              "      <th>year</th>\n",
              "      <th>day</th>\n",
              "      <th>hour</th>\n",
              "      <th>weekend</th>\n",
              "    </tr>\n",
              "  </thead>\n",
              "  <tbody>\n",
              "    <tr>\n",
              "      <th>0</th>\n",
              "      <td>923.0</td>\n",
              "      <td>0</td>\n",
              "      <td>1</td>\n",
              "      <td>2018</td>\n",
              "      <td>1</td>\n",
              "      <td>0</td>\n",
              "      <td>False</td>\n",
              "    </tr>\n",
              "    <tr>\n",
              "      <th>1</th>\n",
              "      <td>886.0</td>\n",
              "      <td>0</td>\n",
              "      <td>1</td>\n",
              "      <td>2018</td>\n",
              "      <td>1</td>\n",
              "      <td>1</td>\n",
              "      <td>False</td>\n",
              "    </tr>\n",
              "    <tr>\n",
              "      <th>2</th>\n",
              "      <td>821.0</td>\n",
              "      <td>0</td>\n",
              "      <td>1</td>\n",
              "      <td>2018</td>\n",
              "      <td>1</td>\n",
              "      <td>2</td>\n",
              "      <td>False</td>\n",
              "    </tr>\n",
              "    <tr>\n",
              "      <th>3</th>\n",
              "      <td>766.0</td>\n",
              "      <td>0</td>\n",
              "      <td>1</td>\n",
              "      <td>2018</td>\n",
              "      <td>1</td>\n",
              "      <td>3</td>\n",
              "      <td>False</td>\n",
              "    </tr>\n",
              "    <tr>\n",
              "      <th>4</th>\n",
              "      <td>727.0</td>\n",
              "      <td>0</td>\n",
              "      <td>1</td>\n",
              "      <td>2018</td>\n",
              "      <td>1</td>\n",
              "      <td>4</td>\n",
              "      <td>False</td>\n",
              "    </tr>\n",
              "  </tbody>\n",
              "</table>\n",
              "</div>"
            ],
            "text/plain": [
              "   Load(MW)  dayweek  month  year  day  hour  weekend\n",
              "0     923.0        0      1  2018    1     0    False\n",
              "1     886.0        0      1  2018    1     1    False\n",
              "2     821.0        0      1  2018    1     2    False\n",
              "3     766.0        0      1  2018    1     3    False\n",
              "4     727.0        0      1  2018    1     4    False"
            ]
          },
          "metadata": {
            "tags": []
          },
          "execution_count": 16
        }
      ]
    },
    {
      "cell_type": "code",
      "metadata": {
        "id": "dFsIZPbbiXeQ",
        "colab_type": "code",
        "outputId": "ca5eb80d-5e4e-45a9-ace1-21c37c3ebdc0",
        "colab": {
          "base_uri": "https://localhost:8080/",
          "height": 204
        }
      },
      "source": [
        "df_MK_withoutforecast.rename(columns={'Load(MW)': 'LoadMW'}, inplace=True)\n",
        "df_MK.rename(columns={'Value': 'LoadMW'}, inplace=True)\n",
        "df_MK_merged=df_MK.append(df_MK_withoutforecast)\n",
        "df_MK_merged.head()\n"
      ],
      "execution_count": 17,
      "outputs": [
        {
          "output_type": "execute_result",
          "data": {
            "text/html": [
              "<div>\n",
              "<style scoped>\n",
              "    .dataframe tbody tr th:only-of-type {\n",
              "        vertical-align: middle;\n",
              "    }\n",
              "\n",
              "    .dataframe tbody tr th {\n",
              "        vertical-align: top;\n",
              "    }\n",
              "\n",
              "    .dataframe thead th {\n",
              "        text-align: right;\n",
              "    }\n",
              "</style>\n",
              "<table border=\"1\" class=\"dataframe\">\n",
              "  <thead>\n",
              "    <tr style=\"text-align: right;\">\n",
              "      <th></th>\n",
              "      <th>LoadMW</th>\n",
              "      <th>dayweek</th>\n",
              "      <th>month</th>\n",
              "      <th>year</th>\n",
              "      <th>day</th>\n",
              "      <th>hour</th>\n",
              "      <th>weekend</th>\n",
              "    </tr>\n",
              "  </thead>\n",
              "  <tbody>\n",
              "    <tr>\n",
              "      <th>8789</th>\n",
              "      <td>1187.0</td>\n",
              "      <td>3</td>\n",
              "      <td>12</td>\n",
              "      <td>2015</td>\n",
              "      <td>31</td>\n",
              "      <td>23</td>\n",
              "      <td>False</td>\n",
              "    </tr>\n",
              "    <tr>\n",
              "      <th>8823</th>\n",
              "      <td>1142.0</td>\n",
              "      <td>4</td>\n",
              "      <td>1</td>\n",
              "      <td>2016</td>\n",
              "      <td>1</td>\n",
              "      <td>0</td>\n",
              "      <td>False</td>\n",
              "    </tr>\n",
              "    <tr>\n",
              "      <th>8858</th>\n",
              "      <td>1059.0</td>\n",
              "      <td>4</td>\n",
              "      <td>1</td>\n",
              "      <td>2016</td>\n",
              "      <td>1</td>\n",
              "      <td>1</td>\n",
              "      <td>False</td>\n",
              "    </tr>\n",
              "    <tr>\n",
              "      <th>8893</th>\n",
              "      <td>976.0</td>\n",
              "      <td>4</td>\n",
              "      <td>1</td>\n",
              "      <td>2016</td>\n",
              "      <td>1</td>\n",
              "      <td>2</td>\n",
              "      <td>False</td>\n",
              "    </tr>\n",
              "    <tr>\n",
              "      <th>8928</th>\n",
              "      <td>929.0</td>\n",
              "      <td>4</td>\n",
              "      <td>1</td>\n",
              "      <td>2016</td>\n",
              "      <td>1</td>\n",
              "      <td>3</td>\n",
              "      <td>False</td>\n",
              "    </tr>\n",
              "  </tbody>\n",
              "</table>\n",
              "</div>"
            ],
            "text/plain": [
              "      LoadMW  dayweek  month  year  day  hour  weekend\n",
              "8789  1187.0        3     12  2015   31    23    False\n",
              "8823  1142.0        4      1  2016    1     0    False\n",
              "8858  1059.0        4      1  2016    1     1    False\n",
              "8893   976.0        4      1  2016    1     2    False\n",
              "8928   929.0        4      1  2016    1     3    False"
            ]
          },
          "metadata": {
            "tags": []
          },
          "execution_count": 17
        }
      ]
    },
    {
      "cell_type": "markdown",
      "metadata": {
        "id": "OIKUE6U3F-Ff",
        "colab_type": "text"
      },
      "source": [
        "**There are some unreasonable values for the load data which are probably typo errors. They are fixed by dividing with 10,100 or  1000, depending on the range.**"
      ]
    },
    {
      "cell_type": "code",
      "metadata": {
        "id": "4gmNQEFKlUWv",
        "colab_type": "code",
        "outputId": "99f68343-17d8-46df-aa75-c5e1d4f11ee8",
        "colab": {
          "base_uri": "https://localhost:8080/",
          "height": 204
        }
      },
      "source": [
        "df_rows4=df_MK_merged[(df_MK_merged.LoadMW >= 3000) & (df_MK_merged.LoadMW <=9999)].index\n",
        "df_MK_merged.loc[df_rows4, 'LoadMW']=df_MK_merged.loc[df_rows4, 'LoadMW']/10\n",
        "df_rows5=df_MK_merged[(df_MK_merged.LoadMW >= 10000) & (df_MK_merged.LoadMW <=99999)].index\n",
        "df_MK_merged.loc[df_rows5, 'LoadMW']=df_MK_merged.loc[df_rows5, 'LoadMW']/100\n",
        "df_rows6=df_MK_merged[(df_MK_merged.LoadMW >= 100000) & (df_MK_merged.LoadMW <=999999)].index\n",
        "df_MK_merged.loc[df_rows6, 'LoadMW']=df_MK_merged.loc[df_rows6, 'LoadMW']/1000\n",
        "df_MK_merged.head()"
      ],
      "execution_count": 18,
      "outputs": [
        {
          "output_type": "execute_result",
          "data": {
            "text/html": [
              "<div>\n",
              "<style scoped>\n",
              "    .dataframe tbody tr th:only-of-type {\n",
              "        vertical-align: middle;\n",
              "    }\n",
              "\n",
              "    .dataframe tbody tr th {\n",
              "        vertical-align: top;\n",
              "    }\n",
              "\n",
              "    .dataframe thead th {\n",
              "        text-align: right;\n",
              "    }\n",
              "</style>\n",
              "<table border=\"1\" class=\"dataframe\">\n",
              "  <thead>\n",
              "    <tr style=\"text-align: right;\">\n",
              "      <th></th>\n",
              "      <th>LoadMW</th>\n",
              "      <th>dayweek</th>\n",
              "      <th>month</th>\n",
              "      <th>year</th>\n",
              "      <th>day</th>\n",
              "      <th>hour</th>\n",
              "      <th>weekend</th>\n",
              "    </tr>\n",
              "  </thead>\n",
              "  <tbody>\n",
              "    <tr>\n",
              "      <th>8789</th>\n",
              "      <td>1187.0</td>\n",
              "      <td>3</td>\n",
              "      <td>12</td>\n",
              "      <td>2015</td>\n",
              "      <td>31</td>\n",
              "      <td>23</td>\n",
              "      <td>False</td>\n",
              "    </tr>\n",
              "    <tr>\n",
              "      <th>8823</th>\n",
              "      <td>1142.0</td>\n",
              "      <td>4</td>\n",
              "      <td>1</td>\n",
              "      <td>2016</td>\n",
              "      <td>1</td>\n",
              "      <td>0</td>\n",
              "      <td>False</td>\n",
              "    </tr>\n",
              "    <tr>\n",
              "      <th>8858</th>\n",
              "      <td>1059.0</td>\n",
              "      <td>4</td>\n",
              "      <td>1</td>\n",
              "      <td>2016</td>\n",
              "      <td>1</td>\n",
              "      <td>1</td>\n",
              "      <td>False</td>\n",
              "    </tr>\n",
              "    <tr>\n",
              "      <th>8893</th>\n",
              "      <td>976.0</td>\n",
              "      <td>4</td>\n",
              "      <td>1</td>\n",
              "      <td>2016</td>\n",
              "      <td>1</td>\n",
              "      <td>2</td>\n",
              "      <td>False</td>\n",
              "    </tr>\n",
              "    <tr>\n",
              "      <th>8928</th>\n",
              "      <td>929.0</td>\n",
              "      <td>4</td>\n",
              "      <td>1</td>\n",
              "      <td>2016</td>\n",
              "      <td>1</td>\n",
              "      <td>3</td>\n",
              "      <td>False</td>\n",
              "    </tr>\n",
              "  </tbody>\n",
              "</table>\n",
              "</div>"
            ],
            "text/plain": [
              "      LoadMW  dayweek  month  year  day  hour  weekend\n",
              "8789  1187.0        3     12  2015   31    23    False\n",
              "8823  1142.0        4      1  2016    1     0    False\n",
              "8858  1059.0        4      1  2016    1     1    False\n",
              "8893   976.0        4      1  2016    1     2    False\n",
              "8928   929.0        4      1  2016    1     3    False"
            ]
          },
          "metadata": {
            "tags": []
          },
          "execution_count": 18
        }
      ]
    },
    {
      "cell_type": "code",
      "metadata": {
        "id": "cc4tc8nH0X55",
        "colab_type": "code",
        "outputId": "f66e6aac-5a30-4dc8-ad8f-f31ec355bdd1",
        "colab": {
          "base_uri": "https://localhost:8080/",
          "height": 34
        }
      },
      "source": [
        "df_MK_merged.year.unique()"
      ],
      "execution_count": 19,
      "outputs": [
        {
          "output_type": "execute_result",
          "data": {
            "text/plain": [
              "array([2015, 2016, 2017, 2018, 2019])"
            ]
          },
          "metadata": {
            "tags": []
          },
          "execution_count": 19
        }
      ]
    },
    {
      "cell_type": "markdown",
      "metadata": {
        "id": "_6JNI2oGGQrD",
        "colab_type": "text"
      },
      "source": [
        "**Average hourly consumption (load) of the total consumption for 2017.**"
      ]
    },
    {
      "cell_type": "code",
      "metadata": {
        "id": "5IHtrZFCdntD",
        "colab_type": "code",
        "outputId": "28e79b8b-ab70-4a53-e9f2-0ace0d8751b0",
        "colab": {
          "base_uri": "https://localhost:8080/",
          "height": 542
        }
      },
      "source": [
        "#VISUALIZATION\n",
        "\n",
        "#Average hourly consumption of the total consumption for 2017\n",
        "df_2017=df_MK_merged[df_MK_merged.year==2017]\n",
        "df_2017avr=df_2017.groupby([\"month\", \"hour\"]).LoadMW.mean().reset_index()\n",
        "px.line(df_2017avr, x=\"hour\", y=\"LoadMW\", color=\"month\")"
      ],
      "execution_count": 20,
      "outputs": [
        {
          "output_type": "display_data",
          "data": {
            "text/html": [
              "<html>\n",
              "<head><meta charset=\"utf-8\" /></head>\n",
              "<body>\n",
              "    <div>\n",
              "            <script src=\"https://cdnjs.cloudflare.com/ajax/libs/mathjax/2.7.5/MathJax.js?config=TeX-AMS-MML_SVG\"></script><script type=\"text/javascript\">if (window.MathJax) {MathJax.Hub.Config({SVG: {font: \"STIX-Web\"}});}</script>\n",
              "                <script type=\"text/javascript\">window.PlotlyConfig = {MathJaxConfig: 'local'};</script>\n",
              "        <script src=\"https://cdn.plot.ly/plotly-latest.min.js\"></script>    \n",
              "            <div id=\"8dbe981a-a3ba-491d-9440-3661aa6fe409\" class=\"plotly-graph-div\" style=\"height:525px; width:100%;\"></div>\n",
              "            <script type=\"text/javascript\">\n",
              "                \n",
              "                    window.PLOTLYENV=window.PLOTLYENV || {};\n",
              "                    \n",
              "                if (document.getElementById(\"8dbe981a-a3ba-491d-9440-3661aa6fe409\")) {\n",
              "                    Plotly.newPlot(\n",
              "                        '8dbe981a-a3ba-491d-9440-3661aa6fe409',\n",
              "                        [{\"hoverlabel\": {\"namelength\": 0}, \"hovertemplate\": \"month=1<br>hour=%{x}<br>LoadMW=%{y}\", \"legendgroup\": \"month=1\", \"line\": {\"color\": \"#636efa\", \"dash\": \"solid\"}, \"mode\": \"lines\", \"name\": \"month=1\", \"showlegend\": true, \"type\": \"scatter\", \"x\": [0, 1, 2, 3, 4, 5, 6, 7, 8, 9, 10, 11, 12, 13, 14, 15, 16, 17, 18, 19, 20, 21, 22, 23], \"xaxis\": \"x\", \"y\": [1101.225806451613, 1009.4516129032259, 952.516129032258, 931.6129032258065, 946.516129032258, 1003.3548387096774, 1033.258064516129, 1117.8709677419354, 1193.5806451612902, 1231.6774193548388, 1244.3548387096773, 1239.2903225806451, 1227.8064516129032, 1212.4516129032259, 1206.9032258064517, 1256.3548387096773, 1313.3870967741937, 1301.6451612903227, 1286.516129032258, 1252.1935483870968, 1233.9354838709678, 1340.9354838709678, 1329.0645161290322, 1217.6451612903227], \"yaxis\": \"y\"}, {\"hoverlabel\": {\"namelength\": 0}, \"hovertemplate\": \"month=2<br>hour=%{x}<br>LoadMW=%{y}\", \"legendgroup\": \"month=2\", \"line\": {\"color\": \"#EF553B\", \"dash\": \"solid\"}, \"mode\": \"lines\", \"name\": \"month=2\", \"showlegend\": true, \"type\": \"scatter\", \"x\": [0, 1, 2, 3, 4, 5, 6, 7, 8, 9, 10, 11, 12, 13, 14, 15, 16, 17, 18, 19, 20, 21, 22, 23], \"xaxis\": \"x\", \"y\": [945.0357142857143, 857.0357142857143, 805.6785714285714, 791.1428571428571, 824.6428571428571, 893.0, 939.4285714285714, 1012.6428571428571, 1062.3214285714287, 1075.892857142857, 1073.25, 1055.1785714285713, 1036.0, 1018.75, 1012.3214285714286, 1038.8214285714287, 1123.8214285714287, 1153.392857142857, 1143.107142857143, 1111.5714285714287, 1083.2857142857142, 1178.142857142857, 1162.892857142857, 1052.2142857142858], \"yaxis\": \"y\"}, {\"hoverlabel\": {\"namelength\": 0}, \"hovertemplate\": \"month=3<br>hour=%{x}<br>LoadMW=%{y}\", \"legendgroup\": \"month=3\", \"line\": {\"color\": \"#00cc96\", \"dash\": \"solid\"}, \"mode\": \"lines\", \"name\": \"month=3\", \"showlegend\": true, \"type\": \"scatter\", \"x\": [0, 1, 2, 3, 4, 5, 6, 7, 8, 9, 10, 11, 12, 13, 14, 15, 16, 17, 18, 19, 20, 21, 22, 23], \"xaxis\": \"x\", \"y\": [788.2258064516129, 721.7741935483871, 697.6774193548387, 704.9677419354839, 745.3225806451613, 795.4193548387096, 856.2258064516129, 907.4193548387096, 940.516129032258, 942.1612903225806, 950.6451612903226, 945.2903225806451, 928.4193548387096, 906.3225806451613, 898.1290322580645, 916.9677419354839, 986.3870967741935, 1061.225806451613, 1058.4516129032259, 1029.7096774193549, 995.4516129032259, 1022.1612903225806, 966.4193548387096, 865.258064516129], \"yaxis\": \"y\"}, {\"hoverlabel\": {\"namelength\": 0}, \"hovertemplate\": \"month=4<br>hour=%{x}<br>LoadMW=%{y}\", \"legendgroup\": \"month=4\", \"line\": {\"color\": \"#ab63fa\", \"dash\": \"solid\"}, \"mode\": \"lines\", \"name\": \"month=4\", \"showlegend\": true, \"type\": \"scatter\", \"x\": [0, 1, 2, 3, 4, 5, 6, 7, 8, 9, 10, 11, 12, 13, 14, 15, 16, 17, 18, 19, 20, 21, 22, 23], \"xaxis\": \"x\", \"y\": [634.7333333333333, 608.2, 606.3333333333334, 636.6333333333333, 677.1, 742.2666666666667, 806.0333333333333, 851.7666666666667, 861.8666666666667, 864.0, 860.2666666666667, 846.8666666666667, 832.6, 819.9666666666667, 818.2333333333333, 826.2, 849.0333333333333, 937.8666666666667, 975.1333333333333, 940.0666666666667, 959.7666666666667, 901.8333333333334, 789.2, 695.2666666666667], \"yaxis\": \"y\"}, {\"hoverlabel\": {\"namelength\": 0}, \"hovertemplate\": \"month=5<br>hour=%{x}<br>LoadMW=%{y}\", \"legendgroup\": \"month=5\", \"line\": {\"color\": \"#FFA15A\", \"dash\": \"solid\"}, \"mode\": \"lines\", \"name\": \"month=5\", \"showlegend\": true, \"type\": \"scatter\", \"x\": [0, 1, 2, 3, 4, 5, 6, 7, 8, 9, 10, 11, 12, 13, 14, 15, 16, 17, 18, 19, 20, 21, 22, 23], \"xaxis\": \"x\", \"y\": [554.1290322580645, 533.8387096774194, 529.6129032258065, 534.1290322580645, 576.1612903225806, 641.8387096774194, 704.4193548387096, 744.2903225806451, 762.2258064516129, 773.3225806451613, 779.4516129032259, 774.258064516129, 761.4193548387096, 743.1290322580645, 736.5483870967741, 736.3225806451613, 743.8709677419355, 786.6451612903226, 843.6774193548387, 829.2903225806451, 834.258064516129, 769.9032258064516, 668.0645161290323, 597.4193548387096], \"yaxis\": \"y\"}, {\"hoverlabel\": {\"namelength\": 0}, \"hovertemplate\": \"month=6<br>hour=%{x}<br>LoadMW=%{y}\", \"legendgroup\": \"month=6\", \"line\": {\"color\": \"#19d3f3\", \"dash\": \"solid\"}, \"mode\": \"lines\", \"name\": \"month=6\", \"showlegend\": true, \"type\": \"scatter\", \"x\": [0, 1, 2, 3, 4, 5, 6, 7, 8, 9, 10, 11, 12, 13, 14, 15, 16, 17, 18, 19, 20, 21, 22, 23], \"xaxis\": \"x\", \"y\": [548.9, 519.3333333333334, 489.3666666666667, 479.06666666666666, 512.4333333333333, 562.5333333333333, 622.6333333333333, 667.0333333333333, 695.5, 720.5, 742.7666666666667, 752.9, 744.5333333333333, 730.7, 719.9, 715.5, 718.4, 733.1666666666666, 755.3333333333334, 774.5333333333333, 768.3666666666667, 721.9333333333333, 644.9, 585.0333333333333], \"yaxis\": \"y\"}, {\"hoverlabel\": {\"namelength\": 0}, \"hovertemplate\": \"month=7<br>hour=%{x}<br>LoadMW=%{y}\", \"legendgroup\": \"month=7\", \"line\": {\"color\": \"#FF6692\", \"dash\": \"solid\"}, \"mode\": \"lines\", \"name\": \"month=7\", \"showlegend\": true, \"type\": \"scatter\", \"x\": [0, 1, 2, 3, 4, 5, 6, 7, 8, 9, 10, 11, 12, 13, 14, 15, 16, 17, 18, 19, 20, 21, 22, 23], \"xaxis\": \"x\", \"y\": [559.1612903225806, 535.8064516129032, 534.8387096774194, 531.8064516129032, 562.0322580645161, 623.4193548387096, 697.6451612903226, 751.4193548387096, 784.7741935483871, 814.4516129032259, 832.3548387096774, 837.258064516129, 828.9032258064516, 814.8064516129032, 800.8064516129032, 785.2258064516129, 770.8064516129032, 766.4516129032259, 814.258064516129, 817.8064516129032, 813.4516129032259, 763.516129032258, 682.6774193548387, 610.6774193548387], \"yaxis\": \"y\"}, {\"hoverlabel\": {\"namelength\": 0}, \"hovertemplate\": \"month=8<br>hour=%{x}<br>LoadMW=%{y}\", \"legendgroup\": \"month=8\", \"line\": {\"color\": \"#B6E880\", \"dash\": \"solid\"}, \"mode\": \"lines\", \"name\": \"month=8\", \"showlegend\": true, \"type\": \"scatter\", \"x\": [0, 1, 2, 3, 4, 5, 6, 7, 8, 9, 10, 11, 12, 13, 14, 15, 16, 17, 18, 19, 20, 21, 22, 23], \"xaxis\": \"x\", \"y\": [566.0967741935484, 545.9032258064516, 541.8387096774194, 547.7096774193549, 567.1290322580645, 623.8064516129032, 692.0645161290323, 748.1290322580645, 780.8064516129032, 809.5806451612904, 828.258064516129, 836.2903225806451, 829.8709677419355, 816.5806451612904, 804.516129032258, 788.9032258064516, 775.9677419354839, 801.2903225806451, 844.258064516129, 815.258064516129, 812.3548387096774, 762.4516129032259, 674.7096774193549, 612.7096774193549], \"yaxis\": \"y\"}, {\"hoverlabel\": {\"namelength\": 0}, \"hovertemplate\": \"month=9<br>hour=%{x}<br>LoadMW=%{y}\", \"legendgroup\": \"month=9\", \"line\": {\"color\": \"#FF97FF\", \"dash\": \"solid\"}, \"mode\": \"lines\", \"name\": \"month=9\", \"showlegend\": true, \"type\": \"scatter\", \"x\": [0, 1, 2, 3, 4, 5, 6, 7, 8, 9, 10, 11, 12, 13, 14, 15, 16, 17, 18, 19, 20, 21, 22, 23], \"xaxis\": \"x\", \"y\": [513.1666666666666, 497.06666666666666, 499.43333333333334, 527.6, 560.9666666666667, 615.7, 669.7666666666667, 711.3, 729.9666666666667, 740.1, 747.6, 746.8, 737.5333333333333, 724.8, 719.3, 721.1666666666666, 748.2666666666667, 816.6, 804.3666666666667, 766.2333333333333, 770.7333333333333, 703.6666666666666, 612.3666666666667, 548.7666666666667], \"yaxis\": \"y\"}, {\"hoverlabel\": {\"namelength\": 0}, \"hovertemplate\": \"month=10<br>hour=%{x}<br>LoadMW=%{y}\", \"legendgroup\": \"month=10\", \"line\": {\"color\": \"#FECB52\", \"dash\": \"solid\"}, \"mode\": \"lines\", \"name\": \"month=10\", \"showlegend\": true, \"type\": \"scatter\", \"x\": [0, 1, 2, 3, 4, 5, 6, 7, 8, 9, 10, 11, 12, 13, 14, 15, 16, 17, 18, 19, 20, 21, 22, 23], \"xaxis\": \"x\", \"y\": [535.5483870967741, 514.0967741935484, 507.6774193548387, 533.4516129032259, 599.1290322580645, 649.8064516129032, 712.3870967741935, 749.3548387096774, 756.3548387096774, 753.0967741935484, 747.5806451612904, 739.483870967742, 758.1290322580645, 749.1290322580645, 736.4193548387096, 770.5483870967741, 866.9354838709677, 889.2903225806451, 861.8709677419355, 823.516129032258, 837.6451612903226, 787.741935483871, 684.258064516129, 596.9354838709677], \"yaxis\": \"y\"}, {\"hoverlabel\": {\"namelength\": 0}, \"hovertemplate\": \"month=11<br>hour=%{x}<br>LoadMW=%{y}\", \"legendgroup\": \"month=11\", \"line\": {\"color\": \"#636efa\", \"dash\": \"solid\"}, \"mode\": \"lines\", \"name\": \"month=11\", \"showlegend\": true, \"type\": \"scatter\", \"x\": [0, 1, 2, 3, 4, 5, 6, 7, 8, 9, 10, 11, 12, 13, 14, 15, 16, 17, 18, 19, 20, 21, 22, 23], \"xaxis\": \"x\", \"y\": [747.9666666666667, 676.0333333333333, 638.4, 636.4333333333333, 671.5333333333333, 738.5333333333333, 793.1666666666666, 855.6333333333333, 897.3, 905.4, 905.9333333333333, 895.8333333333334, 888.4666666666667, 968.8666666666667, 982.4333333333333, 992.8, 1020.8, 1005.1333333333333, 984.0666666666667, 955.6333333333333, 929.0, 1000.8333333333334, 971.0, 858.9], \"yaxis\": \"y\"}, {\"hoverlabel\": {\"namelength\": 0}, \"hovertemplate\": \"month=12<br>hour=%{x}<br>LoadMW=%{y}\", \"legendgroup\": \"month=12\", \"line\": {\"color\": \"#EF553B\", \"dash\": \"solid\"}, \"mode\": \"lines\", \"name\": \"month=12\", \"showlegend\": true, \"type\": \"scatter\", \"x\": [0, 1, 2, 3, 4, 5, 6, 7, 8, 9, 10, 11, 12, 13, 14, 15, 16, 17, 18, 19, 20, 21, 22, 23], \"xaxis\": \"x\", \"y\": [865.2258064516129, 776.8387096774194, 728.4516129032259, 718.2903225806451, 743.1935483870968, 823.258064516129, 864.1290322580645, 941.6774193548387, 993.258064516129, 1008.6129032258065, 1010.8709677419355, 998.8387096774194, 994.2258064516129, 1084.9354838709678, 1101.8064516129032, 1093.1612903225807, 1100.8387096774193, 1080.967741935484, 1062.258064516129, 1033.1290322580646, 1009.8387096774194, 1098.0, 1089.8387096774193, 983.741935483871], \"yaxis\": \"y\"}],\n",
              "                        {\"legend\": {\"tracegroupgap\": 0}, \"margin\": {\"t\": 60}, \"template\": {\"data\": {\"bar\": [{\"error_x\": {\"color\": \"#2a3f5f\"}, \"error_y\": {\"color\": \"#2a3f5f\"}, \"marker\": {\"line\": {\"color\": \"#E5ECF6\", \"width\": 0.5}}, \"type\": \"bar\"}], \"barpolar\": [{\"marker\": {\"line\": {\"color\": \"#E5ECF6\", \"width\": 0.5}}, \"type\": \"barpolar\"}], \"carpet\": [{\"aaxis\": {\"endlinecolor\": \"#2a3f5f\", \"gridcolor\": \"white\", \"linecolor\": \"white\", \"minorgridcolor\": \"white\", \"startlinecolor\": \"#2a3f5f\"}, \"baxis\": {\"endlinecolor\": \"#2a3f5f\", \"gridcolor\": \"white\", \"linecolor\": \"white\", \"minorgridcolor\": \"white\", \"startlinecolor\": \"#2a3f5f\"}, \"type\": \"carpet\"}], \"choropleth\": [{\"colorbar\": {\"outlinewidth\": 0, \"ticks\": \"\"}, \"type\": \"choropleth\"}], \"contour\": [{\"colorbar\": {\"outlinewidth\": 0, \"ticks\": \"\"}, \"colorscale\": [[0.0, \"#0d0887\"], [0.1111111111111111, \"#46039f\"], [0.2222222222222222, \"#7201a8\"], [0.3333333333333333, \"#9c179e\"], [0.4444444444444444, \"#bd3786\"], [0.5555555555555556, \"#d8576b\"], [0.6666666666666666, \"#ed7953\"], [0.7777777777777778, \"#fb9f3a\"], [0.8888888888888888, \"#fdca26\"], [1.0, \"#f0f921\"]], \"type\": \"contour\"}], \"contourcarpet\": [{\"colorbar\": {\"outlinewidth\": 0, \"ticks\": \"\"}, \"type\": \"contourcarpet\"}], \"heatmap\": [{\"colorbar\": {\"outlinewidth\": 0, \"ticks\": \"\"}, \"colorscale\": [[0.0, \"#0d0887\"], [0.1111111111111111, \"#46039f\"], [0.2222222222222222, \"#7201a8\"], [0.3333333333333333, \"#9c179e\"], [0.4444444444444444, \"#bd3786\"], [0.5555555555555556, \"#d8576b\"], [0.6666666666666666, \"#ed7953\"], [0.7777777777777778, \"#fb9f3a\"], [0.8888888888888888, \"#fdca26\"], [1.0, \"#f0f921\"]], \"type\": \"heatmap\"}], \"heatmapgl\": [{\"colorbar\": {\"outlinewidth\": 0, \"ticks\": \"\"}, \"colorscale\": [[0.0, \"#0d0887\"], [0.1111111111111111, \"#46039f\"], [0.2222222222222222, \"#7201a8\"], [0.3333333333333333, \"#9c179e\"], [0.4444444444444444, \"#bd3786\"], [0.5555555555555556, \"#d8576b\"], [0.6666666666666666, \"#ed7953\"], [0.7777777777777778, \"#fb9f3a\"], [0.8888888888888888, \"#fdca26\"], [1.0, \"#f0f921\"]], \"type\": \"heatmapgl\"}], \"histogram\": [{\"marker\": {\"colorbar\": {\"outlinewidth\": 0, \"ticks\": \"\"}}, \"type\": \"histogram\"}], \"histogram2d\": [{\"colorbar\": {\"outlinewidth\": 0, \"ticks\": \"\"}, \"colorscale\": [[0.0, \"#0d0887\"], [0.1111111111111111, \"#46039f\"], [0.2222222222222222, \"#7201a8\"], [0.3333333333333333, \"#9c179e\"], [0.4444444444444444, \"#bd3786\"], [0.5555555555555556, \"#d8576b\"], [0.6666666666666666, \"#ed7953\"], [0.7777777777777778, \"#fb9f3a\"], [0.8888888888888888, \"#fdca26\"], [1.0, \"#f0f921\"]], \"type\": \"histogram2d\"}], \"histogram2dcontour\": [{\"colorbar\": {\"outlinewidth\": 0, \"ticks\": \"\"}, \"colorscale\": [[0.0, \"#0d0887\"], [0.1111111111111111, \"#46039f\"], [0.2222222222222222, \"#7201a8\"], [0.3333333333333333, \"#9c179e\"], [0.4444444444444444, \"#bd3786\"], [0.5555555555555556, \"#d8576b\"], [0.6666666666666666, \"#ed7953\"], [0.7777777777777778, \"#fb9f3a\"], [0.8888888888888888, \"#fdca26\"], [1.0, \"#f0f921\"]], \"type\": \"histogram2dcontour\"}], \"mesh3d\": [{\"colorbar\": {\"outlinewidth\": 0, \"ticks\": \"\"}, \"type\": \"mesh3d\"}], \"parcoords\": [{\"line\": {\"colorbar\": {\"outlinewidth\": 0, \"ticks\": \"\"}}, \"type\": \"parcoords\"}], \"pie\": [{\"automargin\": true, \"type\": \"pie\"}], \"scatter\": [{\"marker\": {\"colorbar\": {\"outlinewidth\": 0, \"ticks\": \"\"}}, \"type\": \"scatter\"}], \"scatter3d\": [{\"line\": {\"colorbar\": {\"outlinewidth\": 0, \"ticks\": \"\"}}, \"marker\": {\"colorbar\": {\"outlinewidth\": 0, \"ticks\": \"\"}}, \"type\": \"scatter3d\"}], \"scattercarpet\": [{\"marker\": {\"colorbar\": {\"outlinewidth\": 0, \"ticks\": \"\"}}, \"type\": \"scattercarpet\"}], \"scattergeo\": [{\"marker\": {\"colorbar\": {\"outlinewidth\": 0, \"ticks\": \"\"}}, \"type\": \"scattergeo\"}], \"scattergl\": [{\"marker\": {\"colorbar\": {\"outlinewidth\": 0, \"ticks\": \"\"}}, \"type\": \"scattergl\"}], \"scattermapbox\": [{\"marker\": {\"colorbar\": {\"outlinewidth\": 0, \"ticks\": \"\"}}, \"type\": \"scattermapbox\"}], \"scatterpolar\": [{\"marker\": {\"colorbar\": {\"outlinewidth\": 0, \"ticks\": \"\"}}, \"type\": \"scatterpolar\"}], \"scatterpolargl\": [{\"marker\": {\"colorbar\": {\"outlinewidth\": 0, \"ticks\": \"\"}}, \"type\": \"scatterpolargl\"}], \"scatterternary\": [{\"marker\": {\"colorbar\": {\"outlinewidth\": 0, \"ticks\": \"\"}}, \"type\": \"scatterternary\"}], \"surface\": [{\"colorbar\": {\"outlinewidth\": 0, \"ticks\": \"\"}, \"colorscale\": [[0.0, \"#0d0887\"], [0.1111111111111111, \"#46039f\"], [0.2222222222222222, \"#7201a8\"], [0.3333333333333333, \"#9c179e\"], [0.4444444444444444, \"#bd3786\"], [0.5555555555555556, \"#d8576b\"], [0.6666666666666666, \"#ed7953\"], [0.7777777777777778, \"#fb9f3a\"], [0.8888888888888888, \"#fdca26\"], [1.0, \"#f0f921\"]], \"type\": \"surface\"}], \"table\": [{\"cells\": {\"fill\": {\"color\": \"#EBF0F8\"}, \"line\": {\"color\": \"white\"}}, \"header\": {\"fill\": {\"color\": \"#C8D4E3\"}, \"line\": {\"color\": \"white\"}}, \"type\": \"table\"}]}, \"layout\": {\"annotationdefaults\": {\"arrowcolor\": \"#2a3f5f\", \"arrowhead\": 0, \"arrowwidth\": 1}, \"coloraxis\": {\"colorbar\": {\"outlinewidth\": 0, \"ticks\": \"\"}}, \"colorscale\": {\"diverging\": [[0, \"#8e0152\"], [0.1, \"#c51b7d\"], [0.2, \"#de77ae\"], [0.3, \"#f1b6da\"], [0.4, \"#fde0ef\"], [0.5, \"#f7f7f7\"], [0.6, \"#e6f5d0\"], [0.7, \"#b8e186\"], [0.8, \"#7fbc41\"], [0.9, \"#4d9221\"], [1, \"#276419\"]], \"sequential\": [[0.0, \"#0d0887\"], [0.1111111111111111, \"#46039f\"], [0.2222222222222222, \"#7201a8\"], [0.3333333333333333, \"#9c179e\"], [0.4444444444444444, \"#bd3786\"], [0.5555555555555556, \"#d8576b\"], [0.6666666666666666, \"#ed7953\"], [0.7777777777777778, \"#fb9f3a\"], [0.8888888888888888, \"#fdca26\"], [1.0, \"#f0f921\"]], \"sequentialminus\": [[0.0, \"#0d0887\"], [0.1111111111111111, \"#46039f\"], [0.2222222222222222, \"#7201a8\"], [0.3333333333333333, \"#9c179e\"], [0.4444444444444444, \"#bd3786\"], [0.5555555555555556, \"#d8576b\"], [0.6666666666666666, \"#ed7953\"], [0.7777777777777778, \"#fb9f3a\"], [0.8888888888888888, \"#fdca26\"], [1.0, \"#f0f921\"]]}, \"colorway\": [\"#636efa\", \"#EF553B\", \"#00cc96\", \"#ab63fa\", \"#FFA15A\", \"#19d3f3\", \"#FF6692\", \"#B6E880\", \"#FF97FF\", \"#FECB52\"], \"font\": {\"color\": \"#2a3f5f\"}, \"geo\": {\"bgcolor\": \"white\", \"lakecolor\": \"white\", \"landcolor\": \"#E5ECF6\", \"showlakes\": true, \"showland\": true, \"subunitcolor\": \"white\"}, \"hoverlabel\": {\"align\": \"left\"}, \"hovermode\": \"closest\", \"mapbox\": {\"style\": \"light\"}, \"paper_bgcolor\": \"white\", \"plot_bgcolor\": \"#E5ECF6\", \"polar\": {\"angularaxis\": {\"gridcolor\": \"white\", \"linecolor\": \"white\", \"ticks\": \"\"}, \"bgcolor\": \"#E5ECF6\", \"radialaxis\": {\"gridcolor\": \"white\", \"linecolor\": \"white\", \"ticks\": \"\"}}, \"scene\": {\"xaxis\": {\"backgroundcolor\": \"#E5ECF6\", \"gridcolor\": \"white\", \"gridwidth\": 2, \"linecolor\": \"white\", \"showbackground\": true, \"ticks\": \"\", \"zerolinecolor\": \"white\"}, \"yaxis\": {\"backgroundcolor\": \"#E5ECF6\", \"gridcolor\": \"white\", \"gridwidth\": 2, \"linecolor\": \"white\", \"showbackground\": true, \"ticks\": \"\", \"zerolinecolor\": \"white\"}, \"zaxis\": {\"backgroundcolor\": \"#E5ECF6\", \"gridcolor\": \"white\", \"gridwidth\": 2, \"linecolor\": \"white\", \"showbackground\": true, \"ticks\": \"\", \"zerolinecolor\": \"white\"}}, \"shapedefaults\": {\"line\": {\"color\": \"#2a3f5f\"}}, \"ternary\": {\"aaxis\": {\"gridcolor\": \"white\", \"linecolor\": \"white\", \"ticks\": \"\"}, \"baxis\": {\"gridcolor\": \"white\", \"linecolor\": \"white\", \"ticks\": \"\"}, \"bgcolor\": \"#E5ECF6\", \"caxis\": {\"gridcolor\": \"white\", \"linecolor\": \"white\", \"ticks\": \"\"}}, \"title\": {\"x\": 0.05}, \"xaxis\": {\"automargin\": true, \"gridcolor\": \"white\", \"linecolor\": \"white\", \"ticks\": \"\", \"title\": {\"standoff\": 15}, \"zerolinecolor\": \"white\", \"zerolinewidth\": 2}, \"yaxis\": {\"automargin\": true, \"gridcolor\": \"white\", \"linecolor\": \"white\", \"ticks\": \"\", \"title\": {\"standoff\": 15}, \"zerolinecolor\": \"white\", \"zerolinewidth\": 2}}}, \"xaxis\": {\"anchor\": \"y\", \"domain\": [0.0, 1.0], \"title\": {\"text\": \"hour\"}}, \"yaxis\": {\"anchor\": \"x\", \"domain\": [0.0, 1.0], \"title\": {\"text\": \"LoadMW\"}}},\n",
              "                        {\"responsive\": true}\n",
              "                    ).then(function(){\n",
              "                            \n",
              "var gd = document.getElementById('8dbe981a-a3ba-491d-9440-3661aa6fe409');\n",
              "var x = new MutationObserver(function (mutations, observer) {{\n",
              "        var display = window.getComputedStyle(gd).display;\n",
              "        if (!display || display === 'none') {{\n",
              "            console.log([gd, 'removed!']);\n",
              "            Plotly.purge(gd);\n",
              "            observer.disconnect();\n",
              "        }}\n",
              "}});\n",
              "\n",
              "// Listen for the removal of the full notebook cells\n",
              "var notebookContainer = gd.closest('#notebook-container');\n",
              "if (notebookContainer) {{\n",
              "    x.observe(notebookContainer, {childList: true});\n",
              "}}\n",
              "\n",
              "// Listen for the clearing of the current output cell\n",
              "var outputEl = gd.closest('.output');\n",
              "if (outputEl) {{\n",
              "    x.observe(outputEl, {childList: true});\n",
              "}}\n",
              "\n",
              "                        })\n",
              "                };\n",
              "                \n",
              "            </script>\n",
              "        </div>\n",
              "</body>\n",
              "</html>"
            ]
          },
          "metadata": {
            "tags": []
          }
        }
      ]
    },
    {
      "cell_type": "markdown",
      "metadata": {
        "id": "GeBVI4HpGdr9",
        "colab_type": "text"
      },
      "source": [
        "**Average hourly consumption of the total consumption for 2016.**"
      ]
    },
    {
      "cell_type": "code",
      "metadata": {
        "id": "ypLWZQ57jxBM",
        "colab_type": "code",
        "outputId": "114d10ea-b0de-4dbc-ff56-6148303eecbb",
        "colab": {
          "base_uri": "https://localhost:8080/",
          "height": 542
        }
      },
      "source": [
        "#VISUALIZATION\n",
        "\n",
        "#Average hourly consumption of the total consumption for 2016\n",
        "df_2016=df_MK_merged[df_MK_merged.year==2016]\n",
        "df_2016avr=df_2016.groupby([\"month\", \"hour\"]).LoadMW.mean().reset_index()\n",
        "px.line(df_2016avr, x=\"hour\", y=\"LoadMW\", color=\"month\")"
      ],
      "execution_count": 21,
      "outputs": [
        {
          "output_type": "display_data",
          "data": {
            "text/html": [
              "<html>\n",
              "<head><meta charset=\"utf-8\" /></head>\n",
              "<body>\n",
              "    <div>\n",
              "            <script src=\"https://cdnjs.cloudflare.com/ajax/libs/mathjax/2.7.5/MathJax.js?config=TeX-AMS-MML_SVG\"></script><script type=\"text/javascript\">if (window.MathJax) {MathJax.Hub.Config({SVG: {font: \"STIX-Web\"}});}</script>\n",
              "                <script type=\"text/javascript\">window.PlotlyConfig = {MathJaxConfig: 'local'};</script>\n",
              "        <script src=\"https://cdn.plot.ly/plotly-latest.min.js\"></script>    \n",
              "            <div id=\"a7c97417-e182-41cf-897b-e31d79eaa9df\" class=\"plotly-graph-div\" style=\"height:525px; width:100%;\"></div>\n",
              "            <script type=\"text/javascript\">\n",
              "                \n",
              "                    window.PLOTLYENV=window.PLOTLYENV || {};\n",
              "                    \n",
              "                if (document.getElementById(\"a7c97417-e182-41cf-897b-e31d79eaa9df\")) {\n",
              "                    Plotly.newPlot(\n",
              "                        'a7c97417-e182-41cf-897b-e31d79eaa9df',\n",
              "                        [{\"hoverlabel\": {\"namelength\": 0}, \"hovertemplate\": \"month=1<br>hour=%{x}<br>LoadMW=%{y}\", \"legendgroup\": \"month=1\", \"line\": {\"color\": \"#636efa\", \"dash\": \"solid\"}, \"mode\": \"lines\", \"name\": \"month=1\", \"showlegend\": true, \"type\": \"scatter\", \"x\": [0, 1, 2, 3, 4, 5, 6, 7, 8, 9, 10, 11, 12, 13, 14, 15, 16, 17, 18, 19, 20, 21, 22, 23], \"xaxis\": \"x\", \"y\": [1009.8064516129032, 914.2258064516129, 853.483870967742, 833.258064516129, 843.8064516129032, 899.4193548387096, 926.4193548387096, 999.1290322580645, 1060.8709677419354, 1091.1935483870968, 1102.9032258064517, 1095.741935483871, 1085.0967741935483, 1073.8387096774193, 1074.967741935484, 1136.7096774193549, 1201.0967741935483, 1189.225806451613, 1169.258064516129, 1139.516129032258, 1121.0, 1227.3548387096773, 1228.2903225806451, 1122.4516129032259], \"yaxis\": \"y\"}, {\"hoverlabel\": {\"namelength\": 0}, \"hovertemplate\": \"month=2<br>hour=%{x}<br>LoadMW=%{y}\", \"legendgroup\": \"month=2\", \"line\": {\"color\": \"#EF553B\", \"dash\": \"solid\"}, \"mode\": \"lines\", \"name\": \"month=2\", \"showlegend\": true, \"type\": \"scatter\", \"x\": [0, 1, 2, 3, 4, 5, 6, 7, 8, 9, 10, 11, 12, 13, 14, 15, 16, 17, 18, 19, 20, 21, 22, 23], \"xaxis\": \"x\", \"y\": [794.3793103448276, 708.1724137931035, 662.8275862068965, 650.4827586206897, 683.8275862068965, 748.2068965517242, 795.6896551724138, 863.0344827586207, 905.551724137931, 914.5172413793103, 907.2068965517242, 895.0689655172414, 881.1379310344828, 869.7931034482758, 867.0344827586207, 898.3103448275862, 984.7931034482758, 1011.1379310344828, 996.7241379310345, 965.6206896551724, 943.448275862069, 1027.0, 1012.2068965517242, 907.7586206896551], \"yaxis\": \"y\"}, {\"hoverlabel\": {\"namelength\": 0}, \"hovertemplate\": \"month=3<br>hour=%{x}<br>LoadMW=%{y}\", \"legendgroup\": \"month=3\", \"line\": {\"color\": \"#00cc96\", \"dash\": \"solid\"}, \"mode\": \"lines\", \"name\": \"month=3\", \"showlegend\": true, \"type\": \"scatter\", \"x\": [0, 1, 2, 3, 4, 5, 6, 7, 8, 9, 10, 11, 12, 13, 14, 15, 16, 17, 18, 19, 20, 21, 22, 23], \"xaxis\": \"x\", \"y\": [781.483870967742, 703.8709677419355, 664.8064516129032, 664.3870967741935, 705.6774193548387, 752.6774193548387, 811.9354838709677, 874.516129032258, 906.3870967741935, 911.7741935483871, 907.6129032258065, 897.7096774193549, 883.6774193548387, 866.1935483870968, 858.1935483870968, 870.1612903225806, 931.5483870967741, 1014.0322580645161, 1018.9354838709677, 990.8387096774194, 974.1612903225806, 1034.8387096774193, 996.3548387096774, 887.0645161290323], \"yaxis\": \"y\"}, {\"hoverlabel\": {\"namelength\": 0}, \"hovertemplate\": \"month=4<br>hour=%{x}<br>LoadMW=%{y}\", \"legendgroup\": \"month=4\", \"line\": {\"color\": \"#ab63fa\", \"dash\": \"solid\"}, \"mode\": \"lines\", \"name\": \"month=4\", \"showlegend\": true, \"type\": \"scatter\", \"x\": [0, 1, 2, 3, 4, 5, 6, 7, 8, 9, 10, 11, 12, 13, 14, 15, 16, 17, 18, 19, 20, 21, 22, 23], \"xaxis\": \"x\", \"y\": [593.0, 572.3, 571.7333333333333, 605.4666666666667, 643.3333333333334, 706.1666666666666, 766.5666666666667, 803.2666666666667, 818.4, 817.1666666666666, 810.5, 804.8666666666667, 789.5, 774.1666666666666, 769.3333333333334, 764.8666666666667, 782.0333333333333, 879.9666666666667, 923.7666666666667, 895.5666666666667, 908.8, 847.7, 735.3, 644.6666666666666], \"yaxis\": \"y\"}, {\"hoverlabel\": {\"namelength\": 0}, \"hovertemplate\": \"month=5<br>hour=%{x}<br>LoadMW=%{y}\", \"legendgroup\": \"month=5\", \"line\": {\"color\": \"#FFA15A\", \"dash\": \"solid\"}, \"mode\": \"lines\", \"name\": \"month=5\", \"showlegend\": true, \"type\": \"scatter\", \"x\": [0, 1, 2, 3, 4, 5, 6, 7, 8, 9, 10, 11, 12, 13, 14, 15, 16, 17, 18, 19, 20, 21, 22, 23], \"xaxis\": \"x\", \"y\": [556.2258064516129, 535.3548387096774, 538.1612903225806, 544.483870967742, 587.258064516129, 650.483870967742, 714.0645161290323, 758.9032258064516, 777.8709677419355, 784.9354838709677, 785.4193548387096, 778.741935483871, 766.3225806451613, 750.1612903225806, 747.483870967742, 744.3548387096774, 750.483870967742, 795.0967741935484, 863.4516129032259, 855.6774193548387, 869.1935483870968, 809.3225806451613, 698.258064516129, 608.1290322580645], \"yaxis\": \"y\"}, {\"hoverlabel\": {\"namelength\": 0}, \"hovertemplate\": \"month=6<br>hour=%{x}<br>LoadMW=%{y}\", \"legendgroup\": \"month=6\", \"line\": {\"color\": \"#19d3f3\", \"dash\": \"solid\"}, \"mode\": \"lines\", \"name\": \"month=6\", \"showlegend\": true, \"type\": \"scatter\", \"x\": [0, 1, 2, 3, 4, 5, 6, 7, 8, 9, 10, 11, 12, 13, 14, 15, 16, 17, 18, 19, 20, 21, 22, 23], \"xaxis\": \"x\", \"y\": [616.0, 577.7666666666667, 550.3, 543.9666666666667, 576.0666666666667, 629.8333333333334, 685.0666666666667, 727.4333333333333, 749.8, 779.3333333333334, 798.0666666666667, 807.8666666666667, 799.9666666666667, 790.0, 780.9333333333333, 776.4333333333333, 780.8, 801.8666666666667, 826.4666666666667, 844.9333333333333, 848.8333333333334, 800.7333333333333, 720.0333333333333, 664.7333333333333], \"yaxis\": \"y\"}, {\"hoverlabel\": {\"namelength\": 0}, \"hovertemplate\": \"month=7<br>hour=%{x}<br>LoadMW=%{y}\", \"legendgroup\": \"month=7\", \"line\": {\"color\": \"#FF6692\", \"dash\": \"solid\"}, \"mode\": \"lines\", \"name\": \"month=7\", \"showlegend\": true, \"type\": \"scatter\", \"x\": [0, 1, 2, 3, 4, 5, 6, 7, 8, 9, 10, 11, 12, 13, 14, 15, 16, 17, 18, 19, 20, 21, 22, 23], \"xaxis\": \"x\", \"y\": [599.6129032258065, 573.0645161290323, 569.3225806451613, 565.1290322580645, 591.8709677419355, 650.7096774193549, 717.2903225806451, 768.8064516129032, 803.516129032258, 829.258064516129, 849.741935483871, 854.0322580645161, 844.258064516129, 826.741935483871, 811.9354838709677, 799.4193548387096, 791.0967741935484, 792.2258064516129, 843.0967741935484, 854.0322580645161, 857.9032258064516, 807.3225806451613, 724.1290322580645, 647.7741935483871], \"yaxis\": \"y\"}, {\"hoverlabel\": {\"namelength\": 0}, \"hovertemplate\": \"month=8<br>hour=%{x}<br>LoadMW=%{y}\", \"legendgroup\": \"month=8\", \"line\": {\"color\": \"#B6E880\", \"dash\": \"solid\"}, \"mode\": \"lines\", \"name\": \"month=8\", \"showlegend\": true, \"type\": \"scatter\", \"x\": [0, 1, 2, 3, 4, 5, 6, 7, 8, 9, 10, 11, 12, 13, 14, 15, 16, 17, 18, 19, 20, 21, 22, 23], \"xaxis\": \"x\", \"y\": [566.9032258064516, 549.0, 547.0967741935484, 556.1290322580645, 571.8709677419355, 624.516129032258, 694.3870967741935, 743.1935483870968, 773.6451612903226, 794.8387096774194, 808.5806451612904, 808.9032258064516, 806.8709677419355, 792.483870967742, 777.741935483871, 766.9354838709677, 758.0, 791.6774193548387, 846.2258064516129, 819.7096774193549, 824.0, 769.1935483870968, 682.258064516129, 612.6774193548387], \"yaxis\": \"y\"}, {\"hoverlabel\": {\"namelength\": 0}, \"hovertemplate\": \"month=9<br>hour=%{x}<br>LoadMW=%{y}\", \"legendgroup\": \"month=9\", \"line\": {\"color\": \"#FF97FF\", \"dash\": \"solid\"}, \"mode\": \"lines\", \"name\": \"month=9\", \"showlegend\": true, \"type\": \"scatter\", \"x\": [0, 1, 2, 3, 4, 5, 6, 7, 8, 9, 10, 11, 12, 13, 14, 15, 16, 17, 18, 19, 20, 21, 22, 23], \"xaxis\": \"x\", \"y\": [572.9666666666667, 563.1666666666666, 562.7, 593.0333333333333, 628.8333333333334, 680.2333333333333, 737.3666666666667, 773.3, 787.7333333333333, 802.1, 807.9666666666667, 801.9666666666667, 794.8333333333334, 775.9333333333333, 772.2666666666667, 770.8333333333334, 814.0333333333333, 889.3666666666667, 879.7, 838.2, 845.9666666666667, 781.3, 682.1, 613.0], \"yaxis\": \"y\"}, {\"hoverlabel\": {\"namelength\": 0}, \"hovertemplate\": \"month=10<br>hour=%{x}<br>LoadMW=%{y}\", \"legendgroup\": \"month=10\", \"line\": {\"color\": \"#FECB52\", \"dash\": \"solid\"}, \"mode\": \"lines\", \"name\": \"month=10\", \"showlegend\": true, \"type\": \"scatter\", \"x\": [0, 1, 2, 3, 4, 5, 6, 7, 8, 9, 10, 11, 12, 13, 14, 15, 16, 17, 18, 19, 20, 21, 22, 23], \"xaxis\": \"x\", \"y\": [643.8387096774194, 619.6129032258065, 618.0, 645.0967741935484, 712.0, 766.6774193548387, 835.9032258064516, 881.0967741935484, 900.4516129032259, 904.0, 897.0645161290323, 881.7096774193549, 870.9354838709677, 858.3225806451613, 869.516129032258, 917.2903225806451, 999.6129032258065, 1015.1612903225806, 982.4193548387096, 944.516129032258, 972.483870967742, 914.1290322580645, 806.0, 712.6451612903226], \"yaxis\": \"y\"}, {\"hoverlabel\": {\"namelength\": 0}, \"hovertemplate\": \"month=11<br>hour=%{x}<br>LoadMW=%{y}\", \"legendgroup\": \"month=11\", \"line\": {\"color\": \"#636efa\", \"dash\": \"solid\"}, \"mode\": \"lines\", \"name\": \"month=11\", \"showlegend\": true, \"type\": \"scatter\", \"x\": [0, 1, 2, 3, 4, 5, 6, 7, 8, 9, 10, 11, 12, 13, 14, 15, 16, 17, 18, 19, 20, 21, 22, 23], \"xaxis\": \"x\", \"y\": [832.8333333333334, 751.9666666666667, 711.0666666666667, 702.1666666666666, 742.0333333333333, 804.9, 867.0666666666667, 936.8333333333334, 983.1666666666666, 995.2666666666667, 996.0333333333333, 986.5666666666667, 975.4, 964.8666666666667, 979.5333333333333, 1060.9, 1111.8666666666666, 1092.4333333333334, 1076.0333333333333, 1040.7333333333333, 1015.9, 1092.8333333333333, 1063.7, 954.6], \"yaxis\": \"y\"}, {\"hoverlabel\": {\"namelength\": 0}, \"hovertemplate\": \"month=12<br>hour=%{x}<br>LoadMW=%{y}\", \"legendgroup\": \"month=12\", \"line\": {\"color\": \"#EF553B\", \"dash\": \"solid\"}, \"mode\": \"lines\", \"name\": \"month=12\", \"showlegend\": true, \"type\": \"scatter\", \"x\": [0, 1, 2, 3, 4, 5, 6, 7, 8, 9, 10, 11, 12, 13, 14, 15, 16, 17, 18, 19, 20, 21, 22, 23], \"xaxis\": \"x\", \"y\": [1037.032258064516, 938.1935483870968, 882.6451612903226, 865.0322580645161, 892.3870967741935, 968.9354838709677, 1017.6774193548387, 1096.4516129032259, 1155.516129032258, 1175.3548387096773, 1173.967741935484, 1158.258064516129, 1148.7096774193549, 1138.774193548387, 1151.6451612903227, 1232.2903225806451, 1269.741935483871, 1252.3225806451612, 1234.4516129032259, 1204.774193548387, 1180.1935483870968, 1284.1935483870968, 1273.1612903225807, 1164.3870967741937], \"yaxis\": \"y\"}],\n",
              "                        {\"legend\": {\"tracegroupgap\": 0}, \"margin\": {\"t\": 60}, \"template\": {\"data\": {\"bar\": [{\"error_x\": {\"color\": \"#2a3f5f\"}, \"error_y\": {\"color\": \"#2a3f5f\"}, \"marker\": {\"line\": {\"color\": \"#E5ECF6\", \"width\": 0.5}}, \"type\": \"bar\"}], \"barpolar\": [{\"marker\": {\"line\": {\"color\": \"#E5ECF6\", \"width\": 0.5}}, \"type\": \"barpolar\"}], \"carpet\": [{\"aaxis\": {\"endlinecolor\": \"#2a3f5f\", \"gridcolor\": \"white\", \"linecolor\": \"white\", \"minorgridcolor\": \"white\", \"startlinecolor\": \"#2a3f5f\"}, \"baxis\": {\"endlinecolor\": \"#2a3f5f\", \"gridcolor\": \"white\", \"linecolor\": \"white\", \"minorgridcolor\": \"white\", \"startlinecolor\": \"#2a3f5f\"}, \"type\": \"carpet\"}], \"choropleth\": [{\"colorbar\": {\"outlinewidth\": 0, \"ticks\": \"\"}, \"type\": \"choropleth\"}], \"contour\": [{\"colorbar\": {\"outlinewidth\": 0, \"ticks\": \"\"}, \"colorscale\": [[0.0, \"#0d0887\"], [0.1111111111111111, \"#46039f\"], [0.2222222222222222, \"#7201a8\"], [0.3333333333333333, \"#9c179e\"], [0.4444444444444444, \"#bd3786\"], [0.5555555555555556, \"#d8576b\"], [0.6666666666666666, \"#ed7953\"], [0.7777777777777778, \"#fb9f3a\"], [0.8888888888888888, \"#fdca26\"], [1.0, \"#f0f921\"]], \"type\": \"contour\"}], \"contourcarpet\": [{\"colorbar\": {\"outlinewidth\": 0, \"ticks\": \"\"}, \"type\": \"contourcarpet\"}], \"heatmap\": [{\"colorbar\": {\"outlinewidth\": 0, \"ticks\": \"\"}, \"colorscale\": [[0.0, \"#0d0887\"], [0.1111111111111111, \"#46039f\"], [0.2222222222222222, \"#7201a8\"], [0.3333333333333333, \"#9c179e\"], [0.4444444444444444, \"#bd3786\"], [0.5555555555555556, \"#d8576b\"], [0.6666666666666666, \"#ed7953\"], [0.7777777777777778, \"#fb9f3a\"], [0.8888888888888888, \"#fdca26\"], [1.0, \"#f0f921\"]], \"type\": \"heatmap\"}], \"heatmapgl\": [{\"colorbar\": {\"outlinewidth\": 0, \"ticks\": \"\"}, \"colorscale\": [[0.0, \"#0d0887\"], [0.1111111111111111, \"#46039f\"], [0.2222222222222222, \"#7201a8\"], [0.3333333333333333, \"#9c179e\"], [0.4444444444444444, \"#bd3786\"], [0.5555555555555556, \"#d8576b\"], [0.6666666666666666, \"#ed7953\"], [0.7777777777777778, \"#fb9f3a\"], [0.8888888888888888, \"#fdca26\"], [1.0, \"#f0f921\"]], \"type\": \"heatmapgl\"}], \"histogram\": [{\"marker\": {\"colorbar\": {\"outlinewidth\": 0, \"ticks\": \"\"}}, \"type\": \"histogram\"}], \"histogram2d\": [{\"colorbar\": {\"outlinewidth\": 0, \"ticks\": \"\"}, \"colorscale\": [[0.0, \"#0d0887\"], [0.1111111111111111, \"#46039f\"], [0.2222222222222222, \"#7201a8\"], [0.3333333333333333, \"#9c179e\"], [0.4444444444444444, \"#bd3786\"], [0.5555555555555556, \"#d8576b\"], [0.6666666666666666, \"#ed7953\"], [0.7777777777777778, \"#fb9f3a\"], [0.8888888888888888, \"#fdca26\"], [1.0, \"#f0f921\"]], \"type\": \"histogram2d\"}], \"histogram2dcontour\": [{\"colorbar\": {\"outlinewidth\": 0, \"ticks\": \"\"}, \"colorscale\": [[0.0, \"#0d0887\"], [0.1111111111111111, \"#46039f\"], [0.2222222222222222, \"#7201a8\"], [0.3333333333333333, \"#9c179e\"], [0.4444444444444444, \"#bd3786\"], [0.5555555555555556, \"#d8576b\"], [0.6666666666666666, \"#ed7953\"], [0.7777777777777778, \"#fb9f3a\"], [0.8888888888888888, \"#fdca26\"], [1.0, \"#f0f921\"]], \"type\": \"histogram2dcontour\"}], \"mesh3d\": [{\"colorbar\": {\"outlinewidth\": 0, \"ticks\": \"\"}, \"type\": \"mesh3d\"}], \"parcoords\": [{\"line\": {\"colorbar\": {\"outlinewidth\": 0, \"ticks\": \"\"}}, \"type\": \"parcoords\"}], \"pie\": [{\"automargin\": true, \"type\": \"pie\"}], \"scatter\": [{\"marker\": {\"colorbar\": {\"outlinewidth\": 0, \"ticks\": \"\"}}, \"type\": \"scatter\"}], \"scatter3d\": [{\"line\": {\"colorbar\": {\"outlinewidth\": 0, \"ticks\": \"\"}}, \"marker\": {\"colorbar\": {\"outlinewidth\": 0, \"ticks\": \"\"}}, \"type\": \"scatter3d\"}], \"scattercarpet\": [{\"marker\": {\"colorbar\": {\"outlinewidth\": 0, \"ticks\": \"\"}}, \"type\": \"scattercarpet\"}], \"scattergeo\": [{\"marker\": {\"colorbar\": {\"outlinewidth\": 0, \"ticks\": \"\"}}, \"type\": \"scattergeo\"}], \"scattergl\": [{\"marker\": {\"colorbar\": {\"outlinewidth\": 0, \"ticks\": \"\"}}, \"type\": \"scattergl\"}], \"scattermapbox\": [{\"marker\": {\"colorbar\": {\"outlinewidth\": 0, \"ticks\": \"\"}}, \"type\": \"scattermapbox\"}], \"scatterpolar\": [{\"marker\": {\"colorbar\": {\"outlinewidth\": 0, \"ticks\": \"\"}}, \"type\": \"scatterpolar\"}], \"scatterpolargl\": [{\"marker\": {\"colorbar\": {\"outlinewidth\": 0, \"ticks\": \"\"}}, \"type\": \"scatterpolargl\"}], \"scatterternary\": [{\"marker\": {\"colorbar\": {\"outlinewidth\": 0, \"ticks\": \"\"}}, \"type\": \"scatterternary\"}], \"surface\": [{\"colorbar\": {\"outlinewidth\": 0, \"ticks\": \"\"}, \"colorscale\": [[0.0, \"#0d0887\"], [0.1111111111111111, \"#46039f\"], [0.2222222222222222, \"#7201a8\"], [0.3333333333333333, \"#9c179e\"], [0.4444444444444444, \"#bd3786\"], [0.5555555555555556, \"#d8576b\"], [0.6666666666666666, \"#ed7953\"], [0.7777777777777778, \"#fb9f3a\"], [0.8888888888888888, \"#fdca26\"], [1.0, \"#f0f921\"]], \"type\": \"surface\"}], \"table\": [{\"cells\": {\"fill\": {\"color\": \"#EBF0F8\"}, \"line\": {\"color\": \"white\"}}, \"header\": {\"fill\": {\"color\": \"#C8D4E3\"}, \"line\": {\"color\": \"white\"}}, \"type\": \"table\"}]}, \"layout\": {\"annotationdefaults\": {\"arrowcolor\": \"#2a3f5f\", \"arrowhead\": 0, \"arrowwidth\": 1}, \"coloraxis\": {\"colorbar\": {\"outlinewidth\": 0, \"ticks\": \"\"}}, \"colorscale\": {\"diverging\": [[0, \"#8e0152\"], [0.1, \"#c51b7d\"], [0.2, \"#de77ae\"], [0.3, \"#f1b6da\"], [0.4, \"#fde0ef\"], [0.5, \"#f7f7f7\"], [0.6, \"#e6f5d0\"], [0.7, \"#b8e186\"], [0.8, \"#7fbc41\"], [0.9, \"#4d9221\"], [1, \"#276419\"]], \"sequential\": [[0.0, \"#0d0887\"], [0.1111111111111111, \"#46039f\"], [0.2222222222222222, \"#7201a8\"], [0.3333333333333333, \"#9c179e\"], [0.4444444444444444, \"#bd3786\"], [0.5555555555555556, \"#d8576b\"], [0.6666666666666666, \"#ed7953\"], [0.7777777777777778, \"#fb9f3a\"], [0.8888888888888888, \"#fdca26\"], [1.0, \"#f0f921\"]], \"sequentialminus\": [[0.0, \"#0d0887\"], [0.1111111111111111, \"#46039f\"], [0.2222222222222222, \"#7201a8\"], [0.3333333333333333, \"#9c179e\"], [0.4444444444444444, \"#bd3786\"], [0.5555555555555556, \"#d8576b\"], [0.6666666666666666, \"#ed7953\"], [0.7777777777777778, \"#fb9f3a\"], [0.8888888888888888, \"#fdca26\"], [1.0, \"#f0f921\"]]}, \"colorway\": [\"#636efa\", \"#EF553B\", \"#00cc96\", \"#ab63fa\", \"#FFA15A\", \"#19d3f3\", \"#FF6692\", \"#B6E880\", \"#FF97FF\", \"#FECB52\"], \"font\": {\"color\": \"#2a3f5f\"}, \"geo\": {\"bgcolor\": \"white\", \"lakecolor\": \"white\", \"landcolor\": \"#E5ECF6\", \"showlakes\": true, \"showland\": true, \"subunitcolor\": \"white\"}, \"hoverlabel\": {\"align\": \"left\"}, \"hovermode\": \"closest\", \"mapbox\": {\"style\": \"light\"}, \"paper_bgcolor\": \"white\", \"plot_bgcolor\": \"#E5ECF6\", \"polar\": {\"angularaxis\": {\"gridcolor\": \"white\", \"linecolor\": \"white\", \"ticks\": \"\"}, \"bgcolor\": \"#E5ECF6\", \"radialaxis\": {\"gridcolor\": \"white\", \"linecolor\": \"white\", \"ticks\": \"\"}}, \"scene\": {\"xaxis\": {\"backgroundcolor\": \"#E5ECF6\", \"gridcolor\": \"white\", \"gridwidth\": 2, \"linecolor\": \"white\", \"showbackground\": true, \"ticks\": \"\", \"zerolinecolor\": \"white\"}, \"yaxis\": {\"backgroundcolor\": \"#E5ECF6\", \"gridcolor\": \"white\", \"gridwidth\": 2, \"linecolor\": \"white\", \"showbackground\": true, \"ticks\": \"\", \"zerolinecolor\": \"white\"}, \"zaxis\": {\"backgroundcolor\": \"#E5ECF6\", \"gridcolor\": \"white\", \"gridwidth\": 2, \"linecolor\": \"white\", \"showbackground\": true, \"ticks\": \"\", \"zerolinecolor\": \"white\"}}, \"shapedefaults\": {\"line\": {\"color\": \"#2a3f5f\"}}, \"ternary\": {\"aaxis\": {\"gridcolor\": \"white\", \"linecolor\": \"white\", \"ticks\": \"\"}, \"baxis\": {\"gridcolor\": \"white\", \"linecolor\": \"white\", \"ticks\": \"\"}, \"bgcolor\": \"#E5ECF6\", \"caxis\": {\"gridcolor\": \"white\", \"linecolor\": \"white\", \"ticks\": \"\"}}, \"title\": {\"x\": 0.05}, \"xaxis\": {\"automargin\": true, \"gridcolor\": \"white\", \"linecolor\": \"white\", \"ticks\": \"\", \"title\": {\"standoff\": 15}, \"zerolinecolor\": \"white\", \"zerolinewidth\": 2}, \"yaxis\": {\"automargin\": true, \"gridcolor\": \"white\", \"linecolor\": \"white\", \"ticks\": \"\", \"title\": {\"standoff\": 15}, \"zerolinecolor\": \"white\", \"zerolinewidth\": 2}}}, \"xaxis\": {\"anchor\": \"y\", \"domain\": [0.0, 1.0], \"title\": {\"text\": \"hour\"}}, \"yaxis\": {\"anchor\": \"x\", \"domain\": [0.0, 1.0], \"title\": {\"text\": \"LoadMW\"}}},\n",
              "                        {\"responsive\": true}\n",
              "                    ).then(function(){\n",
              "                            \n",
              "var gd = document.getElementById('a7c97417-e182-41cf-897b-e31d79eaa9df');\n",
              "var x = new MutationObserver(function (mutations, observer) {{\n",
              "        var display = window.getComputedStyle(gd).display;\n",
              "        if (!display || display === 'none') {{\n",
              "            console.log([gd, 'removed!']);\n",
              "            Plotly.purge(gd);\n",
              "            observer.disconnect();\n",
              "        }}\n",
              "}});\n",
              "\n",
              "// Listen for the removal of the full notebook cells\n",
              "var notebookContainer = gd.closest('#notebook-container');\n",
              "if (notebookContainer) {{\n",
              "    x.observe(notebookContainer, {childList: true});\n",
              "}}\n",
              "\n",
              "// Listen for the clearing of the current output cell\n",
              "var outputEl = gd.closest('.output');\n",
              "if (outputEl) {{\n",
              "    x.observe(outputEl, {childList: true});\n",
              "}}\n",
              "\n",
              "                        })\n",
              "                };\n",
              "                \n",
              "            </script>\n",
              "        </div>\n",
              "</body>\n",
              "</html>"
            ]
          },
          "metadata": {
            "tags": []
          }
        }
      ]
    },
    {
      "cell_type": "markdown",
      "metadata": {
        "id": "sSKNlF3fGk3y",
        "colab_type": "text"
      },
      "source": [
        "**Average hourly consumption of the total consumption for 2018.**"
      ]
    },
    {
      "cell_type": "code",
      "metadata": {
        "id": "7nGpxc2TmOaK",
        "colab_type": "code",
        "outputId": "84b92053-4e84-4878-e6f8-5a9f6ad2ed33",
        "colab": {
          "base_uri": "https://localhost:8080/",
          "height": 542
        }
      },
      "source": [
        "#VISUALIZATION\n",
        "\n",
        "#Average hourly consumption of the total consumption for 2018\n",
        "df_2018=df_MK_merged[df_MK_merged.year==2018]\n",
        "df_2018avr=df_2018.groupby([\"month\", \"hour\"]).LoadMW.mean().reset_index()\n",
        "px.line(df_2018avr, x=\"hour\", y=\"LoadMW\", color=\"month\")"
      ],
      "execution_count": 22,
      "outputs": [
        {
          "output_type": "display_data",
          "data": {
            "text/html": [
              "<html>\n",
              "<head><meta charset=\"utf-8\" /></head>\n",
              "<body>\n",
              "    <div>\n",
              "            <script src=\"https://cdnjs.cloudflare.com/ajax/libs/mathjax/2.7.5/MathJax.js?config=TeX-AMS-MML_SVG\"></script><script type=\"text/javascript\">if (window.MathJax) {MathJax.Hub.Config({SVG: {font: \"STIX-Web\"}});}</script>\n",
              "                <script type=\"text/javascript\">window.PlotlyConfig = {MathJaxConfig: 'local'};</script>\n",
              "        <script src=\"https://cdn.plot.ly/plotly-latest.min.js\"></script>    \n",
              "            <div id=\"c2e64f0e-d0b4-4c5a-a713-63995271c750\" class=\"plotly-graph-div\" style=\"height:525px; width:100%;\"></div>\n",
              "            <script type=\"text/javascript\">\n",
              "                \n",
              "                    window.PLOTLYENV=window.PLOTLYENV || {};\n",
              "                    \n",
              "                if (document.getElementById(\"c2e64f0e-d0b4-4c5a-a713-63995271c750\")) {\n",
              "                    Plotly.newPlot(\n",
              "                        'c2e64f0e-d0b4-4c5a-a713-63995271c750',\n",
              "                        [{\"hoverlabel\": {\"namelength\": 0}, \"hovertemplate\": \"month=1<br>hour=%{x}<br>LoadMW=%{y}\", \"legendgroup\": \"month=1\", \"line\": {\"color\": \"#636efa\", \"dash\": \"solid\"}, \"mode\": \"lines\", \"name\": \"month=1\", \"showlegend\": true, \"type\": \"scatter\", \"x\": [0, 1, 2, 3, 4, 5, 6, 7, 8, 9, 10, 11, 12, 13, 14, 15, 16, 17, 18, 19, 20, 21, 22, 23], \"xaxis\": \"x\", \"y\": [844.8387096774194, 748.5806451612904, 677.5806451612904, 637.516129032258, 628.741935483871, 644.3870967741935, 699.258064516129, 735.258064516129, 800.2903225806451, 846.9677419354839, 864.8064516129032, 872.1612903225806, 867.3225806451613, 860.0, 929.8709677419355, 924.516129032258, 896.4193548387096, 923.9677419354839, 923.0645161290323, 920.258064516129, 907.7741935483871, 887.1935483870968, 953.3548387096774, 930.9677419354839], \"yaxis\": \"y\"}, {\"hoverlabel\": {\"namelength\": 0}, \"hovertemplate\": \"month=2<br>hour=%{x}<br>LoadMW=%{y}\", \"legendgroup\": \"month=2\", \"line\": {\"color\": \"#EF553B\", \"dash\": \"solid\"}, \"mode\": \"lines\", \"name\": \"month=2\", \"showlegend\": true, \"type\": \"scatter\", \"x\": [0, 1, 2, 3, 4, 5, 6, 7, 8, 9, 10, 11, 12, 13, 14, 15, 16, 17, 18, 19, 20, 21, 22, 23], \"xaxis\": \"x\", \"y\": [871.4642857142857, 765.9285714285714, 691.6071428571429, 651.1071428571429, 641.6785714285714, 670.3214285714286, 728.8928571428571, 782.2857142857143, 848.8571428571429, 893.7142857142857, 916.8214285714286, 924.7142857142857, 917.9285714285714, 912.4285714285714, 985.8928571428571, 978.5357142857143, 926.2142857142857, 952.25, 965.5714285714286, 971.5357142857143, 953.6428571428571, 934.1785714285714, 1001.7142857142857, 979.75], \"yaxis\": \"y\"}, {\"hoverlabel\": {\"namelength\": 0}, \"hovertemplate\": \"month=3<br>hour=%{x}<br>LoadMW=%{y}\", \"legendgroup\": \"month=3\", \"line\": {\"color\": \"#00cc96\", \"dash\": \"solid\"}, \"mode\": \"lines\", \"name\": \"month=3\", \"showlegend\": true, \"type\": \"scatter\", \"x\": [0, 1, 2, 3, 4, 5, 6, 7, 8, 9, 10, 11, 12, 13, 14, 15, 16, 17, 18, 19, 20, 21, 22, 23], \"xaxis\": \"x\", \"y\": [814.1034482758621, 712.4827586206897, 641.1379310344828, 604.1724137931035, 600.8275862068965, 631.3793103448276, 683.2758620689655, 740.2758620689655, 797.7241379310345, 833.3448275862069, 842.8275862068965, 839.2758620689655, 829.1379310344828, 820.3103448275862, 893.3448275862069, 880.7586206896551, 830.448275862069, 845.5862068965517, 882.6551724137931, 913.6206896551724, 899.8275862068965, 873.551724137931, 933.4137931034483, 912.1034482758621], \"yaxis\": \"y\"}, {\"hoverlabel\": {\"namelength\": 0}, \"hovertemplate\": \"month=4<br>hour=%{x}<br>LoadMW=%{y}\", \"legendgroup\": \"month=4\", \"line\": {\"color\": \"#ab63fa\", \"dash\": \"solid\"}, \"mode\": \"lines\", \"name\": \"month=4\", \"showlegend\": true, \"type\": \"scatter\", \"x\": [0, 1, 2, 3, 4, 5, 6, 7, 8, 9, 10, 11, 12, 13, 14, 15, 16, 17, 18, 19, 20, 21, 22, 23], \"xaxis\": \"x\", \"y\": [636.9666666666667, 556.5333333333333, 505.9, 484.6666666666667, 483.3333333333333, 502.73333333333335, 547.3, 609.9, 673.7666666666667, 708.0, 721.6333333333333, 726.3, 726.7, 725.1666666666666, 773.1, 757.1666666666666, 719.6333333333333, 713.9666666666667, 722.1666666666666, 770.8, 804.2666666666667, 779.6, 781.5333333333333, 730.4], \"yaxis\": \"y\"}, {\"hoverlabel\": {\"namelength\": 0}, \"hovertemplate\": \"month=5<br>hour=%{x}<br>LoadMW=%{y}\", \"legendgroup\": \"month=5\", \"line\": {\"color\": \"#FFA15A\", \"dash\": \"solid\"}, \"mode\": \"lines\", \"name\": \"month=5\", \"showlegend\": true, \"type\": \"scatter\", \"x\": [0, 1, 2, 3, 4, 5, 6, 7, 8, 9, 10, 11, 12, 13, 14, 15, 16, 17, 18, 19, 20, 21, 22, 23], \"xaxis\": \"x\", \"y\": [618.516129032258, 554.7741935483871, 514.8064516129032, 485.19354838709677, 467.96774193548384, 472.5806451612903, 518.8709677419355, 575.8387096774194, 630.0967741935484, 660.8387096774194, 678.0, 688.2258064516129, 693.2903225806451, 697.258064516129, 754.3870967741935, 737.3548387096774, 699.1935483870968, 697.2258064516129, 710.9354838709677, 740.1935483870968, 755.741935483871, 744.2258064516129, 752.6129032258065, 710.9677419354839], \"yaxis\": \"y\"}, {\"hoverlabel\": {\"namelength\": 0}, \"hovertemplate\": \"month=6<br>hour=%{x}<br>LoadMW=%{y}\", \"legendgroup\": \"month=6\", \"line\": {\"color\": \"#19d3f3\", \"dash\": \"solid\"}, \"mode\": \"lines\", \"name\": \"month=6\", \"showlegend\": true, \"type\": \"scatter\", \"x\": [0, 1, 2, 3, 4, 5, 6, 7, 8, 9, 10, 11, 12, 13, 14, 15, 16, 17, 18, 19, 20, 21, 22, 23], \"xaxis\": \"x\", \"y\": [631.1428571428571, 561.8214285714286, 516.8214285714286, 493.2142857142857, 489.85714285714283, 493.9642857142857, 532.6428571428571, 588.8928571428571, 647.2142857142857, 684.3571428571429, 705.4285714285714, 718.7857142857143, 728.0714285714286, 731.3928571428571, 784.9642857142857, 766.0, 725.3571428571429, 716.6071428571429, 714.1785714285714, 730.3928571428571, 755.0357142857143, 742.8928571428571, 759.2142857142857, 720.25], \"yaxis\": \"y\"}, {\"hoverlabel\": {\"namelength\": 0}, \"hovertemplate\": \"month=7<br>hour=%{x}<br>LoadMW=%{y}\", \"legendgroup\": \"month=7\", \"line\": {\"color\": \"#FF6692\", \"dash\": \"solid\"}, \"mode\": \"lines\", \"name\": \"month=7\", \"showlegend\": true, \"type\": \"scatter\", \"x\": [0, 1, 2, 3, 4, 5, 6, 7, 8, 9, 10, 11, 12, 13, 14, 15, 16, 17, 18, 19, 20, 21, 22, 23], \"xaxis\": \"x\", \"y\": [677.8709677419355, 601.0, 550.9354838709677, 525.2258064516129, 523.8064516129032, 529.1290322580645, 564.8064516129032, 624.7741935483871, 686.5483870967741, 734.6774193548387, 760.8387096774194, 779.6129032258065, 789.516129032258, 791.7096774193549, 841.516129032258, 823.6129032258065, 782.7096774193549, 776.0322580645161, 772.9354838709677, 782.8387096774194, 813.0, 800.516129032258, 810.2903225806451, 765.258064516129], \"yaxis\": \"y\"}, {\"hoverlabel\": {\"namelength\": 0}, \"hovertemplate\": \"month=8<br>hour=%{x}<br>LoadMW=%{y}\", \"legendgroup\": \"month=8\", \"line\": {\"color\": \"#B6E880\", \"dash\": \"solid\"}, \"mode\": \"lines\", \"name\": \"month=8\", \"showlegend\": true, \"type\": \"scatter\", \"x\": [0, 1, 2, 3, 4, 5, 6, 7, 8, 9, 10, 11, 12, 13, 14, 15, 16, 17, 18, 19, 20, 21, 22, 23], \"xaxis\": \"x\", \"y\": [673.9, 603.8333333333334, 556.2666666666667, 530.9666666666667, 530.5, 544.7, 573.9666666666667, 628.5333333333333, 687.5, 729.7333333333333, 755.9, 776.4333333333333, 781.6333333333333, 789.3666666666667, 843.6, 818.5333333333333, 773.8333333333334, 763.6666666666666, 759.9666666666667, 792.3, 816.5, 784.6, 795.8666666666667, 755.3], \"yaxis\": \"y\"}, {\"hoverlabel\": {\"namelength\": 0}, \"hovertemplate\": \"month=9<br>hour=%{x}<br>LoadMW=%{y}\", \"legendgroup\": \"month=9\", \"line\": {\"color\": \"#FF97FF\", \"dash\": \"solid\"}, \"mode\": \"lines\", \"name\": \"month=9\", \"showlegend\": true, \"type\": \"scatter\", \"x\": [0, 1, 2, 3, 4, 5, 6, 7, 8, 9, 10, 11, 12, 13, 14, 15, 16, 17, 18, 19, 20, 21, 22, 23], \"xaxis\": \"x\", \"y\": [662.7931034482758, 584.2294827586206, 549.7931034482758, 528.4137931034483, 525.3448275862069, 547.2068965517242, 589.5172413793103, 639.4827586206897, 701.8620689655172, 739.8965517241379, 760.7586206896551, 768.6206896551724, 768.6896551724138, 769.3103448275862, 819.6551724137931, 799.7241379310345, 766.8620689655172, 764.3103448275862, 796.2413793103449, 846.6206896551724, 831.0689655172414, 796.0344827586207, 803.448275862069, 752.7586206896551], \"yaxis\": \"y\"}, {\"hoverlabel\": {\"namelength\": 0}, \"hovertemplate\": \"month=10<br>hour=%{x}<br>LoadMW=%{y}\", \"legendgroup\": \"month=10\", \"line\": {\"color\": \"#FECB52\", \"dash\": \"solid\"}, \"mode\": \"lines\", \"name\": \"month=10\", \"showlegend\": true, \"type\": \"scatter\", \"x\": [0, 1, 2, 3, 4, 5, 6, 7, 8, 9, 10, 11, 12, 13, 14, 15, 16, 17, 18, 19, 20, 21, 22, 23], \"xaxis\": \"x\", \"y\": [648.3103448275862, 573.9310344827586, 525.8275862068965, 506.17241379310343, 505.3448275862069, 525.9310344827586, 586.6551724137931, 634.5172413793103, 695.1724137931035, 723.0, 734.2413793103449, 738.6551724137931, 736.4827586206897, 736.0689655172414, 791.6896551724138, 780.0689655172414, 740.1379310344828, 754.3448275862069, 807.8275862068965, 817.0344827586207, 797.7931034482758, 768.5172413793103, 793.1379310344828, 748.7241379310345], \"yaxis\": \"y\"}, {\"hoverlabel\": {\"namelength\": 0}, \"hovertemplate\": \"month=11<br>hour=%{x}<br>LoadMW=%{y}\", \"legendgroup\": \"month=11\", \"line\": {\"color\": \"#636efa\", \"dash\": \"solid\"}, \"mode\": \"lines\", \"name\": \"month=11\", \"showlegend\": true, \"type\": \"scatter\", \"x\": [0, 1, 2, 3, 4, 5, 6, 7, 8, 9, 10, 11, 12, 13, 14, 15, 16, 17, 18, 19, 20, 21, 22, 23], \"xaxis\": \"x\", \"y\": [843.6428571428571, 742.25, 675.7142857142857, 640.4285714285714, 637.1071428571429, 662.5357142857143, 728.1071428571429, 783.6071428571429, 850.75, 894.1428571428571, 911.8571428571429, 920.9642857142857, 912.5714285714286, 913.1071428571429, 997.0, 995.4285714285714, 974.9285714285714, 979.3928571428571, 971.6785714285714, 970.4285714285714, 955.0357142857143, 931.0714285714286, 984.0714285714286, 960.0], \"yaxis\": \"y\"}, {\"hoverlabel\": {\"namelength\": 0}, \"hovertemplate\": \"month=12<br>hour=%{x}<br>LoadMW=%{y}\", \"legendgroup\": \"month=12\", \"line\": {\"color\": \"#EF553B\", \"dash\": \"solid\"}, \"mode\": \"lines\", \"name\": \"month=12\", \"showlegend\": true, \"type\": \"scatter\", \"x\": [0, 1, 2, 3, 4, 5, 6, 7, 8, 9, 10, 11, 12, 13, 14, 15, 16, 17, 18, 19, 20, 21, 22, 23], \"xaxis\": \"x\", \"y\": [979.3225806451613, 872.8064516129032, 796.9354838709677, 754.0967741935484, 746.7741935483871, 769.483870967742, 841.3225806451613, 896.7096774193549, 973.9677419354839, 1022.483870967742, 1039.095935483871, 1046.3548387096773, 1041.8387096774193, 1036.6451612903227, 1130.9032258064517, 1133.6774193548388, 1104.3225806451612, 1106.225806451613, 1095.8709677419354, 1087.3870967741937, 1064.774193548387, 1041.516129032258, 1113.8387096774193, 1093.1935483870968], \"yaxis\": \"y\"}],\n",
              "                        {\"legend\": {\"tracegroupgap\": 0}, \"margin\": {\"t\": 60}, \"template\": {\"data\": {\"bar\": [{\"error_x\": {\"color\": \"#2a3f5f\"}, \"error_y\": {\"color\": \"#2a3f5f\"}, \"marker\": {\"line\": {\"color\": \"#E5ECF6\", \"width\": 0.5}}, \"type\": \"bar\"}], \"barpolar\": [{\"marker\": {\"line\": {\"color\": \"#E5ECF6\", \"width\": 0.5}}, \"type\": \"barpolar\"}], \"carpet\": [{\"aaxis\": {\"endlinecolor\": \"#2a3f5f\", \"gridcolor\": \"white\", \"linecolor\": \"white\", \"minorgridcolor\": \"white\", \"startlinecolor\": \"#2a3f5f\"}, \"baxis\": {\"endlinecolor\": \"#2a3f5f\", \"gridcolor\": \"white\", \"linecolor\": \"white\", \"minorgridcolor\": \"white\", \"startlinecolor\": \"#2a3f5f\"}, \"type\": \"carpet\"}], \"choropleth\": [{\"colorbar\": {\"outlinewidth\": 0, \"ticks\": \"\"}, \"type\": \"choropleth\"}], \"contour\": [{\"colorbar\": {\"outlinewidth\": 0, \"ticks\": \"\"}, \"colorscale\": [[0.0, \"#0d0887\"], [0.1111111111111111, \"#46039f\"], [0.2222222222222222, \"#7201a8\"], [0.3333333333333333, \"#9c179e\"], [0.4444444444444444, \"#bd3786\"], [0.5555555555555556, \"#d8576b\"], [0.6666666666666666, \"#ed7953\"], [0.7777777777777778, \"#fb9f3a\"], [0.8888888888888888, \"#fdca26\"], [1.0, \"#f0f921\"]], \"type\": \"contour\"}], \"contourcarpet\": [{\"colorbar\": {\"outlinewidth\": 0, \"ticks\": \"\"}, \"type\": \"contourcarpet\"}], \"heatmap\": [{\"colorbar\": {\"outlinewidth\": 0, \"ticks\": \"\"}, \"colorscale\": [[0.0, \"#0d0887\"], [0.1111111111111111, \"#46039f\"], [0.2222222222222222, \"#7201a8\"], [0.3333333333333333, \"#9c179e\"], [0.4444444444444444, \"#bd3786\"], [0.5555555555555556, \"#d8576b\"], [0.6666666666666666, \"#ed7953\"], [0.7777777777777778, \"#fb9f3a\"], [0.8888888888888888, \"#fdca26\"], [1.0, \"#f0f921\"]], \"type\": \"heatmap\"}], \"heatmapgl\": [{\"colorbar\": {\"outlinewidth\": 0, \"ticks\": \"\"}, \"colorscale\": [[0.0, \"#0d0887\"], [0.1111111111111111, \"#46039f\"], [0.2222222222222222, \"#7201a8\"], [0.3333333333333333, \"#9c179e\"], [0.4444444444444444, \"#bd3786\"], [0.5555555555555556, \"#d8576b\"], [0.6666666666666666, \"#ed7953\"], [0.7777777777777778, \"#fb9f3a\"], [0.8888888888888888, \"#fdca26\"], [1.0, \"#f0f921\"]], \"type\": \"heatmapgl\"}], \"histogram\": [{\"marker\": {\"colorbar\": {\"outlinewidth\": 0, \"ticks\": \"\"}}, \"type\": \"histogram\"}], \"histogram2d\": [{\"colorbar\": {\"outlinewidth\": 0, \"ticks\": \"\"}, \"colorscale\": [[0.0, \"#0d0887\"], [0.1111111111111111, \"#46039f\"], [0.2222222222222222, \"#7201a8\"], [0.3333333333333333, \"#9c179e\"], [0.4444444444444444, \"#bd3786\"], [0.5555555555555556, \"#d8576b\"], [0.6666666666666666, \"#ed7953\"], [0.7777777777777778, \"#fb9f3a\"], [0.8888888888888888, \"#fdca26\"], [1.0, \"#f0f921\"]], \"type\": \"histogram2d\"}], \"histogram2dcontour\": [{\"colorbar\": {\"outlinewidth\": 0, \"ticks\": \"\"}, \"colorscale\": [[0.0, \"#0d0887\"], [0.1111111111111111, \"#46039f\"], [0.2222222222222222, \"#7201a8\"], [0.3333333333333333, \"#9c179e\"], [0.4444444444444444, \"#bd3786\"], [0.5555555555555556, \"#d8576b\"], [0.6666666666666666, \"#ed7953\"], [0.7777777777777778, \"#fb9f3a\"], [0.8888888888888888, \"#fdca26\"], [1.0, \"#f0f921\"]], \"type\": \"histogram2dcontour\"}], \"mesh3d\": [{\"colorbar\": {\"outlinewidth\": 0, \"ticks\": \"\"}, \"type\": \"mesh3d\"}], \"parcoords\": [{\"line\": {\"colorbar\": {\"outlinewidth\": 0, \"ticks\": \"\"}}, \"type\": \"parcoords\"}], \"pie\": [{\"automargin\": true, \"type\": \"pie\"}], \"scatter\": [{\"marker\": {\"colorbar\": {\"outlinewidth\": 0, \"ticks\": \"\"}}, \"type\": \"scatter\"}], \"scatter3d\": [{\"line\": {\"colorbar\": {\"outlinewidth\": 0, \"ticks\": \"\"}}, \"marker\": {\"colorbar\": {\"outlinewidth\": 0, \"ticks\": \"\"}}, \"type\": \"scatter3d\"}], \"scattercarpet\": [{\"marker\": {\"colorbar\": {\"outlinewidth\": 0, \"ticks\": \"\"}}, \"type\": \"scattercarpet\"}], \"scattergeo\": [{\"marker\": {\"colorbar\": {\"outlinewidth\": 0, \"ticks\": \"\"}}, \"type\": \"scattergeo\"}], \"scattergl\": [{\"marker\": {\"colorbar\": {\"outlinewidth\": 0, \"ticks\": \"\"}}, \"type\": \"scattergl\"}], \"scattermapbox\": [{\"marker\": {\"colorbar\": {\"outlinewidth\": 0, \"ticks\": \"\"}}, \"type\": \"scattermapbox\"}], \"scatterpolar\": [{\"marker\": {\"colorbar\": {\"outlinewidth\": 0, \"ticks\": \"\"}}, \"type\": \"scatterpolar\"}], \"scatterpolargl\": [{\"marker\": {\"colorbar\": {\"outlinewidth\": 0, \"ticks\": \"\"}}, \"type\": \"scatterpolargl\"}], \"scatterternary\": [{\"marker\": {\"colorbar\": {\"outlinewidth\": 0, \"ticks\": \"\"}}, \"type\": \"scatterternary\"}], \"surface\": [{\"colorbar\": {\"outlinewidth\": 0, \"ticks\": \"\"}, \"colorscale\": [[0.0, \"#0d0887\"], [0.1111111111111111, \"#46039f\"], [0.2222222222222222, \"#7201a8\"], [0.3333333333333333, \"#9c179e\"], [0.4444444444444444, \"#bd3786\"], [0.5555555555555556, \"#d8576b\"], [0.6666666666666666, \"#ed7953\"], [0.7777777777777778, \"#fb9f3a\"], [0.8888888888888888, \"#fdca26\"], [1.0, \"#f0f921\"]], \"type\": \"surface\"}], \"table\": [{\"cells\": {\"fill\": {\"color\": \"#EBF0F8\"}, \"line\": {\"color\": \"white\"}}, \"header\": {\"fill\": {\"color\": \"#C8D4E3\"}, \"line\": {\"color\": \"white\"}}, \"type\": \"table\"}]}, \"layout\": {\"annotationdefaults\": {\"arrowcolor\": \"#2a3f5f\", \"arrowhead\": 0, \"arrowwidth\": 1}, \"coloraxis\": {\"colorbar\": {\"outlinewidth\": 0, \"ticks\": \"\"}}, \"colorscale\": {\"diverging\": [[0, \"#8e0152\"], [0.1, \"#c51b7d\"], [0.2, \"#de77ae\"], [0.3, \"#f1b6da\"], [0.4, \"#fde0ef\"], [0.5, \"#f7f7f7\"], [0.6, \"#e6f5d0\"], [0.7, \"#b8e186\"], [0.8, \"#7fbc41\"], [0.9, \"#4d9221\"], [1, \"#276419\"]], \"sequential\": [[0.0, \"#0d0887\"], [0.1111111111111111, \"#46039f\"], [0.2222222222222222, \"#7201a8\"], [0.3333333333333333, \"#9c179e\"], [0.4444444444444444, \"#bd3786\"], [0.5555555555555556, \"#d8576b\"], [0.6666666666666666, \"#ed7953\"], [0.7777777777777778, \"#fb9f3a\"], [0.8888888888888888, \"#fdca26\"], [1.0, \"#f0f921\"]], \"sequentialminus\": [[0.0, \"#0d0887\"], [0.1111111111111111, \"#46039f\"], [0.2222222222222222, \"#7201a8\"], [0.3333333333333333, \"#9c179e\"], [0.4444444444444444, \"#bd3786\"], [0.5555555555555556, \"#d8576b\"], [0.6666666666666666, \"#ed7953\"], [0.7777777777777778, \"#fb9f3a\"], [0.8888888888888888, \"#fdca26\"], [1.0, \"#f0f921\"]]}, \"colorway\": [\"#636efa\", \"#EF553B\", \"#00cc96\", \"#ab63fa\", \"#FFA15A\", \"#19d3f3\", \"#FF6692\", \"#B6E880\", \"#FF97FF\", \"#FECB52\"], \"font\": {\"color\": \"#2a3f5f\"}, \"geo\": {\"bgcolor\": \"white\", \"lakecolor\": \"white\", \"landcolor\": \"#E5ECF6\", \"showlakes\": true, \"showland\": true, \"subunitcolor\": \"white\"}, \"hoverlabel\": {\"align\": \"left\"}, \"hovermode\": \"closest\", \"mapbox\": {\"style\": \"light\"}, \"paper_bgcolor\": \"white\", \"plot_bgcolor\": \"#E5ECF6\", \"polar\": {\"angularaxis\": {\"gridcolor\": \"white\", \"linecolor\": \"white\", \"ticks\": \"\"}, \"bgcolor\": \"#E5ECF6\", \"radialaxis\": {\"gridcolor\": \"white\", \"linecolor\": \"white\", \"ticks\": \"\"}}, \"scene\": {\"xaxis\": {\"backgroundcolor\": \"#E5ECF6\", \"gridcolor\": \"white\", \"gridwidth\": 2, \"linecolor\": \"white\", \"showbackground\": true, \"ticks\": \"\", \"zerolinecolor\": \"white\"}, \"yaxis\": {\"backgroundcolor\": \"#E5ECF6\", \"gridcolor\": \"white\", \"gridwidth\": 2, \"linecolor\": \"white\", \"showbackground\": true, \"ticks\": \"\", \"zerolinecolor\": \"white\"}, \"zaxis\": {\"backgroundcolor\": \"#E5ECF6\", \"gridcolor\": \"white\", \"gridwidth\": 2, \"linecolor\": \"white\", \"showbackground\": true, \"ticks\": \"\", \"zerolinecolor\": \"white\"}}, \"shapedefaults\": {\"line\": {\"color\": \"#2a3f5f\"}}, \"ternary\": {\"aaxis\": {\"gridcolor\": \"white\", \"linecolor\": \"white\", \"ticks\": \"\"}, \"baxis\": {\"gridcolor\": \"white\", \"linecolor\": \"white\", \"ticks\": \"\"}, \"bgcolor\": \"#E5ECF6\", \"caxis\": {\"gridcolor\": \"white\", \"linecolor\": \"white\", \"ticks\": \"\"}}, \"title\": {\"x\": 0.05}, \"xaxis\": {\"automargin\": true, \"gridcolor\": \"white\", \"linecolor\": \"white\", \"ticks\": \"\", \"title\": {\"standoff\": 15}, \"zerolinecolor\": \"white\", \"zerolinewidth\": 2}, \"yaxis\": {\"automargin\": true, \"gridcolor\": \"white\", \"linecolor\": \"white\", \"ticks\": \"\", \"title\": {\"standoff\": 15}, \"zerolinecolor\": \"white\", \"zerolinewidth\": 2}}}, \"xaxis\": {\"anchor\": \"y\", \"domain\": [0.0, 1.0], \"title\": {\"text\": \"hour\"}}, \"yaxis\": {\"anchor\": \"x\", \"domain\": [0.0, 1.0], \"title\": {\"text\": \"LoadMW\"}}},\n",
              "                        {\"responsive\": true}\n",
              "                    ).then(function(){\n",
              "                            \n",
              "var gd = document.getElementById('c2e64f0e-d0b4-4c5a-a713-63995271c750');\n",
              "var x = new MutationObserver(function (mutations, observer) {{\n",
              "        var display = window.getComputedStyle(gd).display;\n",
              "        if (!display || display === 'none') {{\n",
              "            console.log([gd, 'removed!']);\n",
              "            Plotly.purge(gd);\n",
              "            observer.disconnect();\n",
              "        }}\n",
              "}});\n",
              "\n",
              "// Listen for the removal of the full notebook cells\n",
              "var notebookContainer = gd.closest('#notebook-container');\n",
              "if (notebookContainer) {{\n",
              "    x.observe(notebookContainer, {childList: true});\n",
              "}}\n",
              "\n",
              "// Listen for the clearing of the current output cell\n",
              "var outputEl = gd.closest('.output');\n",
              "if (outputEl) {{\n",
              "    x.observe(outputEl, {childList: true});\n",
              "}}\n",
              "\n",
              "                        })\n",
              "                };\n",
              "                \n",
              "            </script>\n",
              "        </div>\n",
              "</body>\n",
              "</html>"
            ]
          },
          "metadata": {
            "tags": []
          }
        }
      ]
    },
    {
      "cell_type": "markdown",
      "metadata": {
        "id": "1FT741FMGqVg",
        "colab_type": "text"
      },
      "source": [
        "**Average hourly consumption of the total consumption for 2019.**"
      ]
    },
    {
      "cell_type": "code",
      "metadata": {
        "id": "jOnbpigCrwsA",
        "colab_type": "code",
        "outputId": "dec06c4e-6aa5-4bcb-d978-fec8af63e399",
        "colab": {
          "base_uri": "https://localhost:8080/",
          "height": 542
        }
      },
      "source": [
        "#Average hourly consumption of the total consumption for 2019\n",
        "df_2019=df_MK_merged[df_MK_merged.year==2019]\n",
        "df_2019avr=df_2019.groupby([\"month\", \"hour\"]).LoadMW.mean().reset_index()\n",
        "px.line(df_2019avr, x=\"hour\", y=\"LoadMW\", color=\"month\")"
      ],
      "execution_count": 23,
      "outputs": [
        {
          "output_type": "display_data",
          "data": {
            "text/html": [
              "<html>\n",
              "<head><meta charset=\"utf-8\" /></head>\n",
              "<body>\n",
              "    <div>\n",
              "            <script src=\"https://cdnjs.cloudflare.com/ajax/libs/mathjax/2.7.5/MathJax.js?config=TeX-AMS-MML_SVG\"></script><script type=\"text/javascript\">if (window.MathJax) {MathJax.Hub.Config({SVG: {font: \"STIX-Web\"}});}</script>\n",
              "                <script type=\"text/javascript\">window.PlotlyConfig = {MathJaxConfig: 'local'};</script>\n",
              "        <script src=\"https://cdn.plot.ly/plotly-latest.min.js\"></script>    \n",
              "            <div id=\"7a53eace-fe34-4870-b565-04795ec70a59\" class=\"plotly-graph-div\" style=\"height:525px; width:100%;\"></div>\n",
              "            <script type=\"text/javascript\">\n",
              "                \n",
              "                    window.PLOTLYENV=window.PLOTLYENV || {};\n",
              "                    \n",
              "                if (document.getElementById(\"7a53eace-fe34-4870-b565-04795ec70a59\")) {\n",
              "                    Plotly.newPlot(\n",
              "                        '7a53eace-fe34-4870-b565-04795ec70a59',\n",
              "                        [{\"hoverlabel\": {\"namelength\": 0}, \"hovertemplate\": \"month=1<br>hour=%{x}<br>LoadMW=%{y}\", \"legendgroup\": \"month=1\", \"line\": {\"color\": \"#636efa\", \"dash\": \"solid\"}, \"mode\": \"lines\", \"name\": \"month=1\", \"showlegend\": true, \"type\": \"scatter\", \"x\": [0, 1, 2, 3, 4, 5, 6, 7, 8, 9, 10, 11, 12, 13, 14, 15, 16, 17, 18, 19, 20, 21, 22, 23], \"xaxis\": \"x\", \"y\": [956.1851851851852, 859.6296296296297, 787.1111111111111, 747.4074074074074, 737.8518518518518, 757.925925925926, 819.5925925925926, 863.2962962962963, 935.2592592592592, 991.6296296296297, 1015.8518518518518, 1021.6666666666666, 1017.9629629629629, 1016.8888888888889, 1106.9259259259259, 1098.888888888889, 1056.7407407407406, 1069.148148148148, 1060.4814814814815, 1055.5555555555557, 1038.2222222222222, 1016.074074074074, 1081.7407407407406, 1058.1851851851852], \"yaxis\": \"y\"}, {\"hoverlabel\": {\"namelength\": 0}, \"hovertemplate\": \"month=2<br>hour=%{x}<br>LoadMW=%{y}\", \"legendgroup\": \"month=2\", \"line\": {\"color\": \"#EF553B\", \"dash\": \"solid\"}, \"mode\": \"lines\", \"name\": \"month=2\", \"showlegend\": true, \"type\": \"scatter\", \"x\": [0, 1, 2, 3, 4, 5, 6, 7, 8, 9, 10, 11, 12, 13, 14, 15, 16, 17, 18, 19, 20, 21, 22, 23], \"xaxis\": \"x\", \"y\": [877.2916666666666, 784.125, 719.2083333333334, 682.3333333333334, 673.7083333333334, 700.25, 753.125, 802.0416666666666, 870.8333333333334, 917.4166666666666, 934.7916666666666, 938.4583333333334, 933.7083333333334, 929.25, 1007.7916666666666, 992.9166666666666, 944.6666666666666, 973.1666666666666, 988.4583333333334, 983.9583333333334, 967.0833333333334, 945.8333333333334, 1000.0416666666666, 975.6666666666666], \"yaxis\": \"y\"}, {\"hoverlabel\": {\"namelength\": 0}, \"hovertemplate\": \"month=3<br>hour=%{x}<br>LoadMW=%{y}\", \"legendgroup\": \"month=3\", \"line\": {\"color\": \"#00cc96\", \"dash\": \"solid\"}, \"mode\": \"lines\", \"name\": \"month=3\", \"showlegend\": true, \"type\": \"scatter\", \"x\": [0, 1, 2, 3, 4, 5, 6, 7, 8, 9, 10, 11, 12, 13, 14, 15, 16, 17, 18, 19, 20, 21, 22, 23], \"xaxis\": \"x\", \"y\": [779.7037037037037, 690.074074074074, 631.1111111111111, 602.8148148148148, 601.1111111111111, 626.5555555555555, 675.7777777777778, 730.5185185185185, 792.8888888888889, 831.0370370370371, 840.5555555555555, 839.9629629629629, 834.7407407407408, 830.5555555555555, 895.1481481481482, 880.7777777777778, 842.2962962962963, 866.3333333333334, 921.7407407407408, 927.8148148148148, 910.0370370370371, 884.4074074074074, 915.3333333333334, 878.9629629629629], \"yaxis\": \"y\"}, {\"hoverlabel\": {\"namelength\": 0}, \"hovertemplate\": \"month=4<br>hour=%{x}<br>LoadMW=%{y}\", \"legendgroup\": \"month=4\", \"line\": {\"color\": \"#ab63fa\", \"dash\": \"solid\"}, \"mode\": \"lines\", \"name\": \"month=4\", \"showlegend\": true, \"type\": \"scatter\", \"x\": [0, 1, 2, 3, 4, 5, 6, 7, 8, 9, 10, 11, 12, 13, 14, 15, 16, 17, 18, 19, 20, 21, 22, 23], \"xaxis\": \"x\", \"y\": [706.3846153846154, 620.0, 563.5769230769231, 538.5, 537.3846153846154, 563.4615384615385, 605.9230769230769, 657.4615384615385, 723.3846153846154, 763.0, 771.3076923076923, 773.6923076923077, 763.8846153846154, 762.0769230769231, 825.4615384615385, 805.3076923076923, 761.1153846153846, 762.1538461538462, 776.6923076923077, 825.5, 845.0, 821.4615384615385, 845.3076923076923, 802.3076923076923], \"yaxis\": \"y\"}, {\"hoverlabel\": {\"namelength\": 0}, \"hovertemplate\": \"month=5<br>hour=%{x}<br>LoadMW=%{y}\", \"legendgroup\": \"month=5\", \"line\": {\"color\": \"#FFA15A\", \"dash\": \"solid\"}, \"mode\": \"lines\", \"name\": \"month=5\", \"showlegend\": true, \"type\": \"scatter\", \"x\": [0, 1, 2, 3, 4, 5, 6, 7, 8, 9, 10, 11, 12, 13, 14, 15, 16, 17, 18, 19, 20, 21, 22, 23], \"xaxis\": \"x\", \"y\": [646.7586206896551, 582.0, 540.9655172413793, 510.17241379310343, 485.7931034482759, 481.9655172413793, 528.3103448275862, 581.0, 636.4137931034483, 674.2758620689655, 691.5172413793103, 701.8965517241379, 709.7241379310345, 714.5862068965517, 778.0689655172414, 757.2068965517242, 718.2068965517242, 717.6551724137931, 729.7931034482758, 755.7931034482758, 768.448275862069, 756.7241379310345, 761.2758620689655, 723.5172413793103], \"yaxis\": \"y\"}, {\"hoverlabel\": {\"namelength\": 0}, \"hovertemplate\": \"month=6<br>hour=%{x}<br>LoadMW=%{y}\", \"legendgroup\": \"month=6\", \"line\": {\"color\": \"#19d3f3\", \"dash\": \"solid\"}, \"mode\": \"lines\", \"name\": \"month=6\", \"showlegend\": true, \"type\": \"scatter\", \"x\": [0, 1, 2, 3, 4, 5, 6, 7, 8, 9, 10, 11, 12, 13, 14, 15, 16, 17, 18, 19, 20, 21, 22, 23], \"xaxis\": \"x\", \"y\": [677.4137931034483, 601.0689655172414, 552.3448275862069, 529.2413793103449, 526.448275862069, 528.5172413793103, 569.3793103448276, 623.0, 684.6206896551724, 734.8965517241379, 763.8275862068965, 780.0, 794.551724137931, 807.8965517241379, 867.2068965517242, 843.8275862068965, 794.1379310344828, 780.7586206896551, 775.1724137931035, 776.6206896551724, 797.0689655172414, 796.0, 800.8620689655172, 757.7931034482758], \"yaxis\": \"y\"}, {\"hoverlabel\": {\"namelength\": 0}, \"hovertemplate\": \"month=7<br>hour=%{x}<br>LoadMW=%{y}\", \"legendgroup\": \"month=7\", \"line\": {\"color\": \"#FF6692\", \"dash\": \"solid\"}, \"mode\": \"lines\", \"name\": \"month=7\", \"showlegend\": true, \"type\": \"scatter\", \"x\": [0, 1, 2, 3, 4, 5, 6, 7, 8, 9, 10, 11, 12, 13, 14, 15, 16, 17, 18, 19, 20, 21, 22, 23], \"xaxis\": \"x\", \"y\": [669.0, 597.9642857142857, 551.3571428571429, 528.0, 524.3571428571429, 523.0714285714286, 557.5, 612.5, 682.3928571428571, 732.8571428571429, 763.6428571428571, 781.4285714285714, 795.3214285714286, 802.6785714285714, 859.3571428571429, 839.0357142857143, 791.5357142857143, 781.2857142857143, 775.1785714285714, 780.3571428571429, 809.6785714285714, 801.0357142857143, 801.8214285714286, 759.8928571428571], \"yaxis\": \"y\"}, {\"hoverlabel\": {\"namelength\": 0}, \"hovertemplate\": \"month=8<br>hour=%{x}<br>LoadMW=%{y}\", \"legendgroup\": \"month=8\", \"line\": {\"color\": \"#B6E880\", \"dash\": \"solid\"}, \"mode\": \"lines\", \"name\": \"month=8\", \"showlegend\": true, \"type\": \"scatter\", \"x\": [0, 1, 2, 3, 4, 5, 6, 7, 8, 9, 10, 11, 12, 13, 14, 15, 16, 17, 18, 19, 20, 21, 22, 23], \"xaxis\": \"x\", \"y\": [653.1333333333333, 583.4333333333333, 537.8666666666667, 515.7666666666667, 510.96666666666664, 521.7666666666667, 554.3, 609.0666666666667, 681.0, 733.2666666666667, 760.8333333333334, 782.9333333333333, 795.5, 807.2666666666667, 864.5333333333333, 844.9666666666667, 799.3666666666667, 784.3333333333334, 775.7666666666667, 791.3333333333334, 807.5666666666667, 780.3666666666667, 778.3, 736.3333333333334], \"yaxis\": \"y\"}, {\"hoverlabel\": {\"namelength\": 0}, \"hovertemplate\": \"month=9<br>hour=%{x}<br>LoadMW=%{y}\", \"legendgroup\": \"month=9\", \"line\": {\"color\": \"#FF97FF\", \"dash\": \"solid\"}, \"mode\": \"lines\", \"name\": \"month=9\", \"showlegend\": true, \"type\": \"scatter\", \"x\": [0, 1, 2, 3, 4, 5, 6, 7, 8, 9, 10, 11, 12, 13, 14, 15, 16, 17, 18, 19, 20, 21, 22, 23], \"xaxis\": \"x\", \"y\": [653.5333333333333, 574.914, 545.3, 528.3666666666667, 522.1333333333333, 541.0666666666667, 579.2, 632.9, 691.6, 735.5666666666667, 757.1333333333333, 768.7, 772.5666666666667, 775.9333333333333, 839.5, 820.7333333333333, 776.6333333333333, 771.6333333333333, 796.6333333333333, 833.5666666666667, 819.7333333333333, 784.6333333333333, 792.4, 742.5666666666667], \"yaxis\": \"y\"}, {\"hoverlabel\": {\"namelength\": 0}, \"hovertemplate\": \"month=10<br>hour=%{x}<br>LoadMW=%{y}\", \"legendgroup\": \"month=10\", \"line\": {\"color\": \"#FECB52\", \"dash\": \"solid\"}, \"mode\": \"lines\", \"name\": \"month=10\", \"showlegend\": true, \"type\": \"scatter\", \"x\": [0, 1, 2, 3, 4, 5, 6, 7, 8, 9, 10, 11, 12, 13, 14, 15, 16, 17, 18, 19, 20, 21, 22, 23], \"xaxis\": \"x\", \"y\": [675.5862068965517, 602.0344827586207, 555.7931034482758, 536.6206896551724, 534.6896551724138, 555.9655172413793, 615.1379310344828, 673.2068965517242, 732.9310344827586, 770.3103448275862, 778.6551724137931, 780.1724137931035, 777.3103448275862, 778.7241379310345, 836.4827586206897, 821.3793103448276, 793.3103448275862, 819.0344827586207, 863.4827586206897, 871.1724137931035, 850.3103448275862, 818.2758620689655, 822.0, 774.3448275862069], \"yaxis\": \"y\"}, {\"hoverlabel\": {\"namelength\": 0}, \"hovertemplate\": \"month=11<br>hour=%{x}<br>LoadMW=%{y}\", \"legendgroup\": \"month=11\", \"line\": {\"color\": \"#636efa\", \"dash\": \"solid\"}, \"mode\": \"lines\", \"name\": \"month=11\", \"showlegend\": true, \"type\": \"scatter\", \"x\": [0, 1, 2, 3, 4, 5, 6, 7, 8, 9, 10, 11, 12, 13, 14, 15, 16, 17, 18, 19, 20, 21, 22, 23], \"xaxis\": \"x\", \"y\": [783.4074074074074, 692.2962962962963, 633.8888888888889, 607.8148148148148, 608.2222222222222, 640.0, 699.0370370370371, 742.5925925925926, 806.5555555555555, 848.3333333333334, 859.5185185185185, 861.1111111111111, 857.4814814814815, 858.925925925926, 943.4074074074074, 945.074074074074, 935.3703703703703, 941.4074074074074, 932.2592592592592, 927.2592592592592, 914.0370370370371, 889.8888888888889, 932.074074074074, 892.7037037037037], \"yaxis\": \"y\"}, {\"hoverlabel\": {\"namelength\": 0}, \"hovertemplate\": \"month=12<br>hour=%{x}<br>LoadMW=%{y}\", \"legendgroup\": \"month=12\", \"line\": {\"color\": \"#EF553B\", \"dash\": \"solid\"}, \"mode\": \"lines\", \"name\": \"month=12\", \"showlegend\": true, \"type\": \"scatter\", \"x\": [0, 1, 2, 3, 4, 5, 6, 7, 8, 9, 10, 11, 12, 13, 14, 15, 16, 17, 18, 19, 20, 21, 22, 23], \"xaxis\": \"x\", \"y\": [920.0357142857143, 821.0357142857143, 749.5714285714286, 711.6428571428571, 700.5357142857143, 719.1785714285714, 784.3214285714286, 837.25, 915.75, 972.3571428571429, 962.28575, 1006.3571428571429, 1002.6428571428571, 1006.7857142857143, 1094.892857142857, 1095.7857142857142, 1067.1785714285713, 1063.6785714285713, 1053.5714285714287, 1041.7857142857142, 1018.5714285714286, 993.4642857142857, 1044.8214285714287, 1020.5714285714286], \"yaxis\": \"y\"}],\n",
              "                        {\"legend\": {\"tracegroupgap\": 0}, \"margin\": {\"t\": 60}, \"template\": {\"data\": {\"bar\": [{\"error_x\": {\"color\": \"#2a3f5f\"}, \"error_y\": {\"color\": \"#2a3f5f\"}, \"marker\": {\"line\": {\"color\": \"#E5ECF6\", \"width\": 0.5}}, \"type\": \"bar\"}], \"barpolar\": [{\"marker\": {\"line\": {\"color\": \"#E5ECF6\", \"width\": 0.5}}, \"type\": \"barpolar\"}], \"carpet\": [{\"aaxis\": {\"endlinecolor\": \"#2a3f5f\", \"gridcolor\": \"white\", \"linecolor\": \"white\", \"minorgridcolor\": \"white\", \"startlinecolor\": \"#2a3f5f\"}, \"baxis\": {\"endlinecolor\": \"#2a3f5f\", \"gridcolor\": \"white\", \"linecolor\": \"white\", \"minorgridcolor\": \"white\", \"startlinecolor\": \"#2a3f5f\"}, \"type\": \"carpet\"}], \"choropleth\": [{\"colorbar\": {\"outlinewidth\": 0, \"ticks\": \"\"}, \"type\": \"choropleth\"}], \"contour\": [{\"colorbar\": {\"outlinewidth\": 0, \"ticks\": \"\"}, \"colorscale\": [[0.0, \"#0d0887\"], [0.1111111111111111, \"#46039f\"], [0.2222222222222222, \"#7201a8\"], [0.3333333333333333, \"#9c179e\"], [0.4444444444444444, \"#bd3786\"], [0.5555555555555556, \"#d8576b\"], [0.6666666666666666, \"#ed7953\"], [0.7777777777777778, \"#fb9f3a\"], [0.8888888888888888, \"#fdca26\"], [1.0, \"#f0f921\"]], \"type\": \"contour\"}], \"contourcarpet\": [{\"colorbar\": {\"outlinewidth\": 0, \"ticks\": \"\"}, \"type\": \"contourcarpet\"}], \"heatmap\": [{\"colorbar\": {\"outlinewidth\": 0, \"ticks\": \"\"}, \"colorscale\": [[0.0, \"#0d0887\"], [0.1111111111111111, \"#46039f\"], [0.2222222222222222, \"#7201a8\"], [0.3333333333333333, \"#9c179e\"], [0.4444444444444444, \"#bd3786\"], [0.5555555555555556, \"#d8576b\"], [0.6666666666666666, \"#ed7953\"], [0.7777777777777778, \"#fb9f3a\"], [0.8888888888888888, \"#fdca26\"], [1.0, \"#f0f921\"]], \"type\": \"heatmap\"}], \"heatmapgl\": [{\"colorbar\": {\"outlinewidth\": 0, \"ticks\": \"\"}, \"colorscale\": [[0.0, \"#0d0887\"], [0.1111111111111111, \"#46039f\"], [0.2222222222222222, \"#7201a8\"], [0.3333333333333333, \"#9c179e\"], [0.4444444444444444, \"#bd3786\"], [0.5555555555555556, \"#d8576b\"], [0.6666666666666666, \"#ed7953\"], [0.7777777777777778, \"#fb9f3a\"], [0.8888888888888888, \"#fdca26\"], [1.0, \"#f0f921\"]], \"type\": \"heatmapgl\"}], \"histogram\": [{\"marker\": {\"colorbar\": {\"outlinewidth\": 0, \"ticks\": \"\"}}, \"type\": \"histogram\"}], \"histogram2d\": [{\"colorbar\": {\"outlinewidth\": 0, \"ticks\": \"\"}, \"colorscale\": [[0.0, \"#0d0887\"], [0.1111111111111111, \"#46039f\"], [0.2222222222222222, \"#7201a8\"], [0.3333333333333333, \"#9c179e\"], [0.4444444444444444, \"#bd3786\"], [0.5555555555555556, \"#d8576b\"], [0.6666666666666666, \"#ed7953\"], [0.7777777777777778, \"#fb9f3a\"], [0.8888888888888888, \"#fdca26\"], [1.0, \"#f0f921\"]], \"type\": \"histogram2d\"}], \"histogram2dcontour\": [{\"colorbar\": {\"outlinewidth\": 0, \"ticks\": \"\"}, \"colorscale\": [[0.0, \"#0d0887\"], [0.1111111111111111, \"#46039f\"], [0.2222222222222222, \"#7201a8\"], [0.3333333333333333, \"#9c179e\"], [0.4444444444444444, \"#bd3786\"], [0.5555555555555556, \"#d8576b\"], [0.6666666666666666, \"#ed7953\"], [0.7777777777777778, \"#fb9f3a\"], [0.8888888888888888, \"#fdca26\"], [1.0, \"#f0f921\"]], \"type\": \"histogram2dcontour\"}], \"mesh3d\": [{\"colorbar\": {\"outlinewidth\": 0, \"ticks\": \"\"}, \"type\": \"mesh3d\"}], \"parcoords\": [{\"line\": {\"colorbar\": {\"outlinewidth\": 0, \"ticks\": \"\"}}, \"type\": \"parcoords\"}], \"pie\": [{\"automargin\": true, \"type\": \"pie\"}], \"scatter\": [{\"marker\": {\"colorbar\": {\"outlinewidth\": 0, \"ticks\": \"\"}}, \"type\": \"scatter\"}], \"scatter3d\": [{\"line\": {\"colorbar\": {\"outlinewidth\": 0, \"ticks\": \"\"}}, \"marker\": {\"colorbar\": {\"outlinewidth\": 0, \"ticks\": \"\"}}, \"type\": \"scatter3d\"}], \"scattercarpet\": [{\"marker\": {\"colorbar\": {\"outlinewidth\": 0, \"ticks\": \"\"}}, \"type\": \"scattercarpet\"}], \"scattergeo\": [{\"marker\": {\"colorbar\": {\"outlinewidth\": 0, \"ticks\": \"\"}}, \"type\": \"scattergeo\"}], \"scattergl\": [{\"marker\": {\"colorbar\": {\"outlinewidth\": 0, \"ticks\": \"\"}}, \"type\": \"scattergl\"}], \"scattermapbox\": [{\"marker\": {\"colorbar\": {\"outlinewidth\": 0, \"ticks\": \"\"}}, \"type\": \"scattermapbox\"}], \"scatterpolar\": [{\"marker\": {\"colorbar\": {\"outlinewidth\": 0, \"ticks\": \"\"}}, \"type\": \"scatterpolar\"}], \"scatterpolargl\": [{\"marker\": {\"colorbar\": {\"outlinewidth\": 0, \"ticks\": \"\"}}, \"type\": \"scatterpolargl\"}], \"scatterternary\": [{\"marker\": {\"colorbar\": {\"outlinewidth\": 0, \"ticks\": \"\"}}, \"type\": \"scatterternary\"}], \"surface\": [{\"colorbar\": {\"outlinewidth\": 0, \"ticks\": \"\"}, \"colorscale\": [[0.0, \"#0d0887\"], [0.1111111111111111, \"#46039f\"], [0.2222222222222222, \"#7201a8\"], [0.3333333333333333, \"#9c179e\"], [0.4444444444444444, \"#bd3786\"], [0.5555555555555556, \"#d8576b\"], [0.6666666666666666, \"#ed7953\"], [0.7777777777777778, \"#fb9f3a\"], [0.8888888888888888, \"#fdca26\"], [1.0, \"#f0f921\"]], \"type\": \"surface\"}], \"table\": [{\"cells\": {\"fill\": {\"color\": \"#EBF0F8\"}, \"line\": {\"color\": \"white\"}}, \"header\": {\"fill\": {\"color\": \"#C8D4E3\"}, \"line\": {\"color\": \"white\"}}, \"type\": \"table\"}]}, \"layout\": {\"annotationdefaults\": {\"arrowcolor\": \"#2a3f5f\", \"arrowhead\": 0, \"arrowwidth\": 1}, \"coloraxis\": {\"colorbar\": {\"outlinewidth\": 0, \"ticks\": \"\"}}, \"colorscale\": {\"diverging\": [[0, \"#8e0152\"], [0.1, \"#c51b7d\"], [0.2, \"#de77ae\"], [0.3, \"#f1b6da\"], [0.4, \"#fde0ef\"], [0.5, \"#f7f7f7\"], [0.6, \"#e6f5d0\"], [0.7, \"#b8e186\"], [0.8, \"#7fbc41\"], [0.9, \"#4d9221\"], [1, \"#276419\"]], \"sequential\": [[0.0, \"#0d0887\"], [0.1111111111111111, \"#46039f\"], [0.2222222222222222, \"#7201a8\"], [0.3333333333333333, \"#9c179e\"], [0.4444444444444444, \"#bd3786\"], [0.5555555555555556, \"#d8576b\"], [0.6666666666666666, \"#ed7953\"], [0.7777777777777778, \"#fb9f3a\"], [0.8888888888888888, \"#fdca26\"], [1.0, \"#f0f921\"]], \"sequentialminus\": [[0.0, \"#0d0887\"], [0.1111111111111111, \"#46039f\"], [0.2222222222222222, \"#7201a8\"], [0.3333333333333333, \"#9c179e\"], [0.4444444444444444, \"#bd3786\"], [0.5555555555555556, \"#d8576b\"], [0.6666666666666666, \"#ed7953\"], [0.7777777777777778, \"#fb9f3a\"], [0.8888888888888888, \"#fdca26\"], [1.0, \"#f0f921\"]]}, \"colorway\": [\"#636efa\", \"#EF553B\", \"#00cc96\", \"#ab63fa\", \"#FFA15A\", \"#19d3f3\", \"#FF6692\", \"#B6E880\", \"#FF97FF\", \"#FECB52\"], \"font\": {\"color\": \"#2a3f5f\"}, \"geo\": {\"bgcolor\": \"white\", \"lakecolor\": \"white\", \"landcolor\": \"#E5ECF6\", \"showlakes\": true, \"showland\": true, \"subunitcolor\": \"white\"}, \"hoverlabel\": {\"align\": \"left\"}, \"hovermode\": \"closest\", \"mapbox\": {\"style\": \"light\"}, \"paper_bgcolor\": \"white\", \"plot_bgcolor\": \"#E5ECF6\", \"polar\": {\"angularaxis\": {\"gridcolor\": \"white\", \"linecolor\": \"white\", \"ticks\": \"\"}, \"bgcolor\": \"#E5ECF6\", \"radialaxis\": {\"gridcolor\": \"white\", \"linecolor\": \"white\", \"ticks\": \"\"}}, \"scene\": {\"xaxis\": {\"backgroundcolor\": \"#E5ECF6\", \"gridcolor\": \"white\", \"gridwidth\": 2, \"linecolor\": \"white\", \"showbackground\": true, \"ticks\": \"\", \"zerolinecolor\": \"white\"}, \"yaxis\": {\"backgroundcolor\": \"#E5ECF6\", \"gridcolor\": \"white\", \"gridwidth\": 2, \"linecolor\": \"white\", \"showbackground\": true, \"ticks\": \"\", \"zerolinecolor\": \"white\"}, \"zaxis\": {\"backgroundcolor\": \"#E5ECF6\", \"gridcolor\": \"white\", \"gridwidth\": 2, \"linecolor\": \"white\", \"showbackground\": true, \"ticks\": \"\", \"zerolinecolor\": \"white\"}}, \"shapedefaults\": {\"line\": {\"color\": \"#2a3f5f\"}}, \"ternary\": {\"aaxis\": {\"gridcolor\": \"white\", \"linecolor\": \"white\", \"ticks\": \"\"}, \"baxis\": {\"gridcolor\": \"white\", \"linecolor\": \"white\", \"ticks\": \"\"}, \"bgcolor\": \"#E5ECF6\", \"caxis\": {\"gridcolor\": \"white\", \"linecolor\": \"white\", \"ticks\": \"\"}}, \"title\": {\"x\": 0.05}, \"xaxis\": {\"automargin\": true, \"gridcolor\": \"white\", \"linecolor\": \"white\", \"ticks\": \"\", \"title\": {\"standoff\": 15}, \"zerolinecolor\": \"white\", \"zerolinewidth\": 2}, \"yaxis\": {\"automargin\": true, \"gridcolor\": \"white\", \"linecolor\": \"white\", \"ticks\": \"\", \"title\": {\"standoff\": 15}, \"zerolinecolor\": \"white\", \"zerolinewidth\": 2}}}, \"xaxis\": {\"anchor\": \"y\", \"domain\": [0.0, 1.0], \"title\": {\"text\": \"hour\"}}, \"yaxis\": {\"anchor\": \"x\", \"domain\": [0.0, 1.0], \"title\": {\"text\": \"LoadMW\"}}},\n",
              "                        {\"responsive\": true}\n",
              "                    ).then(function(){\n",
              "                            \n",
              "var gd = document.getElementById('7a53eace-fe34-4870-b565-04795ec70a59');\n",
              "var x = new MutationObserver(function (mutations, observer) {{\n",
              "        var display = window.getComputedStyle(gd).display;\n",
              "        if (!display || display === 'none') {{\n",
              "            console.log([gd, 'removed!']);\n",
              "            Plotly.purge(gd);\n",
              "            observer.disconnect();\n",
              "        }}\n",
              "}});\n",
              "\n",
              "// Listen for the removal of the full notebook cells\n",
              "var notebookContainer = gd.closest('#notebook-container');\n",
              "if (notebookContainer) {{\n",
              "    x.observe(notebookContainer, {childList: true});\n",
              "}}\n",
              "\n",
              "// Listen for the clearing of the current output cell\n",
              "var outputEl = gd.closest('.output');\n",
              "if (outputEl) {{\n",
              "    x.observe(outputEl, {childList: true});\n",
              "}}\n",
              "\n",
              "                        })\n",
              "                };\n",
              "                \n",
              "            </script>\n",
              "        </div>\n",
              "</body>\n",
              "</html>"
            ]
          },
          "metadata": {
            "tags": []
          }
        }
      ]
    },
    {
      "cell_type": "markdown",
      "metadata": {
        "id": "EAz1LHspGwOW",
        "colab_type": "text"
      },
      "source": [
        "**Average daily consumption of the total consumption for the years 2016, 2017, 2018, 2019.**"
      ]
    },
    {
      "cell_type": "code",
      "metadata": {
        "id": "ILlV1gs_r2GN",
        "colab_type": "code",
        "outputId": "b0857cac-1a07-41c5-faa6-63a6620d7f64",
        "colab": {
          "base_uri": "https://localhost:8080/",
          "height": 542
        }
      },
      "source": [
        "#Average daily consumption of the total consumption for the years 2016,2017,2018,2019\n",
        "df_MK_year=df_MK_merged.groupby([\"dayweek\", \"month\", \"year\",\"hour\"]).LoadMW.mean().reset_index()\n",
        "df_MK_year.head()\n",
        "df_MK_year_grouped=df_MK_year.groupby([\"dayweek\", \"year\", \"hour\"]).LoadMW.mean().reset_index()\n",
        "df_MK_year_grouped.head()\n",
        "df_MK_year_groupedf=df_MK_year_grouped.groupby([\"dayweek\", \"year\"]).LoadMW.sum().reset_index()\n",
        "px.line(df_MK_year_groupedf, x=\"dayweek\", y=\"LoadMW\", color=\"year\", title=\"Average daily consumption for the years 2016-2019\")"
      ],
      "execution_count": 24,
      "outputs": [
        {
          "output_type": "display_data",
          "data": {
            "text/html": [
              "<html>\n",
              "<head><meta charset=\"utf-8\" /></head>\n",
              "<body>\n",
              "    <div>\n",
              "            <script src=\"https://cdnjs.cloudflare.com/ajax/libs/mathjax/2.7.5/MathJax.js?config=TeX-AMS-MML_SVG\"></script><script type=\"text/javascript\">if (window.MathJax) {MathJax.Hub.Config({SVG: {font: \"STIX-Web\"}});}</script>\n",
              "                <script type=\"text/javascript\">window.PlotlyConfig = {MathJaxConfig: 'local'};</script>\n",
              "        <script src=\"https://cdn.plot.ly/plotly-latest.min.js\"></script>    \n",
              "            <div id=\"96755ab7-5d12-43c1-a8db-8484a4a77028\" class=\"plotly-graph-div\" style=\"height:525px; width:100%;\"></div>\n",
              "            <script type=\"text/javascript\">\n",
              "                \n",
              "                    window.PLOTLYENV=window.PLOTLYENV || {};\n",
              "                    \n",
              "                if (document.getElementById(\"96755ab7-5d12-43c1-a8db-8484a4a77028\")) {\n",
              "                    Plotly.newPlot(\n",
              "                        '96755ab7-5d12-43c1-a8db-8484a4a77028',\n",
              "                        [{\"hoverlabel\": {\"namelength\": 0}, \"hovertemplate\": \"year=2016<br>dayweek=%{x}<br>LoadMW=%{y}\", \"legendgroup\": \"year=2016\", \"line\": {\"color\": \"#636efa\", \"dash\": \"solid\"}, \"mode\": \"lines\", \"name\": \"year=2016\", \"showlegend\": true, \"type\": \"scatter\", \"x\": [0, 1, 2, 3, 4, 5, 6], \"xaxis\": \"x\", \"y\": [20148.008333333335, 20190.49583333333, 20452.966666666667, 20386.9125, 20186.395833333325, 19791.524999999994, 20693.487500000003], \"yaxis\": \"y\"}, {\"hoverlabel\": {\"namelength\": 0}, \"hovertemplate\": \"year=2017<br>dayweek=%{x}<br>LoadMW=%{y}\", \"legendgroup\": \"year=2017\", \"line\": {\"color\": \"#EF553B\", \"dash\": \"solid\"}, \"mode\": \"lines\", \"name\": \"year=2017\", \"showlegend\": true, \"type\": \"scatter\", \"x\": [0, 1, 2, 3, 4, 5, 6], \"xaxis\": \"x\", \"y\": [19658.166666666664, 19977.945833333335, 20117.537500000002, 20171.35, 19900.0625, 19411.779166666667, 20028.233333333334], \"yaxis\": \"y\"}, {\"hoverlabel\": {\"namelength\": 0}, \"hovertemplate\": \"year=2018<br>dayweek=%{x}<br>LoadMW=%{y}\", \"legendgroup\": \"year=2018\", \"line\": {\"color\": \"#00cc96\", \"dash\": \"solid\"}, \"mode\": \"lines\", \"name\": \"year=2018\", \"showlegend\": true, \"type\": \"scatter\", \"x\": [0, 1, 2, 3, 4, 5, 6], \"xaxis\": \"x\", \"y\": [17890.054166666665, 18522.99583333333, 18642.475, 18359.36032638889, 18586.92916666667, 18366.754166666673, 17975.738888888893], \"yaxis\": \"y\"}, {\"hoverlabel\": {\"namelength\": 0}, \"hovertemplate\": \"year=2019<br>dayweek=%{x}<br>LoadMW=%{y}\", \"legendgroup\": \"year=2019\", \"line\": {\"color\": \"#ab63fa\", \"dash\": \"solid\"}, \"mode\": \"lines\", \"name\": \"year=2019\", \"showlegend\": true, \"type\": \"scatter\", \"x\": [0, 1, 2, 3, 4, 5, 6], \"xaxis\": \"x\", \"y\": [19004.791666666668, 18676.943055555555, 19007.943055555555, 18381.9625, 18762.087937500004, 18593.290277777774, 18672.481944444447], \"yaxis\": \"y\"}, {\"hoverlabel\": {\"namelength\": 0}, \"hovertemplate\": \"year=2015<br>dayweek=%{x}<br>LoadMW=%{y}\", \"legendgroup\": \"year=2015\", \"line\": {\"color\": \"#FFA15A\", \"dash\": \"solid\"}, \"mode\": \"lines\", \"name\": \"year=2015\", \"showlegend\": true, \"type\": \"scatter\", \"x\": [3], \"xaxis\": \"x\", \"y\": [1187.0], \"yaxis\": \"y\"}],\n",
              "                        {\"legend\": {\"tracegroupgap\": 0}, \"template\": {\"data\": {\"bar\": [{\"error_x\": {\"color\": \"#2a3f5f\"}, \"error_y\": {\"color\": \"#2a3f5f\"}, \"marker\": {\"line\": {\"color\": \"#E5ECF6\", \"width\": 0.5}}, \"type\": \"bar\"}], \"barpolar\": [{\"marker\": {\"line\": {\"color\": \"#E5ECF6\", \"width\": 0.5}}, \"type\": \"barpolar\"}], \"carpet\": [{\"aaxis\": {\"endlinecolor\": \"#2a3f5f\", \"gridcolor\": \"white\", \"linecolor\": \"white\", \"minorgridcolor\": \"white\", \"startlinecolor\": \"#2a3f5f\"}, \"baxis\": {\"endlinecolor\": \"#2a3f5f\", \"gridcolor\": \"white\", \"linecolor\": \"white\", \"minorgridcolor\": \"white\", \"startlinecolor\": \"#2a3f5f\"}, \"type\": \"carpet\"}], \"choropleth\": [{\"colorbar\": {\"outlinewidth\": 0, \"ticks\": \"\"}, \"type\": \"choropleth\"}], \"contour\": [{\"colorbar\": {\"outlinewidth\": 0, \"ticks\": \"\"}, \"colorscale\": [[0.0, \"#0d0887\"], [0.1111111111111111, \"#46039f\"], [0.2222222222222222, \"#7201a8\"], [0.3333333333333333, \"#9c179e\"], [0.4444444444444444, \"#bd3786\"], [0.5555555555555556, \"#d8576b\"], [0.6666666666666666, \"#ed7953\"], [0.7777777777777778, \"#fb9f3a\"], [0.8888888888888888, \"#fdca26\"], [1.0, \"#f0f921\"]], \"type\": \"contour\"}], \"contourcarpet\": [{\"colorbar\": {\"outlinewidth\": 0, \"ticks\": \"\"}, \"type\": \"contourcarpet\"}], \"heatmap\": [{\"colorbar\": {\"outlinewidth\": 0, \"ticks\": \"\"}, \"colorscale\": [[0.0, \"#0d0887\"], [0.1111111111111111, \"#46039f\"], [0.2222222222222222, \"#7201a8\"], [0.3333333333333333, \"#9c179e\"], [0.4444444444444444, \"#bd3786\"], [0.5555555555555556, \"#d8576b\"], [0.6666666666666666, \"#ed7953\"], [0.7777777777777778, \"#fb9f3a\"], [0.8888888888888888, \"#fdca26\"], [1.0, \"#f0f921\"]], \"type\": \"heatmap\"}], \"heatmapgl\": [{\"colorbar\": {\"outlinewidth\": 0, \"ticks\": \"\"}, \"colorscale\": [[0.0, \"#0d0887\"], [0.1111111111111111, \"#46039f\"], [0.2222222222222222, \"#7201a8\"], [0.3333333333333333, \"#9c179e\"], [0.4444444444444444, \"#bd3786\"], [0.5555555555555556, \"#d8576b\"], [0.6666666666666666, \"#ed7953\"], [0.7777777777777778, \"#fb9f3a\"], [0.8888888888888888, \"#fdca26\"], [1.0, \"#f0f921\"]], \"type\": \"heatmapgl\"}], \"histogram\": [{\"marker\": {\"colorbar\": {\"outlinewidth\": 0, \"ticks\": \"\"}}, \"type\": \"histogram\"}], \"histogram2d\": [{\"colorbar\": {\"outlinewidth\": 0, \"ticks\": \"\"}, \"colorscale\": [[0.0, \"#0d0887\"], [0.1111111111111111, \"#46039f\"], [0.2222222222222222, \"#7201a8\"], [0.3333333333333333, \"#9c179e\"], [0.4444444444444444, \"#bd3786\"], [0.5555555555555556, \"#d8576b\"], [0.6666666666666666, \"#ed7953\"], [0.7777777777777778, \"#fb9f3a\"], [0.8888888888888888, \"#fdca26\"], [1.0, \"#f0f921\"]], \"type\": \"histogram2d\"}], \"histogram2dcontour\": [{\"colorbar\": {\"outlinewidth\": 0, \"ticks\": \"\"}, \"colorscale\": [[0.0, \"#0d0887\"], [0.1111111111111111, \"#46039f\"], [0.2222222222222222, \"#7201a8\"], [0.3333333333333333, \"#9c179e\"], [0.4444444444444444, \"#bd3786\"], [0.5555555555555556, \"#d8576b\"], [0.6666666666666666, \"#ed7953\"], [0.7777777777777778, \"#fb9f3a\"], [0.8888888888888888, \"#fdca26\"], [1.0, \"#f0f921\"]], \"type\": \"histogram2dcontour\"}], \"mesh3d\": [{\"colorbar\": {\"outlinewidth\": 0, \"ticks\": \"\"}, \"type\": \"mesh3d\"}], \"parcoords\": [{\"line\": {\"colorbar\": {\"outlinewidth\": 0, \"ticks\": \"\"}}, \"type\": \"parcoords\"}], \"pie\": [{\"automargin\": true, \"type\": \"pie\"}], \"scatter\": [{\"marker\": {\"colorbar\": {\"outlinewidth\": 0, \"ticks\": \"\"}}, \"type\": \"scatter\"}], \"scatter3d\": [{\"line\": {\"colorbar\": {\"outlinewidth\": 0, \"ticks\": \"\"}}, \"marker\": {\"colorbar\": {\"outlinewidth\": 0, \"ticks\": \"\"}}, \"type\": \"scatter3d\"}], \"scattercarpet\": [{\"marker\": {\"colorbar\": {\"outlinewidth\": 0, \"ticks\": \"\"}}, \"type\": \"scattercarpet\"}], \"scattergeo\": [{\"marker\": {\"colorbar\": {\"outlinewidth\": 0, \"ticks\": \"\"}}, \"type\": \"scattergeo\"}], \"scattergl\": [{\"marker\": {\"colorbar\": {\"outlinewidth\": 0, \"ticks\": \"\"}}, \"type\": \"scattergl\"}], \"scattermapbox\": [{\"marker\": {\"colorbar\": {\"outlinewidth\": 0, \"ticks\": \"\"}}, \"type\": \"scattermapbox\"}], \"scatterpolar\": [{\"marker\": {\"colorbar\": {\"outlinewidth\": 0, \"ticks\": \"\"}}, \"type\": \"scatterpolar\"}], \"scatterpolargl\": [{\"marker\": {\"colorbar\": {\"outlinewidth\": 0, \"ticks\": \"\"}}, \"type\": \"scatterpolargl\"}], \"scatterternary\": [{\"marker\": {\"colorbar\": {\"outlinewidth\": 0, \"ticks\": \"\"}}, \"type\": \"scatterternary\"}], \"surface\": [{\"colorbar\": {\"outlinewidth\": 0, \"ticks\": \"\"}, \"colorscale\": [[0.0, \"#0d0887\"], [0.1111111111111111, \"#46039f\"], [0.2222222222222222, \"#7201a8\"], [0.3333333333333333, \"#9c179e\"], [0.4444444444444444, \"#bd3786\"], [0.5555555555555556, \"#d8576b\"], [0.6666666666666666, \"#ed7953\"], [0.7777777777777778, \"#fb9f3a\"], [0.8888888888888888, \"#fdca26\"], [1.0, \"#f0f921\"]], \"type\": \"surface\"}], \"table\": [{\"cells\": {\"fill\": {\"color\": \"#EBF0F8\"}, \"line\": {\"color\": \"white\"}}, \"header\": {\"fill\": {\"color\": \"#C8D4E3\"}, \"line\": {\"color\": \"white\"}}, \"type\": \"table\"}]}, \"layout\": {\"annotationdefaults\": {\"arrowcolor\": \"#2a3f5f\", \"arrowhead\": 0, \"arrowwidth\": 1}, \"coloraxis\": {\"colorbar\": {\"outlinewidth\": 0, \"ticks\": \"\"}}, \"colorscale\": {\"diverging\": [[0, \"#8e0152\"], [0.1, \"#c51b7d\"], [0.2, \"#de77ae\"], [0.3, \"#f1b6da\"], [0.4, \"#fde0ef\"], [0.5, \"#f7f7f7\"], [0.6, \"#e6f5d0\"], [0.7, \"#b8e186\"], [0.8, \"#7fbc41\"], [0.9, \"#4d9221\"], [1, \"#276419\"]], \"sequential\": [[0.0, \"#0d0887\"], [0.1111111111111111, \"#46039f\"], [0.2222222222222222, \"#7201a8\"], [0.3333333333333333, \"#9c179e\"], [0.4444444444444444, \"#bd3786\"], [0.5555555555555556, \"#d8576b\"], [0.6666666666666666, \"#ed7953\"], [0.7777777777777778, \"#fb9f3a\"], [0.8888888888888888, \"#fdca26\"], [1.0, \"#f0f921\"]], \"sequentialminus\": [[0.0, \"#0d0887\"], [0.1111111111111111, \"#46039f\"], [0.2222222222222222, \"#7201a8\"], [0.3333333333333333, \"#9c179e\"], [0.4444444444444444, \"#bd3786\"], [0.5555555555555556, \"#d8576b\"], [0.6666666666666666, \"#ed7953\"], [0.7777777777777778, \"#fb9f3a\"], [0.8888888888888888, \"#fdca26\"], [1.0, \"#f0f921\"]]}, \"colorway\": [\"#636efa\", \"#EF553B\", \"#00cc96\", \"#ab63fa\", \"#FFA15A\", \"#19d3f3\", \"#FF6692\", \"#B6E880\", \"#FF97FF\", \"#FECB52\"], \"font\": {\"color\": \"#2a3f5f\"}, \"geo\": {\"bgcolor\": \"white\", \"lakecolor\": \"white\", \"landcolor\": \"#E5ECF6\", \"showlakes\": true, \"showland\": true, \"subunitcolor\": \"white\"}, \"hoverlabel\": {\"align\": \"left\"}, \"hovermode\": \"closest\", \"mapbox\": {\"style\": \"light\"}, \"paper_bgcolor\": \"white\", \"plot_bgcolor\": \"#E5ECF6\", \"polar\": {\"angularaxis\": {\"gridcolor\": \"white\", \"linecolor\": \"white\", \"ticks\": \"\"}, \"bgcolor\": \"#E5ECF6\", \"radialaxis\": {\"gridcolor\": \"white\", \"linecolor\": \"white\", \"ticks\": \"\"}}, \"scene\": {\"xaxis\": {\"backgroundcolor\": \"#E5ECF6\", \"gridcolor\": \"white\", \"gridwidth\": 2, \"linecolor\": \"white\", \"showbackground\": true, \"ticks\": \"\", \"zerolinecolor\": \"white\"}, \"yaxis\": {\"backgroundcolor\": \"#E5ECF6\", \"gridcolor\": \"white\", \"gridwidth\": 2, \"linecolor\": \"white\", \"showbackground\": true, \"ticks\": \"\", \"zerolinecolor\": \"white\"}, \"zaxis\": {\"backgroundcolor\": \"#E5ECF6\", \"gridcolor\": \"white\", \"gridwidth\": 2, \"linecolor\": \"white\", \"showbackground\": true, \"ticks\": \"\", \"zerolinecolor\": \"white\"}}, \"shapedefaults\": {\"line\": {\"color\": \"#2a3f5f\"}}, \"ternary\": {\"aaxis\": {\"gridcolor\": \"white\", \"linecolor\": \"white\", \"ticks\": \"\"}, \"baxis\": {\"gridcolor\": \"white\", \"linecolor\": \"white\", \"ticks\": \"\"}, \"bgcolor\": \"#E5ECF6\", \"caxis\": {\"gridcolor\": \"white\", \"linecolor\": \"white\", \"ticks\": \"\"}}, \"title\": {\"x\": 0.05}, \"xaxis\": {\"automargin\": true, \"gridcolor\": \"white\", \"linecolor\": \"white\", \"ticks\": \"\", \"title\": {\"standoff\": 15}, \"zerolinecolor\": \"white\", \"zerolinewidth\": 2}, \"yaxis\": {\"automargin\": true, \"gridcolor\": \"white\", \"linecolor\": \"white\", \"ticks\": \"\", \"title\": {\"standoff\": 15}, \"zerolinecolor\": \"white\", \"zerolinewidth\": 2}}}, \"title\": {\"text\": \"Average daily consumption for the years 2016-2019\"}, \"xaxis\": {\"anchor\": \"y\", \"domain\": [0.0, 1.0], \"title\": {\"text\": \"dayweek\"}}, \"yaxis\": {\"anchor\": \"x\", \"domain\": [0.0, 1.0], \"title\": {\"text\": \"LoadMW\"}}},\n",
              "                        {\"responsive\": true}\n",
              "                    ).then(function(){\n",
              "                            \n",
              "var gd = document.getElementById('96755ab7-5d12-43c1-a8db-8484a4a77028');\n",
              "var x = new MutationObserver(function (mutations, observer) {{\n",
              "        var display = window.getComputedStyle(gd).display;\n",
              "        if (!display || display === 'none') {{\n",
              "            console.log([gd, 'removed!']);\n",
              "            Plotly.purge(gd);\n",
              "            observer.disconnect();\n",
              "        }}\n",
              "}});\n",
              "\n",
              "// Listen for the removal of the full notebook cells\n",
              "var notebookContainer = gd.closest('#notebook-container');\n",
              "if (notebookContainer) {{\n",
              "    x.observe(notebookContainer, {childList: true});\n",
              "}}\n",
              "\n",
              "// Listen for the clearing of the current output cell\n",
              "var outputEl = gd.closest('.output');\n",
              "if (outputEl) {{\n",
              "    x.observe(outputEl, {childList: true});\n",
              "}}\n",
              "\n",
              "                        })\n",
              "                };\n",
              "                \n",
              "            </script>\n",
              "        </div>\n",
              "</body>\n",
              "</html>"
            ]
          },
          "metadata": {
            "tags": []
          }
        }
      ]
    },
    {
      "cell_type": "code",
      "metadata": {
        "id": "ZJg_sM9g1zpV",
        "colab_type": "code",
        "colab": {}
      },
      "source": [
        "df_MK_merged.to_csv(\"/content/MK_LoadData2016-2019.csv\", index=False)"
      ],
      "execution_count": 0,
      "outputs": []
    },
    {
      "cell_type": "code",
      "metadata": {
        "id": "NevxjIqo2FFo",
        "colab_type": "code",
        "outputId": "b321bf37-fc6e-46ab-d964-cdec7949f2e5",
        "colab": {
          "base_uri": "https://localhost:8080/",
          "height": 297
        }
      },
      "source": [
        "df_MK_final.head()\n",
        "df_MK_final.describe()"
      ],
      "execution_count": 26,
      "outputs": [
        {
          "output_type": "execute_result",
          "data": {
            "text/html": [
              "<div>\n",
              "<style scoped>\n",
              "    .dataframe tbody tr th:only-of-type {\n",
              "        vertical-align: middle;\n",
              "    }\n",
              "\n",
              "    .dataframe tbody tr th {\n",
              "        vertical-align: top;\n",
              "    }\n",
              "\n",
              "    .dataframe thead th {\n",
              "        text-align: right;\n",
              "    }\n",
              "</style>\n",
              "<table border=\"1\" class=\"dataframe\">\n",
              "  <thead>\n",
              "    <tr style=\"text-align: right;\">\n",
              "      <th></th>\n",
              "      <th>Load_Forecast(MW)</th>\n",
              "      <th>Load(MW)</th>\n",
              "      <th>dayweek</th>\n",
              "      <th>month</th>\n",
              "      <th>year</th>\n",
              "      <th>day</th>\n",
              "      <th>hour</th>\n",
              "    </tr>\n",
              "  </thead>\n",
              "  <tbody>\n",
              "    <tr>\n",
              "      <th>count</th>\n",
              "      <td>17112.000000</td>\n",
              "      <td>16536.000000</td>\n",
              "      <td>17522.000000</td>\n",
              "      <td>17522.000000</td>\n",
              "      <td>17522.000000</td>\n",
              "      <td>17522.000000</td>\n",
              "      <td>17522.000000</td>\n",
              "    </tr>\n",
              "    <tr>\n",
              "      <th>mean</th>\n",
              "      <td>823.012272</td>\n",
              "      <td>853.518263</td>\n",
              "      <td>2.993494</td>\n",
              "      <td>6.526424</td>\n",
              "      <td>2018.500000</td>\n",
              "      <td>15.721892</td>\n",
              "      <td>11.498916</td>\n",
              "    </tr>\n",
              "    <tr>\n",
              "      <th>std</th>\n",
              "      <td>196.347830</td>\n",
              "      <td>8220.879089</td>\n",
              "      <td>2.001901</td>\n",
              "      <td>3.447953</td>\n",
              "      <td>0.500014</td>\n",
              "      <td>8.796898</td>\n",
              "      <td>6.922733</td>\n",
              "    </tr>\n",
              "    <tr>\n",
              "      <th>min</th>\n",
              "      <td>291.000000</td>\n",
              "      <td>0.000000</td>\n",
              "      <td>0.000000</td>\n",
              "      <td>1.000000</td>\n",
              "      <td>2018.000000</td>\n",
              "      <td>1.000000</td>\n",
              "      <td>0.000000</td>\n",
              "    </tr>\n",
              "    <tr>\n",
              "      <th>25%</th>\n",
              "      <td>700.000000</td>\n",
              "      <td>635.000000</td>\n",
              "      <td>1.000000</td>\n",
              "      <td>4.000000</td>\n",
              "      <td>2018.000000</td>\n",
              "      <td>8.000000</td>\n",
              "      <td>5.000000</td>\n",
              "    </tr>\n",
              "    <tr>\n",
              "      <th>50%</th>\n",
              "      <td>798.000000</td>\n",
              "      <td>751.000000</td>\n",
              "      <td>3.000000</td>\n",
              "      <td>7.000000</td>\n",
              "      <td>2018.500000</td>\n",
              "      <td>16.000000</td>\n",
              "      <td>11.000000</td>\n",
              "    </tr>\n",
              "    <tr>\n",
              "      <th>75%</th>\n",
              "      <td>950.000000</td>\n",
              "      <td>907.000000</td>\n",
              "      <td>5.000000</td>\n",
              "      <td>10.000000</td>\n",
              "      <td>2019.000000</td>\n",
              "      <td>23.000000</td>\n",
              "      <td>17.000000</td>\n",
              "    </tr>\n",
              "    <tr>\n",
              "      <th>max</th>\n",
              "      <td>1449.000000</td>\n",
              "      <td>997974.000000</td>\n",
              "      <td>6.000000</td>\n",
              "      <td>12.000000</td>\n",
              "      <td>2019.000000</td>\n",
              "      <td>31.000000</td>\n",
              "      <td>23.000000</td>\n",
              "    </tr>\n",
              "  </tbody>\n",
              "</table>\n",
              "</div>"
            ],
            "text/plain": [
              "       Load_Forecast(MW)       Load(MW)  ...           day          hour\n",
              "count       17112.000000   16536.000000  ...  17522.000000  17522.000000\n",
              "mean          823.012272     853.518263  ...     15.721892     11.498916\n",
              "std           196.347830    8220.879089  ...      8.796898      6.922733\n",
              "min           291.000000       0.000000  ...      1.000000      0.000000\n",
              "25%           700.000000     635.000000  ...      8.000000      5.000000\n",
              "50%           798.000000     751.000000  ...     16.000000     11.000000\n",
              "75%           950.000000     907.000000  ...     23.000000     17.000000\n",
              "max          1449.000000  997974.000000  ...     31.000000     23.000000\n",
              "\n",
              "[8 rows x 7 columns]"
            ]
          },
          "metadata": {
            "tags": []
          },
          "execution_count": 26
        }
      ]
    },
    {
      "cell_type": "code",
      "metadata": {
        "id": "7lkZWC_o2kYm",
        "colab_type": "code",
        "outputId": "659b16a8-fa19-408a-e53a-641a6b9f8105",
        "colab": {
          "base_uri": "https://localhost:8080/",
          "height": 297
        }
      },
      "source": [
        "df_MK_final.rename(columns={'Load(MW)': 'LoadMW'}, inplace=True)\n",
        "df_rows4N=df_MK_final[(df_MK_final.LoadMW >= 3000) & (df_MK_final.LoadMW <=9999)].index\n",
        "df_MK_final.loc[df_rows4, 'LoadMW']=df_MK_final.loc[df_rows4N, 'LoadMW']/10\n",
        "df_rows5N=df_MK_final[(df_MK_final.LoadMW >= 10000) & (df_MK_final.LoadMW <=99999)].index\n",
        "df_MK_final.loc[df_rows5N, 'LoadMW']=df_MK_final.loc[df_rows5N, 'LoadMW']/100\n",
        "df_rows6N=df_MK_final[(df_MK_final.LoadMW >= 100000) & (df_MK_final.LoadMW <=999999)].index\n",
        "df_MK_final.loc[df_rows6N, 'LoadMW']=df_MK_final.loc[df_rows6N, 'LoadMW']/1000\n",
        "df_MK_final.describe()"
      ],
      "execution_count": 27,
      "outputs": [
        {
          "output_type": "execute_result",
          "data": {
            "text/html": [
              "<div>\n",
              "<style scoped>\n",
              "    .dataframe tbody tr th:only-of-type {\n",
              "        vertical-align: middle;\n",
              "    }\n",
              "\n",
              "    .dataframe tbody tr th {\n",
              "        vertical-align: top;\n",
              "    }\n",
              "\n",
              "    .dataframe thead th {\n",
              "        text-align: right;\n",
              "    }\n",
              "</style>\n",
              "<table border=\"1\" class=\"dataframe\">\n",
              "  <thead>\n",
              "    <tr style=\"text-align: right;\">\n",
              "      <th></th>\n",
              "      <th>Load_Forecast(MW)</th>\n",
              "      <th>LoadMW</th>\n",
              "      <th>dayweek</th>\n",
              "      <th>month</th>\n",
              "      <th>year</th>\n",
              "      <th>day</th>\n",
              "      <th>hour</th>\n",
              "    </tr>\n",
              "  </thead>\n",
              "  <tbody>\n",
              "    <tr>\n",
              "      <th>count</th>\n",
              "      <td>17112.000000</td>\n",
              "      <td>16536.000000</td>\n",
              "      <td>17522.000000</td>\n",
              "      <td>17522.000000</td>\n",
              "      <td>17522.000000</td>\n",
              "      <td>17522.000000</td>\n",
              "      <td>17522.000000</td>\n",
              "    </tr>\n",
              "    <tr>\n",
              "      <th>mean</th>\n",
              "      <td>823.012272</td>\n",
              "      <td>771.956825</td>\n",
              "      <td>2.993494</td>\n",
              "      <td>6.526424</td>\n",
              "      <td>2018.500000</td>\n",
              "      <td>15.721892</td>\n",
              "      <td>11.498916</td>\n",
              "    </tr>\n",
              "    <tr>\n",
              "      <th>std</th>\n",
              "      <td>196.347830</td>\n",
              "      <td>214.905588</td>\n",
              "      <td>2.001901</td>\n",
              "      <td>3.447953</td>\n",
              "      <td>0.500014</td>\n",
              "      <td>8.796898</td>\n",
              "      <td>6.922733</td>\n",
              "    </tr>\n",
              "    <tr>\n",
              "      <th>min</th>\n",
              "      <td>291.000000</td>\n",
              "      <td>0.000000</td>\n",
              "      <td>0.000000</td>\n",
              "      <td>1.000000</td>\n",
              "      <td>2018.000000</td>\n",
              "      <td>1.000000</td>\n",
              "      <td>0.000000</td>\n",
              "    </tr>\n",
              "    <tr>\n",
              "      <th>25%</th>\n",
              "      <td>700.000000</td>\n",
              "      <td>635.000000</td>\n",
              "      <td>1.000000</td>\n",
              "      <td>4.000000</td>\n",
              "      <td>2018.000000</td>\n",
              "      <td>8.000000</td>\n",
              "      <td>5.000000</td>\n",
              "    </tr>\n",
              "    <tr>\n",
              "      <th>50%</th>\n",
              "      <td>798.000000</td>\n",
              "      <td>751.000000</td>\n",
              "      <td>3.000000</td>\n",
              "      <td>7.000000</td>\n",
              "      <td>2018.500000</td>\n",
              "      <td>16.000000</td>\n",
              "      <td>11.000000</td>\n",
              "    </tr>\n",
              "    <tr>\n",
              "      <th>75%</th>\n",
              "      <td>950.000000</td>\n",
              "      <td>907.000000</td>\n",
              "      <td>5.000000</td>\n",
              "      <td>10.000000</td>\n",
              "      <td>2019.000000</td>\n",
              "      <td>23.000000</td>\n",
              "      <td>17.000000</td>\n",
              "    </tr>\n",
              "    <tr>\n",
              "      <th>max</th>\n",
              "      <td>1449.000000</td>\n",
              "      <td>1423.000000</td>\n",
              "      <td>6.000000</td>\n",
              "      <td>12.000000</td>\n",
              "      <td>2019.000000</td>\n",
              "      <td>31.000000</td>\n",
              "      <td>23.000000</td>\n",
              "    </tr>\n",
              "  </tbody>\n",
              "</table>\n",
              "</div>"
            ],
            "text/plain": [
              "       Load_Forecast(MW)        LoadMW  ...           day          hour\n",
              "count       17112.000000  16536.000000  ...  17522.000000  17522.000000\n",
              "mean          823.012272    771.956825  ...     15.721892     11.498916\n",
              "std           196.347830    214.905588  ...      8.796898      6.922733\n",
              "min           291.000000      0.000000  ...      1.000000      0.000000\n",
              "25%           700.000000    635.000000  ...      8.000000      5.000000\n",
              "50%           798.000000    751.000000  ...     16.000000     11.000000\n",
              "75%           950.000000    907.000000  ...     23.000000     17.000000\n",
              "max          1449.000000   1423.000000  ...     31.000000     23.000000\n",
              "\n",
              "[8 rows x 7 columns]"
            ]
          },
          "metadata": {
            "tags": []
          },
          "execution_count": 27
        }
      ]
    },
    {
      "cell_type": "code",
      "metadata": {
        "id": "S-lAvHXr5Quy",
        "colab_type": "code",
        "colab": {}
      },
      "source": [
        "df_MK_final.rename(columns={'Load_Forecast(MW)': 'ForecastMW'}, inplace=True)"
      ],
      "execution_count": 0,
      "outputs": []
    },
    {
      "cell_type": "code",
      "metadata": {
        "id": "uvZw3Ju65YVa",
        "colab_type": "code",
        "outputId": "1f4b42ce-ae7d-402d-c6b4-563e29f58b97",
        "colab": {
          "base_uri": "https://localhost:8080/",
          "height": 204
        }
      },
      "source": [
        "df_MK_final.head()"
      ],
      "execution_count": 29,
      "outputs": [
        {
          "output_type": "execute_result",
          "data": {
            "text/html": [
              "<div>\n",
              "<style scoped>\n",
              "    .dataframe tbody tr th:only-of-type {\n",
              "        vertical-align: middle;\n",
              "    }\n",
              "\n",
              "    .dataframe tbody tr th {\n",
              "        vertical-align: top;\n",
              "    }\n",
              "\n",
              "    .dataframe thead th {\n",
              "        text-align: right;\n",
              "    }\n",
              "</style>\n",
              "<table border=\"1\" class=\"dataframe\">\n",
              "  <thead>\n",
              "    <tr style=\"text-align: right;\">\n",
              "      <th></th>\n",
              "      <th>ForecastMW</th>\n",
              "      <th>LoadMW</th>\n",
              "      <th>dayweek</th>\n",
              "      <th>month</th>\n",
              "      <th>year</th>\n",
              "      <th>day</th>\n",
              "      <th>hour</th>\n",
              "      <th>weekend</th>\n",
              "    </tr>\n",
              "  </thead>\n",
              "  <tbody>\n",
              "    <tr>\n",
              "      <th>0</th>\n",
              "      <td>1010.0</td>\n",
              "      <td>923.0</td>\n",
              "      <td>0</td>\n",
              "      <td>1</td>\n",
              "      <td>2018</td>\n",
              "      <td>1</td>\n",
              "      <td>0</td>\n",
              "      <td>False</td>\n",
              "    </tr>\n",
              "    <tr>\n",
              "      <th>1</th>\n",
              "      <td>941.0</td>\n",
              "      <td>886.0</td>\n",
              "      <td>0</td>\n",
              "      <td>1</td>\n",
              "      <td>2018</td>\n",
              "      <td>1</td>\n",
              "      <td>1</td>\n",
              "      <td>False</td>\n",
              "    </tr>\n",
              "    <tr>\n",
              "      <th>2</th>\n",
              "      <td>858.0</td>\n",
              "      <td>821.0</td>\n",
              "      <td>0</td>\n",
              "      <td>1</td>\n",
              "      <td>2018</td>\n",
              "      <td>1</td>\n",
              "      <td>2</td>\n",
              "      <td>False</td>\n",
              "    </tr>\n",
              "    <tr>\n",
              "      <th>3</th>\n",
              "      <td>799.0</td>\n",
              "      <td>766.0</td>\n",
              "      <td>0</td>\n",
              "      <td>1</td>\n",
              "      <td>2018</td>\n",
              "      <td>1</td>\n",
              "      <td>3</td>\n",
              "      <td>False</td>\n",
              "    </tr>\n",
              "    <tr>\n",
              "      <th>4</th>\n",
              "      <td>769.0</td>\n",
              "      <td>727.0</td>\n",
              "      <td>0</td>\n",
              "      <td>1</td>\n",
              "      <td>2018</td>\n",
              "      <td>1</td>\n",
              "      <td>4</td>\n",
              "      <td>False</td>\n",
              "    </tr>\n",
              "  </tbody>\n",
              "</table>\n",
              "</div>"
            ],
            "text/plain": [
              "   ForecastMW  LoadMW  dayweek  month  year  day  hour  weekend\n",
              "0      1010.0   923.0        0      1  2018    1     0    False\n",
              "1       941.0   886.0        0      1  2018    1     1    False\n",
              "2       858.0   821.0        0      1  2018    1     2    False\n",
              "3       799.0   766.0        0      1  2018    1     3    False\n",
              "4       769.0   727.0        0      1  2018    1     4    False"
            ]
          },
          "metadata": {
            "tags": []
          },
          "execution_count": 29
        }
      ]
    },
    {
      "cell_type": "markdown",
      "metadata": {
        "id": "fwFBDKj_HJoO",
        "colab_type": "text"
      },
      "source": [
        "**Saving the load data ONLY, for 2018-2019 in a separate file.**"
      ]
    },
    {
      "cell_type": "code",
      "metadata": {
        "id": "61HaYLNF5e6a",
        "colab_type": "code",
        "colab": {}
      },
      "source": [
        "df_MK_final.to_csv(\"/content/MK_ForecastDataandLoadData2018-2019.csv\", index=False)"
      ],
      "execution_count": 0,
      "outputs": []
    },
    {
      "cell_type": "code",
      "metadata": {
        "id": "-W0es_Yf5oYb",
        "colab_type": "code",
        "outputId": "be8b65dd-a7aa-41c8-b8a6-550e4fb9479f",
        "colab": {
          "base_uri": "https://localhost:8080/",
          "height": 204
        }
      },
      "source": [
        "df_MK_forecastonly=df_MK_final.drop(\"LoadMW\", axis=1)\n",
        "df_MK_forecastonly.head()"
      ],
      "execution_count": 31,
      "outputs": [
        {
          "output_type": "execute_result",
          "data": {
            "text/html": [
              "<div>\n",
              "<style scoped>\n",
              "    .dataframe tbody tr th:only-of-type {\n",
              "        vertical-align: middle;\n",
              "    }\n",
              "\n",
              "    .dataframe tbody tr th {\n",
              "        vertical-align: top;\n",
              "    }\n",
              "\n",
              "    .dataframe thead th {\n",
              "        text-align: right;\n",
              "    }\n",
              "</style>\n",
              "<table border=\"1\" class=\"dataframe\">\n",
              "  <thead>\n",
              "    <tr style=\"text-align: right;\">\n",
              "      <th></th>\n",
              "      <th>ForecastMW</th>\n",
              "      <th>dayweek</th>\n",
              "      <th>month</th>\n",
              "      <th>year</th>\n",
              "      <th>day</th>\n",
              "      <th>hour</th>\n",
              "      <th>weekend</th>\n",
              "    </tr>\n",
              "  </thead>\n",
              "  <tbody>\n",
              "    <tr>\n",
              "      <th>0</th>\n",
              "      <td>1010.0</td>\n",
              "      <td>0</td>\n",
              "      <td>1</td>\n",
              "      <td>2018</td>\n",
              "      <td>1</td>\n",
              "      <td>0</td>\n",
              "      <td>False</td>\n",
              "    </tr>\n",
              "    <tr>\n",
              "      <th>1</th>\n",
              "      <td>941.0</td>\n",
              "      <td>0</td>\n",
              "      <td>1</td>\n",
              "      <td>2018</td>\n",
              "      <td>1</td>\n",
              "      <td>1</td>\n",
              "      <td>False</td>\n",
              "    </tr>\n",
              "    <tr>\n",
              "      <th>2</th>\n",
              "      <td>858.0</td>\n",
              "      <td>0</td>\n",
              "      <td>1</td>\n",
              "      <td>2018</td>\n",
              "      <td>1</td>\n",
              "      <td>2</td>\n",
              "      <td>False</td>\n",
              "    </tr>\n",
              "    <tr>\n",
              "      <th>3</th>\n",
              "      <td>799.0</td>\n",
              "      <td>0</td>\n",
              "      <td>1</td>\n",
              "      <td>2018</td>\n",
              "      <td>1</td>\n",
              "      <td>3</td>\n",
              "      <td>False</td>\n",
              "    </tr>\n",
              "    <tr>\n",
              "      <th>4</th>\n",
              "      <td>769.0</td>\n",
              "      <td>0</td>\n",
              "      <td>1</td>\n",
              "      <td>2018</td>\n",
              "      <td>1</td>\n",
              "      <td>4</td>\n",
              "      <td>False</td>\n",
              "    </tr>\n",
              "  </tbody>\n",
              "</table>\n",
              "</div>"
            ],
            "text/plain": [
              "   ForecastMW  dayweek  month  year  day  hour  weekend\n",
              "0      1010.0        0      1  2018    1     0    False\n",
              "1       941.0        0      1  2018    1     1    False\n",
              "2       858.0        0      1  2018    1     2    False\n",
              "3       799.0        0      1  2018    1     3    False\n",
              "4       769.0        0      1  2018    1     4    False"
            ]
          },
          "metadata": {
            "tags": []
          },
          "execution_count": 31
        }
      ]
    },
    {
      "cell_type": "markdown",
      "metadata": {
        "id": "ckyJ4P3EHYUw",
        "colab_type": "text"
      },
      "source": [
        "**Saving the forecasted data ONLY, for 2018-2019.**"
      ]
    },
    {
      "cell_type": "code",
      "metadata": {
        "id": "pi8R99Nz6JPN",
        "colab_type": "code",
        "colab": {}
      },
      "source": [
        "df_MK_forecastonly.to_csv(\"/content/MK_ForecastDataOnly2018-2019.csv\", index=False)"
      ],
      "execution_count": 0,
      "outputs": []
    },
    {
      "cell_type": "code",
      "metadata": {
        "id": "x3kFolmk69vL",
        "colab_type": "code",
        "outputId": "4968345f-3be1-47d7-a48b-68e693f27efa",
        "colab": {
          "base_uri": "https://localhost:8080/",
          "height": 297
        }
      },
      "source": [
        "df_MK_test=df_MK_merged[df_MK_merged.year==2019]\n",
        "df_MK_test.describe()"
      ],
      "execution_count": 33,
      "outputs": [
        {
          "output_type": "execute_result",
          "data": {
            "text/html": [
              "<div>\n",
              "<style scoped>\n",
              "    .dataframe tbody tr th:only-of-type {\n",
              "        vertical-align: middle;\n",
              "    }\n",
              "\n",
              "    .dataframe tbody tr th {\n",
              "        vertical-align: top;\n",
              "    }\n",
              "\n",
              "    .dataframe thead th {\n",
              "        text-align: right;\n",
              "    }\n",
              "</style>\n",
              "<table border=\"1\" class=\"dataframe\">\n",
              "  <thead>\n",
              "    <tr style=\"text-align: right;\">\n",
              "      <th></th>\n",
              "      <th>LoadMW</th>\n",
              "      <th>dayweek</th>\n",
              "      <th>month</th>\n",
              "      <th>year</th>\n",
              "      <th>day</th>\n",
              "      <th>hour</th>\n",
              "    </tr>\n",
              "  </thead>\n",
              "  <tbody>\n",
              "    <tr>\n",
              "      <th>count</th>\n",
              "      <td>8016.000000</td>\n",
              "      <td>8761.000000</td>\n",
              "      <td>8761.000000</td>\n",
              "      <td>8761.0</td>\n",
              "      <td>8761.000000</td>\n",
              "      <td>8761.000000</td>\n",
              "    </tr>\n",
              "    <tr>\n",
              "      <th>mean</th>\n",
              "      <td>779.476724</td>\n",
              "      <td>2.994864</td>\n",
              "      <td>6.526424</td>\n",
              "      <td>2019.0</td>\n",
              "      <td>15.721835</td>\n",
              "      <td>11.498916</td>\n",
              "    </tr>\n",
              "    <tr>\n",
              "      <th>std</th>\n",
              "      <td>210.231254</td>\n",
              "      <td>2.000250</td>\n",
              "      <td>3.448051</td>\n",
              "      <td>0.0</td>\n",
              "      <td>8.797072</td>\n",
              "      <td>6.922931</td>\n",
              "    </tr>\n",
              "    <tr>\n",
              "      <th>min</th>\n",
              "      <td>0.420000</td>\n",
              "      <td>0.000000</td>\n",
              "      <td>1.000000</td>\n",
              "      <td>2019.0</td>\n",
              "      <td>1.000000</td>\n",
              "      <td>0.000000</td>\n",
              "    </tr>\n",
              "    <tr>\n",
              "      <th>25%</th>\n",
              "      <td>637.000000</td>\n",
              "      <td>1.000000</td>\n",
              "      <td>4.000000</td>\n",
              "      <td>2019.0</td>\n",
              "      <td>8.000000</td>\n",
              "      <td>5.000000</td>\n",
              "    </tr>\n",
              "    <tr>\n",
              "      <th>50%</th>\n",
              "      <td>759.000000</td>\n",
              "      <td>3.000000</td>\n",
              "      <td>7.000000</td>\n",
              "      <td>2019.0</td>\n",
              "      <td>16.000000</td>\n",
              "      <td>11.000000</td>\n",
              "    </tr>\n",
              "    <tr>\n",
              "      <th>75%</th>\n",
              "      <td>902.000000</td>\n",
              "      <td>5.000000</td>\n",
              "      <td>10.000000</td>\n",
              "      <td>2019.0</td>\n",
              "      <td>23.000000</td>\n",
              "      <td>17.000000</td>\n",
              "    </tr>\n",
              "    <tr>\n",
              "      <th>max</th>\n",
              "      <td>1423.000000</td>\n",
              "      <td>6.000000</td>\n",
              "      <td>12.000000</td>\n",
              "      <td>2019.0</td>\n",
              "      <td>31.000000</td>\n",
              "      <td>23.000000</td>\n",
              "    </tr>\n",
              "  </tbody>\n",
              "</table>\n",
              "</div>"
            ],
            "text/plain": [
              "            LoadMW      dayweek        month    year          day         hour\n",
              "count  8016.000000  8761.000000  8761.000000  8761.0  8761.000000  8761.000000\n",
              "mean    779.476724     2.994864     6.526424  2019.0    15.721835    11.498916\n",
              "std     210.231254     2.000250     3.448051     0.0     8.797072     6.922931\n",
              "min       0.420000     0.000000     1.000000  2019.0     1.000000     0.000000\n",
              "25%     637.000000     1.000000     4.000000  2019.0     8.000000     5.000000\n",
              "50%     759.000000     3.000000     7.000000  2019.0    16.000000    11.000000\n",
              "75%     902.000000     5.000000    10.000000  2019.0    23.000000    17.000000\n",
              "max    1423.000000     6.000000    12.000000  2019.0    31.000000    23.000000"
            ]
          },
          "metadata": {
            "tags": []
          },
          "execution_count": 33
        }
      ]
    },
    {
      "cell_type": "code",
      "metadata": {
        "id": "JjDGpO5V7dMT",
        "colab_type": "code",
        "colab": {}
      },
      "source": [
        "df_MK_test.to_csv(\"/content/MK_test2019.csv\", index=False)"
      ],
      "execution_count": 0,
      "outputs": []
    }
  ]
}